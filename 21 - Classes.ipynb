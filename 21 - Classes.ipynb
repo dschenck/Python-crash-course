{
 "cells": [
  {
   "cell_type": "markdown",
   "metadata": {
    "collapsed": true,
    "deletable": true,
    "editable": true
   },
   "source": [
    "# Classes: creating you own data type"
   ]
  },
  {
   "cell_type": "markdown",
   "metadata": {},
   "source": [
    "## 1. Types and instances\n",
    "We have thus far seen about a dozen different data types: we started this course exploring the primitive types, including `strings`, `floats`, `integers`, `booleans` and the special `None` type. We then introduced some container-like types, including `lists`, `tuples`, `sets` and `dictionaries`. Finally, we used a few imported types such as `date`, `time` and `datetime` types. A **type** - also known as a **class** - is an *abstract* concept that defines a group of values and how each instance of that group should behave and interact with each other.\n",
    "\n",
    "For example: the `boolean` type defines two values: `True` and `False`, intended to represent the truthfulness of a given statement. \n",
    "\n",
    "In comparison, the number 3, the string `'David is awesome'` and `{'France':'Paris'}` are **instances** of the integer, the string and the dictionary types. These are just one of many possible value of each of the above types.  "
   ]
  },
  {
   "cell_type": "markdown",
   "metadata": {},
   "source": [
    "### 1.1. Checking for type\n",
    "We can check whether a value is of a given type using the `isinstance` built-in function"
   ]
  },
  {
   "cell_type": "code",
   "execution_count": 1,
   "metadata": {
    "collapsed": false
   },
   "outputs": [
    {
     "name": "stdout",
     "output_type": "stream",
     "text": [
      "True\n",
      "True\n",
      "True\n",
      "True\n",
      "True\n"
     ]
    }
   ],
   "source": [
    "print(isinstance(True, bool))\n",
    "print(isinstance(1, int))\n",
    "print(isinstance(2.5, float))\n",
    "print(isinstance('Pure happiness', str))\n",
    "print(isinstance([2,4,6,8,10], list))\n",
    "#and so forth..."
   ]
  },
  {
   "cell_type": "code",
   "execution_count": 2,
   "metadata": {
    "collapsed": false
   },
   "outputs": [
    {
     "name": "stdout",
     "output_type": "stream",
     "text": [
      "True\n",
      "True\n"
     ]
    }
   ],
   "source": [
    "#The isinstance function can take a tuple of types too\n",
    "print(isinstance(3.1415, (int, float)))\n",
    "\n",
    "#this is equivalent to \n",
    "print(isinstance(3.1415, int) or isinstance(3.1415, float))"
   ]
  },
  {
   "cell_type": "markdown",
   "metadata": {},
   "source": [
    "## 2. Creating your own data types\n",
    "Python also allows us to create our own data types, also known as `classes`. But first, let's see using a trivial example why using a user-defined custom class can help us write robust and elegant solutions.   "
   ]
  },
  {
   "cell_type": "markdown",
   "metadata": {},
   "source": [
    "### 2.1. Code is about modelization...\n",
    "Imagine you wanted to model a bank account and create a specific type for that purpose. For simplicity, assume a bank account has a number (e.g. IBAN), a currency (e.g. USD) and records the history of transactions, including cash withdrawals and deposits and other non-cash transactions (payments)."
   ]
  },
  {
   "cell_type": "code",
   "execution_count": 3,
   "metadata": {
    "collapsed": true
   },
   "outputs": [],
   "source": [
    "#we define a new class using the class keyword\n",
    "#think of a class as a template\n",
    "#the convention is to capitalize classes\n",
    "class Account:\n",
    "    #the __init__ method is called when you create a new instance of Account\n",
    "    #the self keyword refers to the instance being created\n",
    "    def __init__(self, number, currency, balance=0):\n",
    "        self.number       = number\n",
    "        self.currency     = currency\n",
    "        self.transactions = []\n",
    "        self.balance      = balance"
   ]
  },
  {
   "cell_type": "code",
   "execution_count": 4,
   "metadata": {
    "collapsed": false
   },
   "outputs": [
    {
     "name": "stdout",
     "output_type": "stream",
     "text": [
      "Account number: #12345678\n",
      "Account currency: USD\n",
      "Account transactions: []\n",
      "Account balance: 0\n"
     ]
    }
   ],
   "source": [
    "#now create a new account instance\n",
    "#like functions, you create a new class instance by calling it\n",
    "checking = Account(number=\"#12345678\", currency=\"USD\")\n",
    "\n",
    "#checking is an instance of Account\n",
    "#just like 3 is an instance of int\n",
    "#and has tree properties\n",
    "print(\"Account number:\", checking.number)\n",
    "print(\"Account currency:\", checking.currency)\n",
    "print(\"Account transactions:\", checking.transactions)\n",
    "print(\"Account balance:\", checking.balance)"
   ]
  },
  {
   "cell_type": "code",
   "execution_count": 5,
   "metadata": {
    "collapsed": false
   },
   "outputs": [
    {
     "name": "stdout",
     "output_type": "stream",
     "text": [
      "Account number: #987654321\n",
      "Account currency: USD\n",
      "Account transactions: []\n",
      "Account balance: 100\n"
     ]
    }
   ],
   "source": [
    "#create another instance of account\n",
    "savings = Account(\"#987654321\", \"USD\", balance=100)\n",
    "\n",
    "#savings is also an instance of Account\n",
    "#just like 10 is also an instance of int\n",
    "#and has tree properties\n",
    "print(\"Account number:\", savings.number)\n",
    "print(\"Account currency:\", savings.currency)\n",
    "print(\"Account transactions:\", savings.transactions)\n",
    "print(\"Account balance:\", savings.balance)"
   ]
  },
  {
   "cell_type": "markdown",
   "metadata": {},
   "source": [
    "### 2.2.  ... and classes are about encapsulation"
   ]
  },
  {
   "cell_type": "markdown",
   "metadata": {},
   "source": [
    "Let's now record a transaction to our checking account. For simplicity, a transaction will be a dictionary composed of: \n",
    "1. an amount: a positive number\n",
    "2. a type: a string representing the type of transaction, where `DEBIT` is for outgoing payments and `CREDIT` is for incoming payments\n",
    "3. a brief description."
   ]
  },
  {
   "cell_type": "code",
   "execution_count": 6,
   "metadata": {
    "collapsed": true
   },
   "outputs": [],
   "source": [
    "#for our checking account\n",
    "t1 = {\"amount\":10000, \"type\":'CREDIT', \"description\":\"Initial deposit\"}\n",
    "checking.transactions.append(t1)"
   ]
  },
  {
   "cell_type": "code",
   "execution_count": 7,
   "metadata": {
    "collapsed": false
   },
   "outputs": [
    {
     "name": "stdout",
     "output_type": "stream",
     "text": [
      "Transactions: [{'amount': 10000, 'type': 'CREDIT', 'description': 'Initial deposit'}]\n",
      "Balance (USD): 0\n"
     ]
    }
   ],
   "source": [
    "#Can you spot the problem? \n",
    "print(\"Transactions:\", checking.transactions)\n",
    "print(\"Balance (USD):\", checking.balance) #this was not changed!"
   ]
  },
  {
   "cell_type": "code",
   "execution_count": 8,
   "metadata": {
    "collapsed": true
   },
   "outputs": [],
   "source": [
    "#Let's therefore rewrite the Account class with a method to record a transaction\n",
    "#This method will add the transaction to the history AND amend the balance\n",
    "\n",
    "class Account:\n",
    "    def __init__(self, number, currency, balance=0):\n",
    "        self.number       = number\n",
    "        self.currency     = currency\n",
    "        self.transactions = []\n",
    "        self.balance      = balance\n",
    "        \n",
    "    def record(self, transaction):\n",
    "        self.transactions.append(transaction)\n",
    "        if transaction[\"type\"] == \"CREDIT\":\n",
    "            self.balance += transaction[\"amount\"]\n",
    "        else: \n",
    "            self.balance -= transaction[\"amount\"]\n",
    "            "
   ]
  },
  {
   "cell_type": "code",
   "execution_count": 9,
   "metadata": {
    "collapsed": false
   },
   "outputs": [
    {
     "name": "stdout",
     "output_type": "stream",
     "text": [
      "Transactions: [{'amount': 10000, 'type': 'CREDIT', 'description': 'Initial deposit'}]\n",
      "Balance (USD): 10000\n"
     ]
    }
   ],
   "source": [
    "#Let's re-create our checking account\n",
    "checking = Account(number=\"#12345678\", currency=\"USD\")\n",
    "checking.record({\"amount\":10000, \"type\":'CREDIT', \"description\":\"Initial deposit\"})\n",
    "\n",
    "#It's much better now! \n",
    "print(\"Transactions:\", checking.transactions)\n",
    "print(\"Balance (USD):\", checking.balance) #this was not changed!"
   ]
  },
  {
   "cell_type": "markdown",
   "metadata": {},
   "source": [
    "### 2.3. Encapsulated-validation\n",
    "What happens now if our transaction dictionary is not well forme? "
   ]
  },
  {
   "cell_type": "code",
   "execution_count": 10,
   "metadata": {
    "collapsed": false
   },
   "outputs": [
    {
     "name": "stdout",
     "output_type": "stream",
     "text": [
      "Transactions: [{'amount': 10000, 'type': 'CREDIT', 'description': 'Initial deposit'}, {'amount': -3000, 'type': None}]\n",
      "Balance (USD): 13000\n"
     ]
    }
   ],
   "source": [
    "#this transaction has a negative amount, no type and no description\n",
    "checking.record({\"amount\":-3000, \"type\":None})\n",
    "\n",
    "print(\"Transactions:\", checking.transactions)\n",
    "print(\"Balance (USD):\", checking.balance)    \n",
    "#Our account history is corrupted!"
   ]
  },
  {
   "cell_type": "code",
   "execution_count": 11,
   "metadata": {
    "collapsed": true
   },
   "outputs": [],
   "source": [
    "#Let's rewrite the class with a few validations\n",
    "class Account:\n",
    "    def __init__(self, number, currency, balance=0):\n",
    "        #Let's make sure the initial balance is a number\n",
    "        if not isinstance(balance, (int, float)): \n",
    "            raise ValueError(\"The initial balance should be a number\")\n",
    "            \n",
    "        self.number       = number\n",
    "        self.currency     = currency\n",
    "        self.transactions = []\n",
    "        self.balance      = balance\n",
    "        \n",
    "    def record(self, transaction):\n",
    "        #let's make sure our transaction is a dictionary\n",
    "        if not isinstance(transaction, dict):\n",
    "            raise ValueError(\"The transaction should be a dictionary\")\n",
    "            \n",
    "        #let's make sure each transaction has the three expected fields\n",
    "        if not all([field in transaction for field in [\"amount\", \"type\",\"description\"]]):\n",
    "            raise ValueError(\"Each transaction should have an amount, a type and a description\")\n",
    "            \n",
    "        #let's make sure type is either 'CREDIT' or 'DEBIT'\n",
    "        if not transaction['type'] in ['CREDIT', 'DEBIT']:\n",
    "            raise ValueError('The transaction type should be one of CREDIT or DEBIT')\n",
    "            \n",
    "        #let's make sure the amount is positive number (float or integer)\n",
    "        if not isinstance(transaction[\"amount\"], (int, float)) or transaction[\"amount\"] < 0: \n",
    "            raise ValueError(\"The transaction amount should be a positive number\")\n",
    "            \n",
    "        #All good?\n",
    "        #Let's record the transaction and amend the balance\n",
    "        self.transactions.append(transaction)\n",
    "        if transaction[\"type\"] == \"CREDIT\":\n",
    "            self.balance += transaction[\"amount\"]\n",
    "        else: \n",
    "            self.balance -= transaction[\"amount\"]"
   ]
  },
  {
   "cell_type": "code",
   "execution_count": 12,
   "metadata": {
    "collapsed": false
   },
   "outputs": [
    {
     "name": "stdout",
     "output_type": "stream",
     "text": [
      "Transactions: [{'amount': 10000, 'type': 'CREDIT', 'description': 'Initial deposit'}]\n",
      "Balance (USD): 10000\n",
      "Error: Each transaction should have an amount, a type and a description\n"
     ]
    }
   ],
   "source": [
    "checking = Account(number=\"#12345678\", currency=\"USD\")\n",
    "checking.record({\"amount\":10000, \"type\":'CREDIT', \"description\":\"Initial deposit\"})\n",
    "\n",
    "print(\"Transactions:\", checking.transactions)\n",
    "print(\"Balance (USD):\", checking.balance)\n",
    "\n",
    "#the below will throw an error, so let's catch it and print it\n",
    "try: \n",
    "    checking.record({\"amount\":-3000, \"type\":None})\n",
    "except ValueError as error:\n",
    "    print(\"Error:\", error)"
   ]
  },
  {
   "cell_type": "markdown",
   "metadata": {},
   "source": [
    "### 2.4. Creating an interface: adding more methods"
   ]
  },
  {
   "cell_type": "code",
   "execution_count": 13,
   "metadata": {
    "collapsed": true
   },
   "outputs": [],
   "source": [
    "#Let's add a few methods\n",
    "#Let's also comment our code\n",
    "class Account:\n",
    "    def __init__(self, number, currency, balance=0):\n",
    "        \"\"\"\n",
    "        Bank account model\n",
    "        \n",
    "        Arguments\n",
    "        ---------\n",
    "        number   : the bank account number (e.g. IBAN)\n",
    "        currency : the three-letter currency code of the account (e.g. USD) \n",
    "        balance  : the initial bank account balance\n",
    "        \n",
    "        Properties\n",
    "        --------- \n",
    "        number       : the bank account number (e.g. IBAN)\n",
    "        currency     : the three-letter currency code of the account (e.g. USD) \n",
    "        balance      : the initial bank account balance\n",
    "        transactions : a list of transactions\n",
    "        \"\"\"\n",
    "        #Let's make sure the initial balance is a number\n",
    "        if not isinstance(balance, (int, float)): \n",
    "            raise ValueError(\"The initial balance should be a number\")\n",
    "            \n",
    "        self.number       = number\n",
    "        self.currency     = currency\n",
    "        self.transactions = []\n",
    "        self.balance      = balance\n",
    "        \n",
    "    def record(self, transaction):\n",
    "        \"\"\"\n",
    "        Method to record a new transaction. \n",
    "        \n",
    "        Arguments\n",
    "        ---------\n",
    "        transaction  : a dictionary representing the transaction\n",
    "        \n",
    "        Remarks\n",
    "        ---------\n",
    "        The method will check the transaction is well formed\n",
    "        \"\"\"\n",
    "        #let's make sure our transaction is a dictionary\n",
    "        if not isinstance(transaction, dict):\n",
    "            raise ValueError(\"The transaction should be a dictionary\")\n",
    "            \n",
    "        #let's make sure each transaction has the three expected fields\n",
    "        if not all([field in transaction for field in [\"amount\", \"type\",\"description\"]]):\n",
    "            raise ValueError(\"Each transaction should have an amount, a type and a description\")\n",
    "            \n",
    "        #let's make sure type is either 'CREDIT' or 'DEBIT'\n",
    "        if not transaction['type'] in ['CREDIT', 'DEBIT']:\n",
    "            raise ValueError('The transaction type should be one of CREDIT or DEBIT')\n",
    "            \n",
    "        #let's make sure the amount is positive number (float or integer)\n",
    "        if not isinstance(transaction[\"amount\"], (int, float)) or transaction[\"amount\"] < 0: \n",
    "            raise ValueError(\"The transaction amount should be a positive number\")\n",
    "            \n",
    "        #All good?\n",
    "        #Let's record the transaction and amend the balance\n",
    "        self.transactions.append(transaction)\n",
    "        if transaction[\"type\"] == \"CREDIT\":\n",
    "            self.balance += transaction[\"amount\"]\n",
    "        else: \n",
    "            self.balance -= transaction[\"amount\"]\n",
    "            \n",
    "    def debits(self):\n",
    "        \"\"\"\n",
    "        Method to return a list of all the debit transactions made to the account\n",
    "        \"\"\"\n",
    "        return [transaction for transaction in self.transactions if transaction[\"type\"] == 'DEBIT']\n",
    "    \n",
    "    def credits(self):\n",
    "        \"\"\"\n",
    "        Method to return a list of all the credit transactions made to the account\n",
    "        \"\"\"\n",
    "        return [transaction for transaction in self.transactions if transaction[\"type\"] == 'CREDIT']\n",
    "    \n",
    "    def deposit(self, amount):\n",
    "        \"\"\"\n",
    "        Convenience method to add a new cash deposit\n",
    "        \"\"\"\n",
    "        self.record({'amount':amount, 'type':'CREDIT', 'description':'Cash deposit'})\n",
    "        return self\n",
    "        \n",
    "    def withdraw(self, amount):\n",
    "        \"\"\"\n",
    "        Convenience method to add a new cash deposit\n",
    "        \"\"\"\n",
    "        self.record({'amount':amount, 'type':'DEBIT', 'description':'Cash withdrawal'})\n",
    "        return self\n",
    "    \n",
    "    def send(self, recipient, amount):\n",
    "        \"\"\"\n",
    "        Method to send money from this account to another recipient\n",
    "        Debits this account and credits the other account\n",
    "        \n",
    "        Arguments\n",
    "        ---------\n",
    "        recipient : other account to send the payment to\n",
    "        amount    : amount to be sent\n",
    "        \n",
    "        \"\"\"\n",
    "        #let's make sure the recipient is an account type\n",
    "        if not isinstance(recipient, Account):\n",
    "            raise ValueError(\"The recipient should an Account, {} given\".format(type(recipient)))\n",
    "            \n",
    "        #let's make sure the two accounts are in the same currency\n",
    "        if self.currency != recipient.currency: \n",
    "            raise ValueError(\"The other account should be in the same currency\")\n",
    "            \n",
    "        self.record({\"amount\":amount, \"type\":'DEBIT', \"description\":\"Payment to {}\".format(recipient.number)})\n",
    "        recipient.record({\"amount\":amount, \"type\":'CREDIT', \"description\":\"Payment from {}\".format(self.number)})\n",
    "        return self"
   ]
  },
  {
   "cell_type": "code",
   "execution_count": 14,
   "metadata": {
    "collapsed": false
   },
   "outputs": [
    {
     "name": "stdout",
     "output_type": "stream",
     "text": [
      "Help on class Account in module __main__:\n",
      "\n",
      "class Account(builtins.object)\n",
      " |  Methods defined here:\n",
      " |  \n",
      " |  __init__(self, number, currency, balance=0)\n",
      " |      Bank account model\n",
      " |      \n",
      " |      Arguments\n",
      " |      ---------\n",
      " |      number   : the bank account number (e.g. IBAN)\n",
      " |      currency : the three-letter currency code of the account (e.g. USD) \n",
      " |      balance  : the initial bank account balance\n",
      " |      \n",
      " |      Properties\n",
      " |      --------- \n",
      " |      number       : the bank account number (e.g. IBAN)\n",
      " |      currency     : the three-letter currency code of the account (e.g. USD) \n",
      " |      balance      : the initial bank account balance\n",
      " |      transactions : a list of transactions\n",
      " |  \n",
      " |  credits(self)\n",
      " |      Method to return a list of all the credit transactions made to the account\n",
      " |  \n",
      " |  debits(self)\n",
      " |      Method to return a list of all the debit transactions made to the account\n",
      " |  \n",
      " |  deposit(self, amount)\n",
      " |      Convenience method to add a new cash deposit\n",
      " |  \n",
      " |  record(self, transaction)\n",
      " |      Method to record a new transaction. \n",
      " |      \n",
      " |      Arguments\n",
      " |      ---------\n",
      " |      transaction  : a dictionary representing the transaction\n",
      " |      \n",
      " |      Remarks\n",
      " |      ---------\n",
      " |      The method will check the transaction is well formed\n",
      " |  \n",
      " |  send(self, recipient, amount)\n",
      " |      Method to send money from this account to another recipient\n",
      " |      Debits this account and credits the other account\n",
      " |      \n",
      " |      Arguments\n",
      " |      ---------\n",
      " |      recipient : other account to send the payment to\n",
      " |      amount    : amount to be sent\n",
      " |  \n",
      " |  withdraw(self, amount)\n",
      " |      Convenience method to add a new cash deposit\n",
      " |  \n",
      " |  ----------------------------------------------------------------------\n",
      " |  Data descriptors defined here:\n",
      " |  \n",
      " |  __dict__\n",
      " |      dictionary for instance variables (if defined)\n",
      " |  \n",
      " |  __weakref__\n",
      " |      list of weak references to the object (if defined)\n",
      "\n"
     ]
    }
   ],
   "source": [
    "help(Account)"
   ]
  },
  {
   "cell_type": "markdown",
   "metadata": {},
   "source": [
    "### 2.5 Enhancing encapsulation: read-only properties"
   ]
  },
  {
   "cell_type": "code",
   "execution_count": 16,
   "metadata": {
    "collapsed": false
   },
   "outputs": [
    {
     "name": "stdout",
     "output_type": "stream",
     "text": [
      "600\n",
      "900\n",
      "0\n"
     ]
    }
   ],
   "source": [
    "#Create two accounts\n",
    "checking = Account(number=\"#123456789\", currency=\"USD\", balance=1000)\n",
    "savings = Account(number=\"#123456789\", currency=\"USD\", balance=0)\n",
    "\n",
    "#Make a few payments\n",
    "savings.deposit(1000)\n",
    "savings.withdraw(500)\n",
    "checking.send(savings, amount=100)\n",
    "\n",
    "#Print the balances\n",
    "print(savings.balance)\n",
    "print(checking.balance)\n",
    "\n",
    "#What happens if I directly override the balance property? \n",
    "savings.balance = 0 \n",
    "print(savings.balance) #whoops - someone stole all my money! "
   ]
  },
  {
   "cell_type": "code",
   "execution_count": 17,
   "metadata": {
    "collapsed": false
   },
   "outputs": [],
   "source": [
    "#We will tweak the Account class definition such that the .balance property is read-only\n",
    "class Account:\n",
    "    def __init__(self, number, currency, balance=0):\n",
    "        #... same as above, but change\n",
    "        #this is a convention: don't EVER touch underscored properties\n",
    "        self._balance = balance\n",
    "        \n",
    "    def getbalance(self):\n",
    "        return self._balance\n",
    "    \n",
    "    #here is the magic\n",
    "    #you define balance as a read-only property using the property function\n",
    "    #this function takes 1 to 4 arguments\n",
    "    #the first one is the 'getter' function argument, named fget\n",
    "    balance = property(fget=getbalance)"
   ]
  },
  {
   "cell_type": "code",
   "execution_count": 18,
   "metadata": {
    "collapsed": false
   },
   "outputs": [
    {
     "name": "stdout",
     "output_type": "stream",
     "text": [
      "20\n",
      "Error: can't set attribute\n"
     ]
    }
   ],
   "source": [
    "#Let's try it out\n",
    "savings = Account(\"#123456789\", \"USD\", balance=20)\n",
    "\n",
    "#let's get the value\n",
    "print(savings.balance)\n",
    "\n",
    "#let's try to assign a new value\n",
    "#this will throw an error, so let's catch it\n",
    "try: \n",
    "    savings.balance = 100\n",
    "except Exception as error: \n",
    "    print(\"Error:\", error)"
   ]
  },
  {
   "cell_type": "markdown",
   "metadata": {},
   "source": [
    "### 2.6. Read and write properties"
   ]
  },
  {
   "cell_type": "code",
   "execution_count": 19,
   "metadata": {
    "collapsed": false
   },
   "outputs": [],
   "source": [
    "class Account:\n",
    "    def __init__(self, number, currency, balance=0):\n",
    "        #this is a convention: don't EVER touch underscored properties\n",
    "        self._category = \"RETAIL\" #one of \"RETAIL\", \"PROFESSIONAL\" or \"INSTITUTIONAL\"\n",
    "        \n",
    "    def getcategory(self):\n",
    "        return self._category\n",
    "    \n",
    "    def setcategory(self, value):\n",
    "        if value not in [\"RETAIL\",\"PROFESSIONAL\",\"INSTITUTIONAL\"]: \n",
    "            raise ValueError(\"Category must be one of RETAIL, PROFESSIONAL, INSTITUTIONAL\")\n",
    "        self._category = value\n",
    "        \n",
    "    category = property(getcategory, setcategory)"
   ]
  },
  {
   "cell_type": "code",
   "execution_count": 20,
   "metadata": {
    "collapsed": false
   },
   "outputs": [
    {
     "name": "stdout",
     "output_type": "stream",
     "text": [
      "RETAIL\n",
      "Error: Category must be one of RETAIL, PROFESSIONAL, INSTITUTIONAL\n"
     ]
    }
   ],
   "source": [
    "#let's try it out! \n",
    "#Let's try it out\n",
    "savings = Account(\"#123456789\", \"USD\", balance=20)\n",
    "savings.category = 'RETAIL'\n",
    "\n",
    "#let's get the value\n",
    "print(savings.category)\n",
    "\n",
    "#let's try to assign a new, invalid value\n",
    "#this will throw an error, so let's catch it\n",
    "try: \n",
    "    savings.category = 'UNKNWON'\n",
    "except Exception as error: \n",
    "    print(\"Error:\", error)"
   ]
  },
  {
   "cell_type": "code",
   "execution_count": null,
   "metadata": {
    "collapsed": true
   },
   "outputs": [],
   "source": []
  }
 ],
 "metadata": {
  "kernelspec": {
   "display_name": "Python 3",
   "language": "python",
   "name": "python3"
  },
  "language_info": {
   "codemirror_mode": {
    "name": "ipython",
    "version": 3
   },
   "file_extension": ".py",
   "mimetype": "text/x-python",
   "name": "python",
   "nbconvert_exporter": "python",
   "pygments_lexer": "ipython3",
   "version": "3.6.1"
  }
 },
 "nbformat": 4,
 "nbformat_minor": 2
}
