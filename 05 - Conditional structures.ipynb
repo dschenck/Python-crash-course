{
 "cells": [
  {
   "cell_type": "markdown",
   "metadata": {
    "deletable": true,
    "editable": true
   },
   "source": [
    "# Conditional structures"
   ]
  },
  {
   "cell_type": "markdown",
   "metadata": {
    "deletable": true,
    "editable": true
   },
   "source": [
    "## Form 1: `if`...`else`..."
   ]
  },
  {
   "cell_type": "code",
   "execution_count": 1,
   "metadata": {
    "collapsed": false,
    "deletable": true,
    "editable": true
   },
   "outputs": [
    {
     "name": "stdout",
     "output_type": "stream",
     "text": [
      "2 x 3 is equal to 6\n"
     ]
    }
   ],
   "source": [
    "#Simplest form\n",
    "if 2 * 3 == 6: \n",
    "    print(\"2 x 3 is equal to 6\")"
   ]
  },
  {
   "cell_type": "code",
   "execution_count": 2,
   "metadata": {
    "collapsed": true,
    "deletable": true,
    "editable": true
   },
   "outputs": [],
   "source": [
    "if 2 + 8 == 9:\n",
    "    print(\"This will not print\")"
   ]
  },
  {
   "cell_type": "code",
   "execution_count": 3,
   "metadata": {
    "collapsed": false,
    "deletable": true,
    "editable": true
   },
   "outputs": [
    {
     "name": "stdout",
     "output_type": "stream",
     "text": [
      "You are too young to enter the casino\n"
     ]
    }
   ],
   "source": [
    "#if... else...\n",
    "age = 17\n",
    "\n",
    "if age >= 18: \n",
    "    print(\"You can enter the casino\")\n",
    "else: \n",
    "    print(\"You are too young to enter the casino\")"
   ]
  },
  {
   "cell_type": "code",
   "execution_count": 4,
   "metadata": {
    "collapsed": false,
    "deletable": true,
    "editable": true
   },
   "outputs": [
    {
     "name": "stdout",
     "output_type": "stream",
     "text": [
      "You are CEO (yes, that went quickly)\n"
     ]
    }
   ],
   "source": [
    "#if... else if (elif)... else\n",
    "experience = 10\n",
    "\n",
    "if experience < 3: \n",
    "    print('You are an analyst')\n",
    "elif experience < 6: \n",
    "    print('You are an associate')\n",
    "else: \n",
    "    print('You are CEO (yes, that went quickly)')\n",
    "    "
   ]
  },
  {
   "cell_type": "code",
   "execution_count": 5,
   "metadata": {
    "collapsed": false,
    "deletable": true,
    "editable": true
   },
   "outputs": [
    {
     "name": "stdout",
     "output_type": "stream",
     "text": [
      "Go for a walk!\n"
     ]
    }
   ],
   "source": [
    "#layered conditions\n",
    "weekend = True\n",
    "raining = False\n",
    "\n",
    "if weekend: \n",
    "    if raining: \n",
    "        print('Stay indoors')\n",
    "    else: \n",
    "        print('Go for a walk!')\n",
    "else: \n",
    "    print('You should go to work')"
   ]
  },
  {
   "cell_type": "markdown",
   "metadata": {
    "deletable": true,
    "editable": true
   },
   "source": [
    "## Form 2: `while`..."
   ]
  },
  {
   "cell_type": "code",
   "execution_count": 8,
   "metadata": {
    "collapsed": false,
    "deletable": true,
    "editable": true
   },
   "outputs": [
    {
     "name": "stdout",
     "output_type": "stream",
     "text": [
      "At 5, you are still a kid\n",
      "At 10, you are still a kid\n",
      "At 15, you are still a kid\n"
     ]
    }
   ],
   "source": [
    "age = 5\n",
    "\n",
    "while age < 18: \n",
    "    print('At {}, you are still a kid'.format(age))\n",
    "    age = age + 5"
   ]
  },
  {
   "cell_type": "code",
   "execution_count": 9,
   "metadata": {
    "collapsed": false,
    "deletable": true,
    "editable": true
   },
   "outputs": [
    {
     "name": "stdout",
     "output_type": "stream",
     "text": [
      "2 is a multiple of 2\n",
      "3 is not a multiple of 2\n",
      "4 is a multiple of 2\n",
      "5 is not a multiple of 2\n",
      "6 is a multiple of 2\n",
      "7 is not a multiple of 2\n",
      "8 is a multiple of 2\n",
      "9 is not a multiple of 2\n"
     ]
    }
   ],
   "source": [
    "n = 2\n",
    "\n",
    "while n < 10: \n",
    "    if n % 2 == 0: \n",
    "        print(\"{} is a multiple of 2\".format(n))\n",
    "    else:\n",
    "        print(\"{} is not a multiple of 2\".format(n))\n",
    "    n += 1"
   ]
  },
  {
   "cell_type": "markdown",
   "metadata": {
    "deletable": true,
    "editable": true
   },
   "source": [
    "## Tips and tricks"
   ]
  },
  {
   "cell_type": "code",
   "execution_count": 10,
   "metadata": {
    "collapsed": false,
    "deletable": true,
    "editable": true
   },
   "outputs": [
    {
     "name": "stdout",
     "output_type": "stream",
     "text": [
      "This will not raise an error\n"
     ]
    }
   ],
   "source": [
    "#python only evaluates as many conditions as necessary\n",
    "if (1 == 1) or 1/0: \n",
    "    print('This will not raise an error')"
   ]
  },
  {
   "cell_type": "code",
   "execution_count": 11,
   "metadata": {
    "collapsed": false,
    "deletable": true,
    "editable": true
   },
   "outputs": [
    {
     "ename": "ZeroDivisionError",
     "evalue": "division by zero",
     "output_type": "error",
     "traceback": [
      "\u001b[0;31m---------------------------------------------------------------------------\u001b[0m",
      "\u001b[0;31mZeroDivisionError\u001b[0m                         Traceback (most recent call last)",
      "\u001b[0;32m<ipython-input-11-7e002eaaad20>\u001b[0m in \u001b[0;36m<module>\u001b[0;34m()\u001b[0m\n\u001b[0;32m----> 1\u001b[0;31m \u001b[0;32mif\u001b[0m \u001b[0;34m(\u001b[0m\u001b[0;36m1\u001b[0m \u001b[0;34m==\u001b[0m \u001b[0;36m1\u001b[0m\u001b[0;34m)\u001b[0m \u001b[0;32mand\u001b[0m \u001b[0;36m1\u001b[0m\u001b[0;34m/\u001b[0m\u001b[0;36m0\u001b[0m\u001b[0;34m:\u001b[0m\u001b[0;34m\u001b[0m\u001b[0m\n\u001b[0m\u001b[1;32m      2\u001b[0m     \u001b[0mprint\u001b[0m\u001b[0;34m(\u001b[0m\u001b[0;34m'This will however raise an error'\u001b[0m\u001b[0;34m)\u001b[0m\u001b[0;34m\u001b[0m\u001b[0m\n",
      "\u001b[0;31mZeroDivisionError\u001b[0m: division by zero"
     ]
    }
   ],
   "source": [
    "if (1 == 1) and 1/0: \n",
    "    print('This will however raise an error')"
   ]
  },
  {
   "cell_type": "code",
   "execution_count": 12,
   "metadata": {
    "collapsed": false,
    "deletable": true,
    "editable": true
   },
   "outputs": [
    {
     "name": "stdout",
     "output_type": "stream",
     "text": [
      "You are a father\n"
     ]
    }
   ],
   "source": [
    "#ternary groups\n",
    "kids = 4\n",
    "\n",
    "status = \"father\" if kids > 0 else \"man\"\n",
    "\n",
    "print(\"You are a \" + status)"
   ]
  },
  {
   "cell_type": "code",
   "execution_count": 14,
   "metadata": {
    "collapsed": false,
    "deletable": true,
    "editable": true
   },
   "outputs": [
    {
     "name": "stdout",
     "output_type": "stream",
     "text": [
      "You are a father\n"
     ]
    }
   ],
   "source": [
    "#the above is a shortcut for \n",
    "kids = 4\n",
    "\n",
    "if kids > 0: \n",
    "    status = \"father\"\n",
    "else: \n",
    "    status = \"man\"\n",
    "\n",
    "print('You are a ' + status)"
   ]
  },
  {
   "cell_type": "code",
   "execution_count": 15,
   "metadata": {
    "collapsed": false,
    "deletable": true,
    "editable": true
   },
   "outputs": [
    {
     "ename": "SyntaxError",
     "evalue": "invalid syntax (<ipython-input-15-9844a206c3b6>, line 2)",
     "output_type": "error",
     "traceback": [
      "\u001b[0;36m  File \u001b[0;32m\"<ipython-input-15-9844a206c3b6>\"\u001b[0;36m, line \u001b[0;32m2\u001b[0m\n\u001b[0;31m    if 1 = 2:\u001b[0m\n\u001b[0m         ^\u001b[0m\n\u001b[0;31mSyntaxError\u001b[0m\u001b[0;31m:\u001b[0m invalid syntax\n"
     ]
    }
   ],
   "source": [
    "#make sure to understand the difference between assignment and comparisons\n",
    "if 1 = 2: \n",
    "    print('The truth of life is...')"
   ]
  }
 ],
 "metadata": {
  "kernelspec": {
   "display_name": "Python 3",
   "language": "python",
   "name": "python3"
  },
  "language_info": {
   "codemirror_mode": {
    "name": "ipython",
    "version": 3
   },
   "file_extension": ".py",
   "mimetype": "text/x-python",
   "name": "python",
   "nbconvert_exporter": "python",
   "pygments_lexer": "ipython3",
   "version": "3.6.1"
  }
 },
 "nbformat": 4,
 "nbformat_minor": 2
}
