{
 "cells": [
  {
   "cell_type": "markdown",
   "metadata": {
    "deletable": true,
    "editable": true
   },
   "source": [
    "# Tuples\n",
    "Tuples are container-like objects like lists and contain values. Unlike lists however, tuples are immutable: once a tuple is defined, you can't change it. "
   ]
  },
  {
   "cell_type": "code",
   "execution_count": 1,
   "metadata": {
    "collapsed": false,
    "deletable": true,
    "editable": true
   },
   "outputs": [
    {
     "name": "stdout",
     "output_type": "stream",
     "text": [
      "(2, 3)\n"
     ]
    }
   ],
   "source": [
    "pair = (2, 3)\n",
    "print(pair)"
   ]
  },
  {
   "cell_type": "code",
   "execution_count": 2,
   "metadata": {
    "collapsed": false,
    "deletable": true,
    "editable": true
   },
   "outputs": [
    {
     "data": {
      "text/plain": [
       "tuple"
      ]
     },
     "execution_count": 2,
     "metadata": {},
     "output_type": "execute_result"
    }
   ],
   "source": [
    "type(pair)"
   ]
  },
  {
   "cell_type": "code",
   "execution_count": 3,
   "metadata": {
    "collapsed": false,
    "deletable": true,
    "editable": true
   },
   "outputs": [
    {
     "name": "stdout",
     "output_type": "stream",
     "text": [
      "2\n"
     ]
    }
   ],
   "source": [
    "print(len(pair))"
   ]
  },
  {
   "cell_type": "markdown",
   "metadata": {
    "deletable": true,
    "editable": true
   },
   "source": [
    "## 1. Operations"
   ]
  },
  {
   "cell_type": "code",
   "execution_count": 4,
   "metadata": {
    "collapsed": false,
    "deletable": true,
    "editable": true
   },
   "outputs": [
    {
     "name": "stdout",
     "output_type": "stream",
     "text": [
      "('Bob', 'Mark', 'Mike', 'Alice', 'Celine', 'Manon')\n"
     ]
    }
   ],
   "source": [
    "boyfriends  = (\"Bob\", \"Mark\", \"Mike\")\n",
    "girlfriends = (\"Alice\", \"Celine\", \"Manon\")\n",
    "\n",
    "#concatenate two tuples\n",
    "print(boyfriends + girlfriends)"
   ]
  },
  {
   "cell_type": "code",
   "execution_count": 5,
   "metadata": {
    "collapsed": false,
    "deletable": true,
    "editable": true
   },
   "outputs": [
    {
     "name": "stdout",
     "output_type": "stream",
     "text": [
      "True\n"
     ]
    }
   ],
   "source": [
    "#Check if value is container\n",
    "print(\"Alice\" in girlfriends)"
   ]
  },
  {
   "cell_type": "markdown",
   "metadata": {
    "deletable": true,
    "editable": true
   },
   "source": [
    "## 2. Tuples are indexable, sliceable and iterable... like lists"
   ]
  },
  {
   "cell_type": "code",
   "execution_count": 6,
   "metadata": {
    "collapsed": true,
    "deletable": true,
    "editable": true
   },
   "outputs": [],
   "source": [
    "kids = ('Catharina', 'Sarah', 'Charlie')"
   ]
  },
  {
   "cell_type": "code",
   "execution_count": 7,
   "metadata": {
    "collapsed": false,
    "deletable": true,
    "editable": true
   },
   "outputs": [
    {
     "name": "stdout",
     "output_type": "stream",
     "text": [
      "Catharina\n",
      "Charlie\n"
     ]
    }
   ],
   "source": [
    "#indexable\n",
    "print(kids[0])\n",
    "print(kids[-1])"
   ]
  },
  {
   "cell_type": "code",
   "execution_count": 8,
   "metadata": {
    "collapsed": false,
    "deletable": true,
    "editable": true
   },
   "outputs": [
    {
     "name": "stdout",
     "output_type": "stream",
     "text": [
      "('Sarah', 'Charlie')\n",
      "('Sarah', 'Charlie')\n"
     ]
    }
   ],
   "source": [
    "#sliceable\n",
    "print(kids[1:3])\n",
    "print(kids[-2:])"
   ]
  },
  {
   "cell_type": "code",
   "execution_count": 9,
   "metadata": {
    "collapsed": false,
    "deletable": true,
    "editable": true
   },
   "outputs": [
    {
     "name": "stdout",
     "output_type": "stream",
     "text": [
      "Catharina\n",
      "Sarah\n",
      "Charlie\n"
     ]
    }
   ],
   "source": [
    "#iterable\n",
    "for kid in kids: \n",
    "    print(kid)"
   ]
  },
  {
   "cell_type": "markdown",
   "metadata": {
    "deletable": true,
    "editable": true
   },
   "source": [
    "## 3. Tuple use cases"
   ]
  },
  {
   "cell_type": "markdown",
   "metadata": {
    "deletable": true,
    "editable": true
   },
   "source": [
    "### 3.1. Functions can return tuples\n"
   ]
  },
  {
   "cell_type": "code",
   "execution_count": 10,
   "metadata": {
    "collapsed": false,
    "deletable": true,
    "editable": true
   },
   "outputs": [
    {
     "name": "stdout",
     "output_type": "stream",
     "text": [
      "(3.0, 2)\n"
     ]
    }
   ],
   "source": [
    "#returns the whole division and rest\n",
    "def divide(value, divisor):\n",
    "    rest = value % divisor\n",
    "    result = (value - rest) / divisor\n",
    "    \n",
    "    return (result, rest)\n",
    "\n",
    "print(divide(11, 3))"
   ]
  },
  {
   "cell_type": "markdown",
   "metadata": {
    "deletable": true,
    "editable": true
   },
   "source": [
    "You can destructure tuples into variables, as per below:"
   ]
  },
  {
   "cell_type": "code",
   "execution_count": 11,
   "metadata": {
    "collapsed": false,
    "deletable": true,
    "editable": true
   },
   "outputs": [
    {
     "name": "stdout",
     "output_type": "stream",
     "text": [
      "George\n",
      "Clooney\n"
     ]
    }
   ],
   "source": [
    "firstname, lastname = (\"George\", \"Clooney\")\n",
    "\n",
    "print(firstname)\n",
    "print(lastname)"
   ]
  },
  {
   "cell_type": "code",
   "execution_count": 12,
   "metadata": {
    "collapsed": false,
    "deletable": true,
    "editable": true
   },
   "outputs": [
    {
     "ename": "ValueError",
     "evalue": "not enough values to unpack (expected 3, got 2)",
     "output_type": "error",
     "traceback": [
      "\u001b[0;31m---------------------------------------------------------------------------\u001b[0m",
      "\u001b[0;31mValueError\u001b[0m                                Traceback (most recent call last)",
      "\u001b[0;32m<ipython-input-12-1a4a92be183f>\u001b[0m in \u001b[0;36m<module>\u001b[0;34m()\u001b[0m\n\u001b[1;32m      1\u001b[0m \u001b[0;31m#But you need to make sure you have the same number of variables than you have values in your tuples\u001b[0m\u001b[0;34m\u001b[0m\u001b[0;34m\u001b[0m\u001b[0m\n\u001b[0;32m----> 2\u001b[0;31m \u001b[0mfirstname\u001b[0m\u001b[0;34m,\u001b[0m \u001b[0mlastname\u001b[0m\u001b[0;34m,\u001b[0m \u001b[0mbirthday\u001b[0m \u001b[0;34m=\u001b[0m \u001b[0;34m(\u001b[0m\u001b[0;34m\"Mariah\"\u001b[0m\u001b[0;34m,\u001b[0m \u001b[0;34m\"Carey\"\u001b[0m\u001b[0;34m)\u001b[0m\u001b[0;34m\u001b[0m\u001b[0m\n\u001b[0m",
      "\u001b[0;31mValueError\u001b[0m: not enough values to unpack (expected 3, got 2)"
     ]
    }
   ],
   "source": [
    "#But you need to make sure you have the same number of variables than you have values in your tuples\n",
    "firstname, lastname, birthday = (\"Mariah\", \"Carey\")"
   ]
  },
  {
   "cell_type": "markdown",
   "metadata": {
    "deletable": true,
    "editable": true
   },
   "source": [
    "### 3.2. Enumerate function\n",
    "The `enumerate` function is a built-in function that accepts a list (or any other iterable) and returns a list of tuples (index, value), where the index is the 0-based position in the iterable of the value"
   ]
  },
  {
   "cell_type": "code",
   "execution_count": 13,
   "metadata": {
    "collapsed": false,
    "deletable": true,
    "editable": true
   },
   "outputs": [
    {
     "name": "stdout",
     "output_type": "stream",
     "text": [
      "0 Daddy Bob\n",
      "1 Mommy Alice\n",
      "2 sis' Lola\n",
      "3 bro Brian\n",
      "4 baby\n",
      "5 dog\n"
     ]
    }
   ],
   "source": [
    "family = [\"Daddy Bob\",\"Mommy Alice\",\"sis' Lola\", \"bro Brian\", \"baby\", \"dog\"]\n",
    "\n",
    "for t in enumerate(family):\n",
    "    #t is a tuple (index, value)\n",
    "    print(t[0], t[1])"
   ]
  },
  {
   "cell_type": "code",
   "execution_count": 14,
   "metadata": {
    "collapsed": false,
    "deletable": true,
    "editable": true
   },
   "outputs": [
    {
     "name": "stdout",
     "output_type": "stream",
     "text": [
      "0 Daddy Bob\n",
      "1 Mommy Alice\n",
      "2 sis' Lola\n",
      "3 bro Brian\n",
      "4 baby\n",
      "5 dog\n"
     ]
    }
   ],
   "source": [
    "#Using the variable destructuring\n",
    "for i, name in enumerate(family):\n",
    "    print(i, name)"
   ]
  }
 ],
 "metadata": {
  "kernelspec": {
   "display_name": "Python 3",
   "language": "python",
   "name": "python3"
  },
  "language_info": {
   "codemirror_mode": {
    "name": "ipython",
    "version": 3
   },
   "file_extension": ".py",
   "mimetype": "text/x-python",
   "name": "python",
   "nbconvert_exporter": "python",
   "pygments_lexer": "ipython3",
   "version": "3.6.1"
  }
 },
 "nbformat": 4,
 "nbformat_minor": 2
}
