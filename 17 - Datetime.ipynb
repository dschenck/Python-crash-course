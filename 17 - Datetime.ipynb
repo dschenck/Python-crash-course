{
 "cells": [
  {
   "cell_type": "markdown",
   "metadata": {
    "deletable": true,
    "editable": true
   },
   "source": [
    "# Datetime\n",
    "Managing temporal data is of utmost importance, especially in finance. In this section, we explore the `datetime` module, which exposes four new data types: \n",
    "1. the `date` type, to represent dates (e.g. my birthday, 17 June 1991)\n",
    "2. the `time` type, to represent a generic moment in time (e.g. lunch is at 12:30)\n",
    "3. the `datetime` type, to combine the two above (e.g. Today, 3 May 2019 at 15:00), \n",
    "4. the `timedelta` type, to represent the length of time between two dates or two datetimes\n",
    "\n",
    "There is also a `timezone` object, which will be useful for those working across different time zones. It is important to note to distinguish the datetime module from the datetime type that the module exposes. **First thing first, let's simply import the `datetime` module**:"
   ]
  },
  {
   "cell_type": "code",
   "execution_count": 1,
   "metadata": {
    "collapsed": true,
    "deletable": true,
    "editable": true
   },
   "outputs": [],
   "source": [
    "import datetime"
   ]
  },
  {
   "cell_type": "markdown",
   "metadata": {
    "deletable": true,
    "editable": true
   },
   "source": [
    "## 1. Date"
   ]
  },
  {
   "cell_type": "code",
   "execution_count": 2,
   "metadata": {
    "collapsed": false,
    "deletable": true,
    "editable": true
   },
   "outputs": [
    {
     "name": "stdout",
     "output_type": "stream",
     "text": [
      "2019-05-23\n"
     ]
    }
   ],
   "source": [
    "#Create a date: year, month and day\n",
    "elections = datetime.date(2019, 5, 23)\n",
    "print(elections)"
   ]
  },
  {
   "cell_type": "code",
   "execution_count": 3,
   "metadata": {
    "collapsed": false,
    "deletable": true,
    "editable": true
   },
   "outputs": [
    {
     "data": {
      "text/plain": [
       "datetime.date"
      ]
     },
     "execution_count": 3,
     "metadata": {},
     "output_type": "execute_result"
    }
   ],
   "source": [
    "type(elections)"
   ]
  },
  {
   "cell_type": "markdown",
   "metadata": {
    "deletable": true,
    "editable": true
   },
   "source": [
    "### 1.1. Comparisons"
   ]
  },
  {
   "cell_type": "code",
   "execution_count": 4,
   "metadata": {
    "collapsed": false,
    "deletable": true,
    "editable": true
   },
   "outputs": [
    {
     "name": "stdout",
     "output_type": "stream",
     "text": [
      "True\n",
      "True\n"
     ]
    }
   ],
   "source": [
    "#You can compare two dates to each other... \n",
    "#Pretty intuitive stuff really\n",
    "print(elections > datetime.date(2019, 1, 1))\n",
    "print(elections == datetime.date(2019, 5, 23))"
   ]
  },
  {
   "cell_type": "markdown",
   "metadata": {
    "deletable": true,
    "editable": true
   },
   "source": [
    "### 1.1. Properties\n",
    "We haven't really seen properties much until now. Properties, like methods, are attached to instances of an object. Unlike methods - which are functions - properties are just values. For now, simply imagine a `Human` object: a human instance (e.g. me) has properties (height, weight) and methods (walk, eat, reproduce)."
   ]
  },
  {
   "cell_type": "code",
   "execution_count": 5,
   "metadata": {
    "collapsed": false,
    "deletable": true,
    "editable": true
   },
   "outputs": [
    {
     "name": "stdout",
     "output_type": "stream",
     "text": [
      "23\n",
      "5\n",
      "2019\n"
     ]
    }
   ],
   "source": [
    "#day, month and year\n",
    "print(elections.day)\n",
    "print(elections.month)\n",
    "print(elections.year)"
   ]
  },
  {
   "cell_type": "markdown",
   "metadata": {
    "deletable": true,
    "editable": true
   },
   "source": [
    "### 1.2. Methods"
   ]
  },
  {
   "cell_type": "code",
   "execution_count": 6,
   "metadata": {
    "collapsed": false,
    "deletable": true,
    "editable": true
   },
   "outputs": [
    {
     "name": "stdout",
     "output_type": "stream",
     "text": [
      "3\n"
     ]
    }
   ],
   "source": [
    "#Get the week day of the date\n",
    "#careful! this is 0-based (0 being Monday!)\n",
    "print(elections.weekday())"
   ]
  },
  {
   "cell_type": "code",
   "execution_count": 7,
   "metadata": {
    "collapsed": false,
    "deletable": true,
    "editable": true
   },
   "outputs": [
    {
     "name": "stdout",
     "output_type": "stream",
     "text": [
      "(2019, 21, 4)\n"
     ]
    }
   ],
   "source": [
    "#a 3-tuple containing ISO year, week number, and weekday.\n",
    "#careful, this is not a tuple of year, month, day\n",
    "print(elections.isocalendar())"
   ]
  },
  {
   "cell_type": "code",
   "execution_count": 8,
   "metadata": {
    "collapsed": false,
    "deletable": true,
    "editable": true
   },
   "outputs": [
    {
     "name": "stdout",
     "output_type": "stream",
     "text": [
      "2019-05-23\n"
     ]
    }
   ],
   "source": [
    "#return a string representation of the date, using the YYYY-MM-DD format\n",
    "print(elections.isoformat())"
   ]
  },
  {
   "cell_type": "code",
   "execution_count": 9,
   "metadata": {
    "collapsed": false,
    "deletable": true,
    "editable": true
   },
   "outputs": [
    {
     "name": "stdout",
     "output_type": "stream",
     "text": [
      "2024-05-23\n",
      "2019-05-23\n"
     ]
    }
   ],
   "source": [
    "#modify and return a new datetime object\n",
    "print(elections.replace(year=2024))\n",
    "print(elections) #the operation returns a new date object, it is not in-place"
   ]
  },
  {
   "cell_type": "code",
   "execution_count": 10,
   "metadata": {
    "collapsed": false,
    "deletable": true,
    "editable": true
   },
   "outputs": [
    {
     "name": "stdout",
     "output_type": "stream",
     "text": [
      "2019-05-12\n",
      "2019-06-14\n"
     ]
    }
   ],
   "source": [
    "#replace accepts 1 to 3 arguments: year, month and day\n",
    "print(elections.replace(day=12))\n",
    "print(elections.replace(month=6, day=14))"
   ]
  },
  {
   "cell_type": "code",
   "execution_count": 11,
   "metadata": {
    "collapsed": false,
    "deletable": true,
    "editable": true
   },
   "outputs": [
    {
     "name": "stdout",
     "output_type": "stream",
     "text": [
      "2019-06-24\n"
     ]
    }
   ],
   "source": [
    "#get today's date\n",
    "today = datetime.date.today()\n",
    "print(today)"
   ]
  },
  {
   "cell_type": "code",
   "execution_count": 12,
   "metadata": {
    "collapsed": false,
    "deletable": true,
    "editable": true
   },
   "outputs": [
    {
     "name": "stdout",
     "output_type": "stream",
     "text": [
      "2019-05-03\n",
      "03 May 19\n",
      "Friday 03 May\n",
      "123th day of the year\n"
     ]
    }
   ],
   "source": [
    "#Convert a date to a special string representation\n",
    "#Characters preceeded by a % will be replaced by some conversion\n",
    "#Print or bookmark www.strftime.org for the different options \n",
    "print(today.strftime(\"%Y-%m-%d\"))\n",
    "print(today.strftime(\"%d %B %y\"))\n",
    "print(today.strftime(\"%A %d %b\"))\n",
    "print(today.strftime(\"%jth day of the year\")) #Note the %jth is just %j + th"
   ]
  },
  {
   "cell_type": "code",
   "execution_count": 13,
   "metadata": {
    "collapsed": false,
    "deletable": true,
    "editable": true
   },
   "outputs": [
    {
     "name": "stdout",
     "output_type": "stream",
     "text": [
      "0001-01-01\n",
      "9999-12-31\n"
     ]
    }
   ],
   "source": [
    "#datetime.date objects can only go from year 1 to year 9999\n",
    "#it's unlikely you'll ever need to go beyond 9999...\n",
    "print(datetime.date.min)\n",
    "print(datetime.date.max)"
   ]
  },
  {
   "cell_type": "markdown",
   "metadata": {
    "deletable": true,
    "editable": true
   },
   "source": [
    "## 2. Time\n",
    "The `time` object is intended to represent a moment in time, with no particular date attached to it. It is **not** intended to represent a duration - we will see the `timedelta` object later below, which is a lot more useful to represent durations. "
   ]
  },
  {
   "cell_type": "code",
   "execution_count": 14,
   "metadata": {
    "collapsed": false,
    "deletable": true,
    "editable": true
   },
   "outputs": [
    {
     "name": "stdout",
     "output_type": "stream",
     "text": [
      "14:30:00\n"
     ]
    }
   ],
   "source": [
    "service = datetime.time(14, 30)\n",
    "print(service)"
   ]
  },
  {
   "cell_type": "code",
   "execution_count": 15,
   "metadata": {
    "collapsed": false,
    "deletable": true,
    "editable": true
   },
   "outputs": [
    {
     "data": {
      "text/plain": [
       "datetime.time"
      ]
     },
     "execution_count": 15,
     "metadata": {},
     "output_type": "execute_result"
    }
   ],
   "source": [
    "type(service)"
   ]
  },
  {
   "cell_type": "markdown",
   "metadata": {
    "deletable": true,
    "editable": true
   },
   "source": [
    "### 2.1. Comparisons"
   ]
  },
  {
   "cell_type": "code",
   "execution_count": 16,
   "metadata": {
    "collapsed": false,
    "deletable": true,
    "editable": true
   },
   "outputs": [
    {
     "name": "stdout",
     "output_type": "stream",
     "text": [
      "False\n"
     ]
    }
   ],
   "source": [
    "print(datetime.time(14, 30) > datetime.time(16, 20))"
   ]
  },
  {
   "cell_type": "markdown",
   "metadata": {
    "deletable": true,
    "editable": true
   },
   "source": [
    "### 2.2. Properties"
   ]
  },
  {
   "cell_type": "code",
   "execution_count": 17,
   "metadata": {
    "collapsed": false,
    "deletable": true,
    "editable": true
   },
   "outputs": [
    {
     "name": "stdout",
     "output_type": "stream",
     "text": [
      "14\n",
      "30\n",
      "0\n",
      "0\n"
     ]
    }
   ],
   "source": [
    "print(service.hour)\n",
    "print(service.minute)\n",
    "print(service.second)\n",
    "print(service.microsecond)"
   ]
  },
  {
   "cell_type": "markdown",
   "metadata": {
    "deletable": true,
    "editable": true
   },
   "source": [
    "### 2.3. Methods"
   ]
  },
  {
   "cell_type": "code",
   "execution_count": 18,
   "metadata": {
    "collapsed": false,
    "deletable": true,
    "editable": true
   },
   "outputs": [
    {
     "name": "stdout",
     "output_type": "stream",
     "text": [
      "12:30:00\n",
      "14:30:00\n"
     ]
    }
   ],
   "source": [
    "#replace the value of a property by another\n",
    "print(service.replace(hour=12))\n",
    "print(service) #the above is not in-place: it returns a new object!"
   ]
  },
  {
   "cell_type": "code",
   "execution_count": 19,
   "metadata": {
    "collapsed": false,
    "deletable": true,
    "editable": true
   },
   "outputs": [
    {
     "name": "stdout",
     "output_type": "stream",
     "text": [
      "14:30:00\n"
     ]
    }
   ],
   "source": [
    "#format to the standard ISO string\n",
    "print(service.isoformat())"
   ]
  },
  {
   "cell_type": "code",
   "execution_count": 20,
   "metadata": {
    "collapsed": false,
    "deletable": true,
    "editable": true
   },
   "outputs": [
    {
     "name": "stdout",
     "output_type": "stream",
     "text": [
      "le service commence à 14h30\n"
     ]
    }
   ],
   "source": [
    "#or to a format of your choosing! \n",
    "#speak French?\n",
    "print(service.strftime(\"le service commence à %Hh%M\"))"
   ]
  },
  {
   "cell_type": "markdown",
   "metadata": {
    "deletable": true,
    "editable": true
   },
   "source": [
    "## 3. Datetime\n",
    "This type is useful to represent a moment in time, combinining the power of the `date` and the `time` object!"
   ]
  },
  {
   "cell_type": "code",
   "execution_count": 21,
   "metadata": {
    "collapsed": false,
    "deletable": true,
    "editable": true
   },
   "outputs": [
    {
     "name": "stdout",
     "output_type": "stream",
     "text": [
      "1991-06-17 14:23:00\n"
     ]
    }
   ],
   "source": [
    "#datetime\n",
    "#someone was born on 17 June 1991 at 14:23\n",
    "birth = datetime.datetime(1991, 6, 17, 14, 23)\n",
    "print(birth)"
   ]
  },
  {
   "cell_type": "code",
   "execution_count": 22,
   "metadata": {
    "collapsed": false,
    "deletable": true,
    "editable": true
   },
   "outputs": [
    {
     "data": {
      "text/plain": [
       "datetime.datetime"
      ]
     },
     "execution_count": 22,
     "metadata": {},
     "output_type": "execute_result"
    }
   ],
   "source": [
    "type(birth)"
   ]
  },
  {
   "cell_type": "code",
   "execution_count": 23,
   "metadata": {
    "collapsed": false,
    "deletable": true,
    "editable": true
   },
   "outputs": [
    {
     "name": "stdout",
     "output_type": "stream",
     "text": [
      "2019-05-14 15:32:50.200000\n"
     ]
    }
   ],
   "source": [
    "#The 7th argument is the number of microseconds\n",
    "#1000 microsecond = 1ms\n",
    "trade = datetime.datetime(2019, 5, 14, 15, 32, 50, 200000)\n",
    "print(trade)"
   ]
  },
  {
   "cell_type": "code",
   "execution_count": 24,
   "metadata": {
    "collapsed": false,
    "deletable": true,
    "editable": true
   },
   "outputs": [
    {
     "name": "stdout",
     "output_type": "stream",
     "text": [
      "2019-12-31 00:00:00\n"
     ]
    }
   ],
   "source": [
    "#Only the first three arguments are required (year, month, day) \n",
    "#non-specified arguments will be assumed at 0 (e.g. midnight)\n",
    "print(datetime.datetime(2019, 12, 31))"
   ]
  },
  {
   "cell_type": "markdown",
   "metadata": {
    "deletable": true,
    "editable": true
   },
   "source": [
    "### 3.1. Comparisons"
   ]
  },
  {
   "cell_type": "code",
   "execution_count": 25,
   "metadata": {
    "collapsed": false,
    "deletable": true,
    "editable": true
   },
   "outputs": [
    {
     "name": "stdout",
     "output_type": "stream",
     "text": [
      "False\n",
      "True\n"
     ]
    }
   ],
   "source": [
    "#You can compare two datetimes like you would with numbers\n",
    "print(trade > datetime.datetime(2019, 6, 1))\n",
    "print(trade == datetime.datetime(2019, 5, 14, 15, 32, 50, 200000))"
   ]
  },
  {
   "cell_type": "markdown",
   "metadata": {
    "deletable": true,
    "editable": true
   },
   "source": [
    "### 3.2. Properties"
   ]
  },
  {
   "cell_type": "code",
   "execution_count": 26,
   "metadata": {
    "collapsed": false,
    "deletable": true,
    "editable": true
   },
   "outputs": [
    {
     "name": "stdout",
     "output_type": "stream",
     "text": [
      "2019\n",
      "5\n",
      "14\n",
      "15\n",
      "32\n",
      "50\n",
      "200000\n"
     ]
    }
   ],
   "source": [
    "print(trade.year)\n",
    "print(trade.month)\n",
    "print(trade.day)\n",
    "print(trade.hour)\n",
    "print(trade.minute)\n",
    "print(trade.second)\n",
    "print(trade.microsecond)"
   ]
  },
  {
   "cell_type": "markdown",
   "metadata": {
    "deletable": true,
    "editable": true
   },
   "source": [
    "### 3.3. Methods\n",
    "The `datetime` has all the same methods as the `date` object, and further has the following"
   ]
  },
  {
   "cell_type": "code",
   "execution_count": 27,
   "metadata": {
    "collapsed": false,
    "deletable": true,
    "editable": true
   },
   "outputs": [
    {
     "data": {
      "text/plain": [
       "'Tue May 14 15:32:50 2019'"
      ]
     },
     "execution_count": 27,
     "metadata": {},
     "output_type": "execute_result"
    }
   ],
   "source": [
    "#Convert a datetime to the string representation\n",
    "trade.ctime()"
   ]
  },
  {
   "cell_type": "code",
   "execution_count": 28,
   "metadata": {
    "collapsed": false,
    "deletable": true,
    "editable": true
   },
   "outputs": [
    {
     "data": {
      "text/plain": [
       "1557844370.2"
      ]
     },
     "execution_count": 28,
     "metadata": {},
     "output_type": "execute_result"
    }
   ],
   "source": [
    "#Number of seconds since XXXX\n",
    "trade.timestamp()"
   ]
  },
  {
   "cell_type": "code",
   "execution_count": 29,
   "metadata": {
    "collapsed": false,
    "deletable": true,
    "editable": true
   },
   "outputs": [
    {
     "name": "stdout",
     "output_type": "stream",
     "text": [
      "2019-05-14 15 hours 32 minutes\n"
     ]
    }
   ],
   "source": [
    "#Like the date object, you can convert a datetime to a string\n",
    "#Again, look at www.strftime.org for more formats\n",
    "print(trade.strftime('%Y-%m-%d %H hours %M minutes'))"
   ]
  },
  {
   "cell_type": "code",
   "execution_count": 12,
   "metadata": {
    "collapsed": false,
    "deletable": true,
    "editable": true
   },
   "outputs": [
    {
     "name": "stdout",
     "output_type": "stream",
     "text": [
      "2019-06-14 20:04:00\n"
     ]
    }
   ],
   "source": [
    "#importantly, you can also convert (parse) a string back to a datetime\n",
    "#strptime takes the source string and the format\n",
    "parsed = datetime.datetime.strptime(\"2019-Jun-14 @ 20:04\", \"%Y-%b-%d @ %H:%M\")\n",
    "print(parsed)"
   ]
  },
  {
   "cell_type": "code",
   "execution_count": 13,
   "metadata": {
    "collapsed": false,
    "deletable": true,
    "editable": true
   },
   "outputs": [
    {
     "name": "stdout",
     "output_type": "stream",
     "text": [
      "2019-06-14\n"
     ]
    }
   ],
   "source": [
    "#And you can convert a datetime to a date (and vice-versa)\n",
    "print(parsed.date())"
   ]
  },
  {
   "cell_type": "code",
   "execution_count": 32,
   "metadata": {
    "collapsed": false,
    "deletable": true,
    "editable": true
   },
   "outputs": [
    {
     "name": "stdout",
     "output_type": "stream",
     "text": [
      "2020-03-23 00:00:00\n"
     ]
    }
   ],
   "source": [
    "#There is however no method to go from a date to a datetime... so be smart\n",
    "release = datetime.date(2020, 3, 23)\n",
    "print(datetime.datetime(release.year, release.month, release.day))"
   ]
  },
  {
   "cell_type": "markdown",
   "metadata": {
    "deletable": true,
    "editable": true
   },
   "source": [
    "## 4. Timedelta\n",
    "Timedeltas are used to represent the difference between two dates or two datetimes. Timedeltas are expressed in days, hours, minutes, seconds and microseconds. "
   ]
  },
  {
   "cell_type": "code",
   "execution_count": 33,
   "metadata": {
    "collapsed": false,
    "deletable": true,
    "editable": true
   },
   "outputs": [
    {
     "name": "stdout",
     "output_type": "stream",
     "text": [
      "100 days, 0:00:00\n"
     ]
    }
   ],
   "source": [
    "harvest = datetime.timedelta(days=100)\n",
    "print(harvest)"
   ]
  },
  {
   "cell_type": "code",
   "execution_count": 34,
   "metadata": {
    "collapsed": false,
    "deletable": true,
    "editable": true
   },
   "outputs": [
    {
     "data": {
      "text/plain": [
       "datetime.timedelta"
      ]
     },
     "execution_count": 34,
     "metadata": {},
     "output_type": "execute_result"
    }
   ],
   "source": [
    "type(harvest)"
   ]
  },
  {
   "cell_type": "markdown",
   "metadata": {
    "deletable": true,
    "editable": true
   },
   "source": [
    "### 4.1. Operations"
   ]
  },
  {
   "cell_type": "code",
   "execution_count": 35,
   "metadata": {
    "collapsed": false,
    "deletable": true,
    "editable": true
   },
   "outputs": [
    {
     "name": "stdout",
     "output_type": "stream",
     "text": [
      "2014-12-10\n"
     ]
    }
   ],
   "source": [
    "#You can add a timedelta to a date or a datetime to get a new datetime\n",
    "harvest_end = datetime.date(2014, 9, 1) + harvest\n",
    "print(harvest_end)"
   ]
  },
  {
   "cell_type": "code",
   "execution_count": 36,
   "metadata": {
    "collapsed": false,
    "deletable": true,
    "editable": true
   },
   "outputs": [
    {
     "name": "stdout",
     "output_type": "stream",
     "text": [
      "2019-05-04 16:42:00\n"
     ]
    }
   ],
   "source": [
    "movie_start = datetime.datetime(2019, 5, 4, 14, 30)\n",
    "movie_end =  datetime.timedelta(hours=2, minutes=12)\n",
    "print(movie_start + movie_end)"
   ]
  },
  {
   "cell_type": "code",
   "execution_count": 37,
   "metadata": {
    "collapsed": false,
    "deletable": true,
    "editable": true
   },
   "outputs": [
    {
     "name": "stdout",
     "output_type": "stream",
     "text": [
      "30695 days, 0:00:00\n"
     ]
    }
   ],
   "source": [
    "#The difference between two dates or two datetimes is then a timedelta object\n",
    "birth = datetime.date(1920, 2, 5)\n",
    "death = datetime.date(2004, 2, 19)\n",
    "life = death - birth\n",
    "print(life)"
   ]
  },
  {
   "cell_type": "code",
   "execution_count": 38,
   "metadata": {
    "collapsed": false,
    "deletable": true,
    "editable": true
   },
   "outputs": [
    {
     "name": "stdout",
     "output_type": "stream",
     "text": [
      "3:31:30\n"
     ]
    }
   ],
   "source": [
    "#works with two datetimes\n",
    "start = datetime.datetime(2017, 4, 1, 10, 30)\n",
    "finish = datetime.datetime(2017, 4, 1, 14, 1, 30)\n",
    "print(finish-start)"
   ]
  },
  {
   "cell_type": "code",
   "execution_count": 39,
   "metadata": {
    "collapsed": false,
    "deletable": true,
    "editable": true
   },
   "outputs": [
    {
     "ename": "TypeError",
     "evalue": "unsupported operand type(s) for -: 'datetime.datetime' and 'datetime.date'",
     "output_type": "error",
     "traceback": [
      "\u001b[0;31m---------------------------------------------------------------------------\u001b[0m",
      "\u001b[0;31mTypeError\u001b[0m                                 Traceback (most recent call last)",
      "\u001b[0;32m<ipython-input-39-a91645cd32f8>\u001b[0m in \u001b[0;36m<module>\u001b[0;34m()\u001b[0m\n\u001b[1;32m      4\u001b[0m \u001b[0mbirthday\u001b[0m \u001b[0;34m=\u001b[0m \u001b[0mdatetime\u001b[0m\u001b[0;34m.\u001b[0m\u001b[0mdate\u001b[0m\u001b[0;34m(\u001b[0m\u001b[0;36m2019\u001b[0m\u001b[0;34m,\u001b[0m \u001b[0;36m6\u001b[0m\u001b[0;34m,\u001b[0m \u001b[0;36m17\u001b[0m\u001b[0;34m)\u001b[0m\u001b[0;34m\u001b[0m\u001b[0m\n\u001b[1;32m      5\u001b[0m \u001b[0mparty\u001b[0m \u001b[0;34m=\u001b[0m \u001b[0mdatetime\u001b[0m\u001b[0;34m.\u001b[0m\u001b[0mdatetime\u001b[0m\u001b[0;34m(\u001b[0m\u001b[0;36m2019\u001b[0m\u001b[0;34m,\u001b[0m \u001b[0;36m6\u001b[0m\u001b[0;34m,\u001b[0m \u001b[0;36m17\u001b[0m\u001b[0;34m,\u001b[0m \u001b[0;36m21\u001b[0m\u001b[0;34m,\u001b[0m \u001b[0;36m30\u001b[0m\u001b[0;34m)\u001b[0m\u001b[0;34m\u001b[0m\u001b[0m\n\u001b[0;32m----> 6\u001b[0;31m \u001b[0mprint\u001b[0m\u001b[0;34m(\u001b[0m\u001b[0mparty\u001b[0m\u001b[0;34m-\u001b[0m\u001b[0mbirthday\u001b[0m\u001b[0;34m)\u001b[0m\u001b[0;34m\u001b[0m\u001b[0m\n\u001b[0m",
      "\u001b[0;31mTypeError\u001b[0m: unsupported operand type(s) for -: 'datetime.datetime' and 'datetime.date'"
     ]
    }
   ],
   "source": [
    "#not between a datetime and a date\n",
    "#spoiler: this will raise an error\n",
    "#pretty intuitive when you think about it\n",
    "birthday = datetime.date(2019, 6, 17)\n",
    "party = datetime.datetime(2019, 6, 17, 21, 30)\n",
    "print(party-birthday)"
   ]
  },
  {
   "cell_type": "markdown",
   "metadata": {
    "deletable": true,
    "editable": true
   },
   "source": [
    "## 5. Tips and tricks"
   ]
  },
  {
   "cell_type": "code",
   "execution_count": 40,
   "metadata": {
    "collapsed": false,
    "deletable": true,
    "editable": true
   },
   "outputs": [
    {
     "name": "stdout",
     "output_type": "stream",
     "text": [
      "2014-09-27\n"
     ]
    }
   ],
   "source": [
    "#don't want to prefix every datetime, date and timedelta with the name of the datetime module?\n",
    "#simply import the types you need using the alternative syntax\n",
    "from datetime import date, datetime, timedelta\n",
    "\n",
    "print(date(2014, 9, 27))"
   ]
  },
  {
   "cell_type": "code",
   "execution_count": 42,
   "metadata": {
    "collapsed": false,
    "deletable": true,
    "editable": true
   },
   "outputs": [
    {
     "name": "stdout",
     "output_type": "stream",
     "text": [
      "[datetime.date(2017, 5, 1), datetime.date(2017, 5, 8), datetime.date(2017, 5, 15), datetime.date(2017, 5, 22)]\n"
     ]
    }
   ],
   "source": [
    "#generate a calendar of Mondays between two dates\n",
    "\n",
    "starting, ending = date(2017, 4, 28), date(2018, 1, 1)\n",
    "\n",
    "calendar = []\n",
    "for i in range((ending-starting).days):\n",
    "    if (starting + timedelta(days=i)).weekday() == 0: \n",
    "        calendar.append(starting + timedelta(days=i))\n",
    "\n",
    "print(calendar[0:4])"
   ]
  },
  {
   "cell_type": "markdown",
   "metadata": {
    "deletable": true,
    "editable": true
   },
   "source": [
    "## 6. Documentation\n",
    "- Detailed documentation is available here: https://docs.python.org/3/library/datetime.html\n",
    "- A useful cheatsheet on date formats: http://www.strftime.org"
   ]
  },
  {
   "cell_type": "markdown",
   "metadata": {
    "deletable": true,
    "editable": true
   },
   "source": [
    "## 7. Practice\n",
    "\n",
    "### Problem\n",
    "**Car rental**. You run a car-rental company with offices across the United States. You are due to present some key performance metrics to potential investors, and have requested from your different offices branches they send you their reservations to date. Your intern has consolidated their submissions into a single large file (see `data/rentals.txt`). **Bookings should be recorded at the office where the rental started**.  \n",
    "\n",
    "Using this file, answer the following questions: \n",
    "1. How many rentals (e.g. lines) does the file contain? \n",
    "2. In how many different locations do you have an office? \n",
    "3. How many unique customers (identified by the id number) do your records show? What is the average age of your customers? Assume customers' birthdates are in the format YYYY-MM-DD. \n",
    "4. What fraction of bookings involve a cross-office booking, where the client picks-up the car in one location and returns it at another office? \n",
    "5. As noted above, the onus is with the office where the rental is started to record the rental. You however notice that the date formats are different from one office to the next. While date formats vary from one office to the next, date formats are consistent at the same office. An analysis of the data reveals the presence of the below different date formats. Annoyingly, the date formats can be ambiguous (e.g. 02-04-2017). Create a dictionary which maps offices to their respective date format. \n",
    "6. Convert the `started` and `returned` dates to proper datetime objects. What is the average rental duration? \n",
    "7. What proportion of your client base are repeat customers? \n",
    "8. It appears two cities grossly overstated average daily mileage of cross-office rentals, in a covert attempt to inflate statistics. Can you identify which ones? How large is the overstatement approximately?\n",
    "9. What is the most popular car category? What is the most popular car color? \n",
    "\n",
    "Date formats found in the records\n",
    "    - dd/mm/yy\n",
    "    - dd/mm/yyyy\n",
    "    - mm/dd/yy\n",
    "    - mm/dd/yyyy"
   ]
  },
  {
   "cell_type": "code",
   "execution_count": null,
   "metadata": {
    "collapsed": true,
    "deletable": true,
    "editable": true
   },
   "outputs": [],
   "source": []
  }
 ],
 "metadata": {
  "kernelspec": {
   "display_name": "Python 3",
   "language": "python",
   "name": "python3"
  },
  "language_info": {
   "codemirror_mode": {
    "name": "ipython",
    "version": 3
   },
   "file_extension": ".py",
   "mimetype": "text/x-python",
   "name": "python",
   "nbconvert_exporter": "python",
   "pygments_lexer": "ipython3",
   "version": "3.6.1"
  }
 },
 "nbformat": 4,
 "nbformat_minor": 2
}
