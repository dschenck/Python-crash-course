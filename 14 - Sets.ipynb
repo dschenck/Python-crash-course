{
 "cells": [
  {
   "cell_type": "markdown",
   "metadata": {
    "deletable": true,
    "editable": true
   },
   "source": [
    "# Sets\n",
    "Sets are - along with dictionaries, lists and tuples - container-like objects. Sets are efficient to store a grouping (or set) of unique values, with no duplicates. Like dictionaries, sets are efficient to check if a value is or is not contained."
   ]
  },
  {
   "cell_type": "code",
   "execution_count": 1,
   "metadata": {
    "collapsed": false,
    "deletable": true,
    "editable": true
   },
   "outputs": [
    {
     "name": "stdout",
     "output_type": "stream",
     "text": [
      "{'Mercedes', 'Audi', 'VW', 'Renault', 'BMW'}\n"
     ]
    }
   ],
   "source": [
    "brands = {\"BMW\", \"Mercedes\", \"Renault\", \"Audi\", \"VW\"}\n",
    "print(brands)"
   ]
  },
  {
   "cell_type": "code",
   "execution_count": 2,
   "metadata": {
    "collapsed": false
   },
   "outputs": [
    {
     "data": {
      "text/plain": [
       "set"
      ]
     },
     "execution_count": 2,
     "metadata": {},
     "output_type": "execute_result"
    }
   ],
   "source": [
    "type(brands)"
   ]
  },
  {
   "cell_type": "markdown",
   "metadata": {},
   "source": [
    "## 1. Operations"
   ]
  },
  {
   "cell_type": "code",
   "execution_count": 3,
   "metadata": {
    "collapsed": false
   },
   "outputs": [
    {
     "name": "stdout",
     "output_type": "stream",
     "text": [
      "True\n",
      "False\n"
     ]
    }
   ],
   "source": [
    "print(\"BMW\" in brands)\n",
    "print(\"Tesla\" in brands)"
   ]
  },
  {
   "cell_type": "markdown",
   "metadata": {},
   "source": [
    "## 2. Methods"
   ]
  },
  {
   "cell_type": "code",
   "execution_count": 4,
   "metadata": {
    "collapsed": false
   },
   "outputs": [
    {
     "name": "stdout",
     "output_type": "stream",
     "text": [
      "{'Mercedes', 'Audi', 'Porsch', 'VW', 'Renault', 'BMW'}\n"
     ]
    }
   ],
   "source": [
    "#add a value\n",
    "brands.add(\"Porsch\")\n",
    "print(brands)"
   ]
  },
  {
   "cell_type": "code",
   "execution_count": 5,
   "metadata": {
    "collapsed": false
   },
   "outputs": [
    {
     "name": "stdout",
     "output_type": "stream",
     "text": [
      "{'Chicago', 'New York', 'London', 'Singapore', 'Marseilles', 'Barcelona', 'Paris'}\n"
     ]
    }
   ],
   "source": [
    "#join two sets together\n",
    "places1 = {\"Paris\", \"Marseilles\", \"London\", \"New York\", \"Chicago\"}\n",
    "places2 = {\"Paris\", \"Singapore\", \"Barcelona\"}\n",
    "\n",
    "union = places1.union(places2)\n",
    "print(union)"
   ]
  },
  {
   "cell_type": "code",
   "execution_count": 6,
   "metadata": {
    "collapsed": false
   },
   "outputs": [
    {
     "name": "stdout",
     "output_type": "stream",
     "text": [
      "{'Paris'}\n"
     ]
    }
   ],
   "source": [
    "#intersection \n",
    "inter = places1.intersection(places2)\n",
    "print(inter)"
   ]
  },
  {
   "cell_type": "code",
   "execution_count": 7,
   "metadata": {
    "collapsed": false
   },
   "outputs": [
    {
     "name": "stdout",
     "output_type": "stream",
     "text": [
      "{'Marseilles', 'Chicago', 'London', 'New York'}\n",
      "{'Barcelona', 'Singapore'}\n"
     ]
    }
   ],
   "source": [
    "#difference\n",
    "diff = places1.difference(places2)\n",
    "print(diff)\n",
    "\n",
    "diff = places2.difference(places1)\n",
    "print(diff)"
   ]
  },
  {
   "cell_type": "code",
   "execution_count": 8,
   "metadata": {
    "collapsed": false
   },
   "outputs": [
    {
     "name": "stdout",
     "output_type": "stream",
     "text": [
      "True\n",
      "False\n"
     ]
    }
   ],
   "source": [
    "#Check if all elements are in other set\n",
    "print({\"Paris\", \"London\"}.issubset(places1))\n",
    "print({\"Paris\", \"London\"}.issubset(places2))"
   ]
  },
  {
   "cell_type": "code",
   "execution_count": 9,
   "metadata": {
    "collapsed": false
   },
   "outputs": [
    {
     "name": "stdout",
     "output_type": "stream",
     "text": [
      "{'New York', 'London', 'Marseilles', 'Paris'}\n"
     ]
    }
   ],
   "source": [
    "#remove an element from a set\n",
    "places1.remove(\"Chicago\")\n",
    "print(places1)"
   ]
  },
  {
   "cell_type": "code",
   "execution_count": 10,
   "metadata": {
    "collapsed": false
   },
   "outputs": [
    {
     "ename": "KeyError",
     "evalue": "'San Francisco'",
     "output_type": "error",
     "traceback": [
      "\u001b[0;31m---------------------------------------------------------------------------\u001b[0m",
      "\u001b[0;31mKeyError\u001b[0m                                  Traceback (most recent call last)",
      "\u001b[0;32m<ipython-input-10-265bb5088269>\u001b[0m in \u001b[0;36m<module>\u001b[0;34m()\u001b[0m\n\u001b[1;32m      1\u001b[0m \u001b[0;31m#.remove() will throw an error if the element you are trying to remove doesn't exist in the set\u001b[0m\u001b[0;34m\u001b[0m\u001b[0;34m\u001b[0m\u001b[0m\n\u001b[0;32m----> 2\u001b[0;31m \u001b[0mplaces1\u001b[0m\u001b[0;34m.\u001b[0m\u001b[0mremove\u001b[0m\u001b[0;34m(\u001b[0m\u001b[0;34m\"San Francisco\"\u001b[0m\u001b[0;34m)\u001b[0m\u001b[0;34m\u001b[0m\u001b[0m\n\u001b[0m",
      "\u001b[0;31mKeyError\u001b[0m: 'San Francisco'"
     ]
    }
   ],
   "source": [
    "#.remove() will throw an error if the element you are trying to remove doesn't exist in the set\n",
    "places1.remove(\"San Francisco\")"
   ]
  },
  {
   "cell_type": "code",
   "execution_count": 11,
   "metadata": {
    "collapsed": false
   },
   "outputs": [
    {
     "name": "stdout",
     "output_type": "stream",
     "text": [
      "New York\n",
      "{'London', 'Marseilles', 'Paris'}\n"
     ]
    }
   ],
   "source": [
    "#remove and return an arbitrary set element.\n",
    "#this is arbitrary given that sets have no order\n",
    "lucky = places1.pop()\n",
    "print(lucky)\n",
    "print(places1)"
   ]
  },
  {
   "cell_type": "markdown",
   "metadata": {},
   "source": [
    "## 3. Sets are iterable"
   ]
  },
  {
   "cell_type": "code",
   "execution_count": 12,
   "metadata": {
    "collapsed": false
   },
   "outputs": [
    {
     "name": "stdout",
     "output_type": "stream",
     "text": [
      "Germany\n",
      "Spain\n",
      "Italy\n",
      "France\n",
      "UK\n"
     ]
    }
   ],
   "source": [
    "countries = {\"France\", \"Germany\", \"UK\", \"Spain\", \"Italy\"}\n",
    "\n",
    "for country in countries: \n",
    "    print(country)"
   ]
  },
  {
   "cell_type": "code",
   "execution_count": 13,
   "metadata": {
    "collapsed": false
   },
   "outputs": [
    {
     "name": "stdout",
     "output_type": "stream",
     "text": [
      "0 Germany\n",
      "1 Spain\n",
      "2 Italy\n",
      "3 France\n",
      "4 UK\n"
     ]
    }
   ],
   "source": [
    "#Because sets are iterable, you can pass sets to the enumerate() function\n",
    "for i, country in enumerate(countries): \n",
    "    print(i, country)"
   ]
  },
  {
   "cell_type": "markdown",
   "metadata": {},
   "source": [
    "## 4. Type casting\n",
    "You can convert sets to lists, strings to sets, sets to strings, tuples to sets... even the keys of a dictionary!"
   ]
  },
  {
   "cell_type": "code",
   "execution_count": 14,
   "metadata": {
    "collapsed": false
   },
   "outputs": [
    {
     "name": "stdout",
     "output_type": "stream",
     "text": [
      "{1, 2, 3, 4}\n"
     ]
    }
   ],
   "source": [
    "#lists to sets\n",
    "a = set([1,2,3,4,3,2,1])\n",
    "print(a)"
   ]
  },
  {
   "cell_type": "code",
   "execution_count": 15,
   "metadata": {
    "collapsed": false
   },
   "outputs": [
    {
     "name": "stdout",
     "output_type": "stream",
     "text": [
      "['Germany', 'Spain', 'Italy', 'France', 'UK']\n"
     ]
    }
   ],
   "source": [
    "#sets to lists\n",
    "b = list(countries)\n",
    "print(b)"
   ]
  },
  {
   "cell_type": "code",
   "execution_count": 16,
   "metadata": {
    "collapsed": false
   },
   "outputs": [
    {
     "name": "stdout",
     "output_type": "stream",
     "text": [
      "{'s', 'p', 'C', 'c', 't', 'a', 'r', 'i', 'g', ' ', 'e', 'n', 'd', 'h', 'o', ','}\n"
     ]
    }
   ],
   "source": [
    "#strings to sets\n",
    "letters = set(\"Cats are sophisticated, dogs are not\")\n",
    "print(letters)"
   ]
  },
  {
   "cell_type": "code",
   "execution_count": 17,
   "metadata": {
    "collapsed": false
   },
   "outputs": [
    {
     "name": "stdout",
     "output_type": "stream",
     "text": [
      "{'name', 'happy', 'age'}\n"
     ]
    }
   ],
   "source": [
    "#dictionary keys (not values) to sets\n",
    "card = {\"name\":\"David\", \"age\":27, \"happy\":True}\n",
    "print(set(card))"
   ]
  }
 ],
 "metadata": {
  "kernelspec": {
   "display_name": "Python 3",
   "language": "python",
   "name": "python3"
  },
  "language_info": {
   "codemirror_mode": {
    "name": "ipython",
    "version": 3
   },
   "file_extension": ".py",
   "mimetype": "text/x-python",
   "name": "python",
   "nbconvert_exporter": "python",
   "pygments_lexer": "ipython3",
   "version": "3.6.1"
  }
 },
 "nbformat": 4,
 "nbformat_minor": 2
}
