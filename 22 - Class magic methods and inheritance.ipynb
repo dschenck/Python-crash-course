{
 "cells": [
  {
   "cell_type": "markdown",
   "metadata": {},
   "source": [
    "# Class magic methods and inheritance"
   ]
  },
  {
   "cell_type": "markdown",
   "metadata": {},
   "source": [
    "## 1. Magic methods\n",
    "Let's create a class to represent money - an amount in a given currency - on which we can do many operations, just like numbers (floats and ints). "
   ]
  },
  {
   "cell_type": "code",
   "execution_count": 1,
   "metadata": {
    "collapsed": false
   },
   "outputs": [
    {
     "name": "stdout",
     "output_type": "stream",
     "text": [
      "10.00USD\n",
      "10\n",
      "10.0\n"
     ]
    }
   ],
   "source": [
    "class Money:\n",
    "    def __init__(self, amount, currency=\"USD\"):\n",
    "        self.amount   = float(amount)\n",
    "        self.currency = currency\n",
    "    \n",
    "    #how the money instance is cast to a string\n",
    "    def __str__(self):\n",
    "        return \"{:.2f}{}\".format(self.amount, self.currency)\n",
    "    \n",
    "    #how the money instance is cast to an integer\n",
    "    def __int__(self): \n",
    "        return int(self.amount)\n",
    "    \n",
    "    #how the money instance is cast to a float\n",
    "    def __float__(self):\n",
    "        return float(self.amount)\n",
    "    \n",
    "print(str(Money(10)))\n",
    "print(int(Money(10)))\n",
    "print(float(Money(10)))"
   ]
  },
  {
   "cell_type": "markdown",
   "metadata": {},
   "source": [
    "### 1.1. Comparison methods"
   ]
  },
  {
   "cell_type": "code",
   "execution_count": 2,
   "metadata": {
    "collapsed": false
   },
   "outputs": [
    {
     "name": "stdout",
     "output_type": "stream",
     "text": [
      "True\n",
      "True\n",
      "True\n",
      "True\n",
      "Cannot compare USD with JPY\n"
     ]
    }
   ],
   "source": [
    "class Money: \n",
    "    def __init__(self, amount, currency):\n",
    "        self.amount   = float(amount)\n",
    "        self.currency = currency\n",
    "        \n",
    "    def __eq__(self, other): \n",
    "        if isinstance(other, Money): \n",
    "            return self.amount == other.amount and self.currency == other.currency\n",
    "        if isinstance(other, (float, int)):\n",
    "            return self.amount == other\n",
    "        raise TypeError(\"Cannot compare money with {}\".format(type(other)))\n",
    "        \n",
    "    def __neq__(self, other): \n",
    "        return not self == other\n",
    "        \n",
    "    def __gt__(self, other): \n",
    "        if isinstance(other, Money):\n",
    "            if self.currency != other.currency: \n",
    "                raise TypeError(\"Cannot compare {} with {}\".format(self.currency, other.currency))\n",
    "            return self.amount > other.amount\n",
    "        if isinstance(other, (float, int)):\n",
    "            return self.amount == other\n",
    "        raise TypeError(\"Cannot compare money with {}\".format(type(other)))\n",
    "        \n",
    "    def __ge__(self, other):\n",
    "        return self > other or self == other\n",
    "    \n",
    "    def __lt__(self, other): \n",
    "        return not self > other and self != other\n",
    "    \n",
    "    def __le__(self, other): \n",
    "        return self < other or self == other\n",
    "    \n",
    "#let's try it out! \n",
    "print(Money(10, \"EUR\") == 10)\n",
    "print(Money(10, \"EUR\") != Money(20, \"EUR\"))\n",
    "print(Money(10, \"EUR\") > Money(5, \"EUR\"))\n",
    "print(Money(10, \"EUR\") <= Money(30, \"EUR\"))\n",
    "\n",
    "#let's make sure we get the expected errors\n",
    "try: \n",
    "    print(Money(10, \"USD\") > Money(200, \"JPY\"))\n",
    "except TypeError as e: \n",
    "    print(e)"
   ]
  },
  {
   "cell_type": "markdown",
   "metadata": {},
   "source": [
    "### 1.2. Mathematical methods"
   ]
  },
  {
   "cell_type": "code",
   "execution_count": 3,
   "metadata": {
    "collapsed": true
   },
   "outputs": [],
   "source": [
    "class Money:\n",
    "    def __init__(self, amount, currency=\"USD\"):\n",
    "        self.amount   = float(amount)\n",
    "        self.currency = currency.strip()\n",
    "        \n",
    "    def __str__(self):\n",
    "        return \"{:.2f} {}\".format(self.amount, self.currency)\n",
    "        \n",
    "    def __add__(self, other):\n",
    "        if isinstance(other, (float, int)): \n",
    "            return Money(self.amount + other, self.currency)\n",
    "        if isinstance(other, Money): \n",
    "            if other.currency == self.currency:\n",
    "                return Money(self.amount + other.amount, self.currency)\n",
    "            raise TypeError(\"You can only add two money amounts of the same currency\")\n",
    "        raise TypeError(\"Unable to add money to {}\".format(type(other)))\n",
    "        \n",
    "    def __sub__(self, other):\n",
    "        if isinstance(other, (float, int)): \n",
    "            return Money(self.amount - other, self.currency)\n",
    "        if isinstance(other, Money): \n",
    "            if other.currency == self.currency: \n",
    "                return Money(self.amount - other.amount, self.currency)\n",
    "            raise TypeError(\"You can only add currencies of the same currency\")\n",
    "        raise TypeError(\"Unable to subtract {} from money\".format(type(other)))\n",
    "        \n",
    "    def __mul__(self, other):\n",
    "        if isinstance(other, (float, int)): \n",
    "            return Money(self.amount * other, self.currency)\n",
    "        raise TypeError(\"Unable to multiply money by {}\".format(type(other)))\n",
    "        \n",
    "    def __truediv__(self, other):\n",
    "        if isinstance(other, (float, int)): \n",
    "            if other == 0: \n",
    "                raise ZeroDivisionError(\"Can divide money by 0\")\n",
    "            return Money(self.amount / other, self.currency)\n",
    "        raise TypeError(\"Unable to divide money by {}\".format(type(other)))"
   ]
  },
  {
   "cell_type": "code",
   "execution_count": 4,
   "metadata": {
    "collapsed": false
   },
   "outputs": [
    {
     "name": "stdout",
     "output_type": "stream",
     "text": [
      "30.00 USD\n",
      "20.00 USD\n",
      "100.00 USD\n",
      "2.50 USD\n",
      "You can only add two money amounts of the same currency\n"
     ]
    }
   ],
   "source": [
    "#Let's try it out\n",
    "print(Money(10) + 20)\n",
    "print(Money(10, \"USD\") + Money(10, \"USD\"))\n",
    "print(Money(10, \"USD\") * 10)\n",
    "print(Money(10, \"USD\") / 4)\n",
    "\n",
    "#let's try adding two different currencies\n",
    "try: \n",
    "    Money(10, \"USD\") + Money(40, \"EUR\")\n",
    "except Exception as e: \n",
    "    print(e)"
   ]
  },
  {
   "cell_type": "code",
   "execution_count": 5,
   "metadata": {
    "collapsed": false
   },
   "outputs": [
    {
     "name": "stdout",
     "output_type": "stream",
     "text": [
      "2.00 USD\n"
     ]
    },
    {
     "ename": "TypeError",
     "evalue": "unsupported operand type(s) for +: 'int' and 'Money'",
     "output_type": "error",
     "traceback": [
      "\u001b[0;31m---------------------------------------------------------------------------\u001b[0m",
      "\u001b[0;31mTypeError\u001b[0m                                 Traceback (most recent call last)",
      "\u001b[0;32m<ipython-input-5-f4a534ed1371>\u001b[0m in \u001b[0;36m<module>\u001b[0;34m()\u001b[0m\n\u001b[1;32m      2\u001b[0m \u001b[0;34m\u001b[0m\u001b[0m\n\u001b[1;32m      3\u001b[0m \u001b[0;31m#Spoiler: this will fail\u001b[0m\u001b[0;34m\u001b[0m\u001b[0;34m\u001b[0m\u001b[0m\n\u001b[0;32m----> 4\u001b[0;31m \u001b[0mprint\u001b[0m\u001b[0;34m(\u001b[0m\u001b[0;36m1\u001b[0m \u001b[0;34m+\u001b[0m \u001b[0mMoney\u001b[0m\u001b[0;34m(\u001b[0m\u001b[0;36m1\u001b[0m\u001b[0;34m)\u001b[0m\u001b[0;34m)\u001b[0m\u001b[0;34m\u001b[0m\u001b[0m\n\u001b[0m",
      "\u001b[0;31mTypeError\u001b[0m: unsupported operand type(s) for +: 'int' and 'Money'"
     ]
    }
   ],
   "source": [
    "print(Money(1)+1)\n",
    "\n",
    "#Spoiler: this will fail\n",
    "print(1 + Money(1))"
   ]
  },
  {
   "cell_type": "code",
   "execution_count": 6,
   "metadata": {
    "collapsed": false
   },
   "outputs": [
    {
     "name": "stdout",
     "output_type": "stream",
     "text": [
      "30.00 USD\n",
      "20.00 USD\n",
      "100.00 USD\n",
      "2.50 USD\n",
      "11.00 USD\n",
      "60.00 USD\n",
      "27.00 USD\n"
     ]
    }
   ],
   "source": [
    "#we need to add the symetric magic methods\n",
    "class Money:\n",
    "    def __init__(self, amount, currency=\"USD\"):\n",
    "        self.amount   = float(amount)\n",
    "        self.currency = currency.strip()\n",
    "        \n",
    "    def __str__(self):\n",
    "        return \"{:.2f} {}\".format(self.amount, self.currency)\n",
    "        \n",
    "    def __add__(self, other):\n",
    "        if isinstance(other, (float, int)): \n",
    "            return Money(self.amount + other, self.currency)\n",
    "        if isinstance(other, Money): \n",
    "            if other.currency == self.currency:\n",
    "                return Money(self.amount + other.amount, self.currency)\n",
    "            raise TypeError(\"You can only add two money amounts of the same currency\")\n",
    "        raise TypeError(\"Unable to add money to {}\".format(type(other)))\n",
    "        \n",
    "    def __radd__(self, other):\n",
    "        #called when something + Money rather than Money + something\n",
    "        #Let's simply do the reverse\n",
    "        return self + other\n",
    "    \n",
    "    def __sub__(self, other):\n",
    "        if isinstance(other, (float, int)): \n",
    "            return Money(self.amount - other, self.currency)\n",
    "        if isinstance(other, Money): \n",
    "            if other.currency == self.currency: \n",
    "                return Money(self.amount - other.amount, self.currency)\n",
    "            raise TypeError(\"You can only add currencies of the same currency\")\n",
    "        raise TypeError(\"Unable to subtract {} from money\".format(type(other)))\n",
    "        \n",
    "    def __rsub__(self, other):\n",
    "        #called when something - Money rather than Money - something\n",
    "        #Let's simply do the reverse\n",
    "        return self-other\n",
    "        \n",
    "    def __mul__(self, other):\n",
    "        if isinstance(other, (float, int)): \n",
    "            return Money(self.amount * other, self.currency)\n",
    "        raise TypeError(\"Unable to multiply money by {}\".format(type(other)))\n",
    "        \n",
    "    def __rmul__(self, other):\n",
    "        #called when something * Money rather than Money * something\n",
    "        #Let's simply do the reverse\n",
    "        return self * other\n",
    "    \n",
    "    def __truediv__(self, other):\n",
    "        if isinstance(other, (float, int)): \n",
    "            if other == 0: \n",
    "                raise ZeroDivisionError(\"Can divide money by 0\")\n",
    "            return Money(self.amount / other, self.currency)\n",
    "        raise TypeError(\"Unable to divide money by {}\".format(type(other)))\n",
    "        \n",
    "    #we won't implement the __rtruediv__\n",
    "    #it wouldn't make sense to divide a number by Money\n",
    "    \n",
    "#let's try it out! \n",
    "print(Money(10) + 20)\n",
    "print(Money(10, \"USD\") + Money(10, \"USD\"))\n",
    "print(Money(10, \"USD\") * 10)\n",
    "print(Money(10, \"USD\") / 4)\n",
    "print(1 + Money(10))\n",
    "print(3 * Money(20))\n",
    "print(3 - Money(30))"
   ]
  },
  {
   "cell_type": "markdown",
   "metadata": {},
   "source": [
    "### 1.3. Container methods"
   ]
  },
  {
   "cell_type": "code",
   "execution_count": 8,
   "metadata": {
    "collapsed": false
   },
   "outputs": [
    {
     "name": "stdout",
     "output_type": "stream",
     "text": [
      "2019-02-07\n",
      "2019-08-25\n",
      "43\n",
      "False\n"
     ]
    }
   ],
   "source": [
    "#recall the calendar class we created earlier in the course\n",
    "class Calendar: \n",
    "    def __init__(self, dates):\n",
    "        self.dates = sorted(list(dates))\n",
    "        \n",
    "    def __getitem__(self, index): \n",
    "        return self.dates[index]\n",
    "    \n",
    "    def __setitem__(self, index, value): \n",
    "        self.dates.remove(self.dates[index])\n",
    "        if value not in self.dates: \n",
    "            self.dates.append\n",
    "            self.dates.sort()\n",
    "        \n",
    "    def __contains__(self, date):\n",
    "        return date in self.dates\n",
    "    \n",
    "    def __len__(self): \n",
    "        return len(self.dates)\n",
    "    \n",
    "#let's try it out\n",
    "from datetime import date, timedelta\n",
    "import random\n",
    "\n",
    "#let's create some unique dates\n",
    "datelist = set(date.today() + timedelta(random.randint(-100, 100)) for i in range(50))\n",
    "\n",
    "#create our instance of calendar\n",
    "calendar = Calendar(datelist)\n",
    "\n",
    "print(calendar[0])\n",
    "print(calendar[-1])\n",
    "print(len(calendar))\n",
    "print(date.today() in calendar)"
   ]
  },
  {
   "cell_type": "markdown",
   "metadata": {},
   "source": [
    "## 2. Inheritence"
   ]
  },
  {
   "cell_type": "code",
   "execution_count": 9,
   "metadata": {
    "collapsed": false
   },
   "outputs": [
    {
     "name": "stdout",
     "output_type": "stream",
     "text": [
      "4\n",
      "Meowwwww... Grrrrrrr...\n",
      "6\n",
      "Woof woof!\n",
      "True\n",
      "False\n"
     ]
    }
   ],
   "source": [
    "#Dogs and cats are both animals\n",
    "#they share some traits (such as eating...) and have some of specific features\n",
    "class Animal:\n",
    "    def __init__(self, name):\n",
    "        self.name = name\n",
    "        self.weight = 2\n",
    "        \n",
    "    def eat(self): \n",
    "        self.weight += 1\n",
    "        return self\n",
    "        \n",
    "class Cat(Animal):\n",
    "    def meow(self): \n",
    "        return \"Meowwwww... Grrrrrrr...\"\n",
    "        \n",
    "class Dog(Animal):\n",
    "    def bark(self):\n",
    "        return \"Woof woof!\"\n",
    "\n",
    "tom = Cat(\"Tom\")\n",
    "tom.eat()\n",
    "tom.eat()\n",
    "print(tom.weight)\n",
    "print(tom.meow())\n",
    "\n",
    "bo = Dog(\"Bo\")\n",
    "bo.eat()\n",
    "bo.eat()\n",
    "bo.eat()\n",
    "bo.eat()\n",
    "\n",
    "print(bo.weight)\n",
    "print(bo.bark())\n",
    "\n",
    "#yes, tom is an animal, but not a dog\n",
    "print(isinstance(tom, Animal))\n",
    "print(isinstance(tom, Dog))"
   ]
  },
  {
   "cell_type": "markdown",
   "metadata": {},
   "source": [
    "### 2.1 Calling the `super` parent method: "
   ]
  },
  {
   "cell_type": "code",
   "execution_count": 10,
   "metadata": {
    "collapsed": false
   },
   "outputs": [
    {
     "name": "stdout",
     "output_type": "stream",
     "text": [
      "GLE (Stock)\n",
      "ESZ9 (Future)\n"
     ]
    }
   ],
   "source": [
    "class Instrument: \n",
    "    def __init__(self, ticker, assetclass):\n",
    "        self.ticker = ticker\n",
    "        self.assetclass = assetclass\n",
    "        \n",
    "    def __str__(self): \n",
    "        return \"{} ({})\".format(self.ticker, type(self).__name__)\n",
    "        \n",
    "class Stock(Instrument):\n",
    "    def __init__(self, ticker):\n",
    "        super(Stock, self).__init__(ticker, \"Equity\")\n",
    "        \n",
    "class Future(Instrument):\n",
    "    def __init__(self, ticker, underlying, expiration, size):\n",
    "        super(Future, self).__init__(ticker, \"Future\")\n",
    "        self.underlying = underlying\n",
    "        self.expiration = expiration\n",
    "        self.size = size\n",
    "        \n",
    "print(Stock(\"GLE\"))\n",
    "print(Future(\"ESZ9\", \"SPX\", date(2019, 12, 31), 1000))"
   ]
  },
  {
   "cell_type": "markdown",
   "metadata": {},
   "source": [
    "### 2.2. Creating custom exceptions"
   ]
  },
  {
   "cell_type": "code",
   "execution_count": 11,
   "metadata": {
    "collapsed": false
   },
   "outputs": [
    {
     "name": "stdout",
     "output_type": "stream",
     "text": [
      "Try 'and I' instead of 'and me'\n",
      "Try 'friend' instead of 'freind'\n"
     ]
    }
   ],
   "source": [
    "class LanguageException(Exception): \n",
    "    pass\n",
    "\n",
    "class GrammarMistake(LanguageException):\n",
    "    pass\n",
    "\n",
    "class SpellingMistake(LanguageException): \n",
    "    pass\n",
    "\n",
    "def correct(text):\n",
    "    #do something to the text\n",
    "    if \"and me are\" in text: \n",
    "        raise GrammarMistake(\"Try 'and I' instead of 'and me'\")\n",
    "    if \"freind\" in text: \n",
    "        raise SpellingMistake(\"Try 'friend' instead of 'freind'\")\n",
    "    return text\n",
    "\n",
    "try: \n",
    "    correct(\"My dad and me are going to the cinema tonight\")\n",
    "except GrammarMistake as e: \n",
    "    print(e)\n",
    "    \n",
    "try: \n",
    "    correct(\"My girlfreind and I are going to the cinema tonight\")\n",
    "except SpellingMistake as e: \n",
    "    print(e)"
   ]
  }
 ],
 "metadata": {
  "kernelspec": {
   "display_name": "Python 3",
   "language": "python",
   "name": "python3"
  },
  "language_info": {
   "codemirror_mode": {
    "name": "ipython",
    "version": 3
   },
   "file_extension": ".py",
   "mimetype": "text/x-python",
   "name": "python",
   "nbconvert_exporter": "python",
   "pygments_lexer": "ipython3",
   "version": "3.6.1"
  }
 },
 "nbformat": 4,
 "nbformat_minor": 2
}
