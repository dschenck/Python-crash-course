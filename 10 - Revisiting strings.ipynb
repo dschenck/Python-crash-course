{
 "cells": [
  {
   "cell_type": "markdown",
   "metadata": {},
   "source": [
    "# Revisiting strings\n",
    "In this section, we revisit strings (which we explored in the first section on primitive types)."
   ]
  },
  {
   "cell_type": "markdown",
   "metadata": {},
   "source": [
    "## 1. A note about immutability\n",
    "We noted at the end of the first section that primitive types are **immutable**. This is by and large intuitive: 1 will always be 1, whether in one script or another. By analogy, an atom (of carbon, of oxygen) will always be that: an atom. Adding 1 to 3 doesn't change either values, it *returns* a **new** value: 4."
   ]
  },
  {
   "cell_type": "code",
   "execution_count": 1,
   "metadata": {
    "collapsed": false
   },
   "outputs": [
    {
     "name": "stdout",
     "output_type": "stream",
     "text": [
      "4\n"
     ]
    }
   ],
   "source": [
    "print(1+3)"
   ]
  },
  {
   "cell_type": "markdown",
   "metadata": {},
   "source": [
    "Similary - and perhaps a little less intuitively - strings are also immutable. Each letter in a string is a well defined character: \"a\" will always be \"a\". Any operation on a string (for example, a concatenation), will return a **new** string"
   ]
  },
  {
   "cell_type": "code",
   "execution_count": 2,
   "metadata": {
    "collapsed": false
   },
   "outputs": [
    {
     "data": {
      "text/plain": [
       "'Hello world!'"
      ]
     },
     "execution_count": 2,
     "metadata": {},
     "output_type": "execute_result"
    }
   ],
   "source": [
    "\"Hello\" + \" \" + \"world!\""
   ]
  },
  {
   "cell_type": "markdown",
   "metadata": {},
   "source": [
    "Similarly, booleans are also immutable. `True` is true, and `False` is false."
   ]
  },
  {
   "cell_type": "code",
   "execution_count": 3,
   "metadata": {
    "collapsed": false
   },
   "outputs": [
    {
     "data": {
      "text/plain": [
       "False"
      ]
     },
     "execution_count": 3,
     "metadata": {},
     "output_type": "execute_result"
    }
   ],
   "source": [
    "not True"
   ]
  },
  {
   "cell_type": "markdown",
   "metadata": {},
   "source": [
    "While the above is by-and-large intuitive, it is perhaps less so when we use variables. Still, the above results hold: the primitive types are immutable. Consider the below examples: "
   ]
  },
  {
   "cell_type": "code",
   "execution_count": 4,
   "metadata": {
    "collapsed": false
   },
   "outputs": [
    {
     "name": "stdout",
     "output_type": "stream",
     "text": [
      "David\n"
     ]
    }
   ],
   "source": [
    "name = \"David\"\n",
    "\n",
    "#let's add some more text\n",
    "name + ' is an awesome teacher'\n",
    "\n",
    "#we see that name is not changed\n",
    "print(name)"
   ]
  },
  {
   "cell_type": "code",
   "execution_count": 5,
   "metadata": {
    "collapsed": false
   },
   "outputs": [
    {
     "name": "stdout",
     "output_type": "stream",
     "text": [
      "True\n"
     ]
    }
   ],
   "source": [
    "happy = True\n",
    "\n",
    "#the not operation returns the opposite boolean\n",
    "not happy\n",
    "\n",
    "#but happy is still True: the variable 'happy' being a primitive type, it is immutable\n",
    "print(happy)"
   ]
  },
  {
   "cell_type": "code",
   "execution_count": 6,
   "metadata": {
    "collapsed": false
   },
   "outputs": [
    {
     "name": "stdout",
     "output_type": "stream",
     "text": [
      "110\n"
     ]
    }
   ],
   "source": [
    "#What about the below syntax \n",
    "friends = 100 \n",
    "\n",
    "#aren't we changing the variable?\n",
    "friends += 10\n",
    "print(friends)\n",
    "\n",
    "#in reality, the increment is a syntax shortcut for the below\n",
    "#we are reassigning to the variable the result of friends + 10\n",
    "friends = friends + 10"
   ]
  },
  {
   "cell_type": "markdown",
   "metadata": {},
   "source": [
    "In contract, the `list` object is **mutable**: we can add, remove, reorder, sort and reverse the elements of the list."
   ]
  },
  {
   "cell_type": "code",
   "execution_count": 7,
   "metadata": {
    "collapsed": false
   },
   "outputs": [
    {
     "name": "stdout",
     "output_type": "stream",
     "text": [
      "[9, 12, 33, 54, 89]\n"
     ]
    }
   ],
   "source": [
    "#consider this list of numbers\n",
    "numbers = [54, 33, 12, 9, 89]\n",
    "\n",
    "#here we are changing the numbers list itself\n",
    "numbers.sort()\n",
    "\n",
    "print(numbers)"
   ]
  },
  {
   "cell_type": "code",
   "execution_count": 8,
   "metadata": {
    "collapsed": false
   },
   "outputs": [
    {
     "name": "stdout",
     "output_type": "stream",
     "text": [
      "None\n"
     ]
    }
   ],
   "source": [
    "#What happens if we try to capture the result of the method call? \n",
    "result = numbers.append(10)\n",
    "\n",
    "#to make explicit that the method is in-place (i.e. changes the object on which we call the method)\n",
    "#the function returns nothing: None\n",
    "print(result)"
   ]
  },
  {
   "cell_type": "markdown",
   "metadata": {},
   "source": [
    "## 2. Strings are list-like\n",
    "Even if strings are **immutable**, and lists are **mutable**, strings and lists share a lot in common: for example, both are sequences, have a length and can be iterated over, as we will see below"
   ]
  },
  {
   "cell_type": "markdown",
   "metadata": {},
   "source": [
    "### 2.1. Strings have methods, like lists"
   ]
  },
  {
   "cell_type": "code",
   "execution_count": 9,
   "metadata": {
    "collapsed": false
   },
   "outputs": [
    {
     "name": "stdout",
     "output_type": "stream",
     "text": [
      "IMF\n",
      "www\n"
     ]
    }
   ],
   "source": [
    "print(\"imf\".upper())\n",
    "print(\"WWW\".lower())"
   ]
  },
  {
   "cell_type": "code",
   "execution_count": 10,
   "metadata": {
    "collapsed": false
   },
   "outputs": [
    {
     "name": "stdout",
     "output_type": "stream",
     "text": [
      "I often forget to capitalize letters\n"
     ]
    }
   ],
   "source": [
    "sentence = \"i often forget to capitalize letters\"\n",
    "print(sentence.capitalize())"
   ]
  },
  {
   "cell_type": "markdown",
   "metadata": {},
   "source": [
    "### 2.2. Strings are indexable, like lists"
   ]
  },
  {
   "cell_type": "code",
   "execution_count": 11,
   "metadata": {
    "collapsed": false
   },
   "outputs": [
    {
     "name": "stdout",
     "output_type": "stream",
     "text": [
      "T\n",
      "h\n",
      "g\n",
      "T\n"
     ]
    }
   ],
   "source": [
    "text = \"The quick brown fox jumps over the lazy dog\"\n",
    "\n",
    "print(text[0])\n",
    "print(text[1])\n",
    "print(text[-1])\n",
    "print(text[-len(text)])"
   ]
  },
  {
   "cell_type": "markdown",
   "metadata": {},
   "source": [
    "### 2.3. Strings are sliceable, like lists"
   ]
  },
  {
   "cell_type": "code",
   "execution_count": 12,
   "metadata": {
    "collapsed": false
   },
   "outputs": [],
   "source": [
    "text = \"The quick brown fox jumps over the lazy dog\""
   ]
  },
  {
   "cell_type": "code",
   "execution_count": 13,
   "metadata": {
    "collapsed": false
   },
   "outputs": [
    {
     "name": "stdout",
     "output_type": "stream",
     "text": [
      "The quick \n"
     ]
    }
   ],
   "source": [
    "print(text[0:10])"
   ]
  },
  {
   "cell_type": "code",
   "execution_count": 14,
   "metadata": {
    "collapsed": false
   },
   "outputs": [
    {
     "name": "stdout",
     "output_type": "stream",
     "text": [
      "The quick brown fox jumps over\n"
     ]
    }
   ],
   "source": [
    "print(text[0:-13])"
   ]
  },
  {
   "cell_type": "code",
   "execution_count": 15,
   "metadata": {
    "collapsed": false
   },
   "outputs": [
    {
     "name": "stdout",
     "output_type": "stream",
     "text": [
      "fox\n"
     ]
    }
   ],
   "source": [
    "print(text[16:19])"
   ]
  },
  {
   "cell_type": "code",
   "execution_count": 16,
   "metadata": {
    "collapsed": false
   },
   "outputs": [
    {
     "name": "stdout",
     "output_type": "stream",
     "text": [
      "lazy\n"
     ]
    }
   ],
   "source": [
    "print(text[-8:-4])"
   ]
  },
  {
   "cell_type": "code",
   "execution_count": 17,
   "metadata": {
    "collapsed": false
   },
   "outputs": [
    {
     "name": "stdout",
     "output_type": "stream",
     "text": [
      "The quick brown fox \n"
     ]
    }
   ],
   "source": [
    "print(text[:20])"
   ]
  },
  {
   "cell_type": "code",
   "execution_count": 18,
   "metadata": {
    "collapsed": false
   },
   "outputs": [
    {
     "name": "stdout",
     "output_type": "stream",
     "text": [
      "The quick brown fox jumps over th\n"
     ]
    }
   ],
   "source": [
    "print(text[:-10])"
   ]
  },
  {
   "cell_type": "code",
   "execution_count": 19,
   "metadata": {
    "collapsed": false
   },
   "outputs": [
    {
     "name": "stdout",
     "output_type": "stream",
     "text": [
      "er the lazy dog\n"
     ]
    }
   ],
   "source": [
    "print(text[-15:])"
   ]
  },
  {
   "cell_type": "code",
   "execution_count": 20,
   "metadata": {
    "collapsed": false
   },
   "outputs": [
    {
     "name": "stdout",
     "output_type": "stream",
     "text": [
      "ps ove\n"
     ]
    }
   ],
   "source": [
    "print(text[-20:-14])"
   ]
  },
  {
   "cell_type": "code",
   "execution_count": 21,
   "metadata": {
    "collapsed": false
   },
   "outputs": [
    {
     "name": "stdout",
     "output_type": "stream",
     "text": [
      "Teqik\n"
     ]
    }
   ],
   "source": [
    "print(text[0:10:2])"
   ]
  },
  {
   "cell_type": "code",
   "execution_count": 22,
   "metadata": {
    "collapsed": false
   },
   "outputs": [
    {
     "name": "stdout",
     "output_type": "stream",
     "text": [
      "god yzal eht revo spmuj xof nworb kciuq ehT\n"
     ]
    }
   ],
   "source": [
    "print(text[::-1])"
   ]
  },
  {
   "cell_type": "markdown",
   "metadata": {},
   "source": [
    "### 2.4. Strings are iterable, like lists"
   ]
  },
  {
   "cell_type": "code",
   "execution_count": 23,
   "metadata": {
    "collapsed": false
   },
   "outputs": [
    {
     "name": "stdout",
     "output_type": "stream",
     "text": [
      "Th qck brwn fx jmps vr th lzy dg\n"
     ]
    }
   ],
   "source": [
    "output = \"\"\n",
    "\n",
    "for letter in text:\n",
    "    if letter.upper() not in [\"A\",\"E\",\"I\",\"O\",\"U\"]:\n",
    "        output += letter\n",
    "\n",
    "print(output)"
   ]
  },
  {
   "cell_type": "markdown",
   "metadata": {},
   "source": [
    "### 2.5. From lists to strings... and vice-versa"
   ]
  },
  {
   "cell_type": "code",
   "execution_count": 24,
   "metadata": {
    "collapsed": false
   },
   "outputs": [
    {
     "name": "stdout",
     "output_type": "stream",
     "text": [
      "['S', 'h', 'a', 'k', 'e', 's', 'p', 'e', 'a', 'r', 'e']\n"
     ]
    }
   ],
   "source": [
    "exploded = list('Shakespeare')\n",
    "print(exploded)"
   ]
  },
  {
   "cell_type": "code",
   "execution_count": 25,
   "metadata": {
    "collapsed": false
   },
   "outputs": [
    {
     "name": "stdout",
     "output_type": "stream",
     "text": [
      "['2018-01-10', 'ICE', 'Brent', '72.87', 'Feb', '2019']\n"
     ]
    }
   ],
   "source": [
    "csv = \"2018-01-10,ICE,Brent,72.87,Feb,2019\".split(\",\")\n",
    "print(csv)"
   ]
  },
  {
   "cell_type": "code",
   "execution_count": 26,
   "metadata": {
    "collapsed": false
   },
   "outputs": [
    {
     "name": "stdout",
     "output_type": "stream",
     "text": [
      "A+B+C\n"
     ]
    }
   ],
   "source": [
    "#The below is not intuitive\n",
    "#we can join a list of strings with a delimiter\n",
    "result = \"+\".join([\"A\",\"B\",\"C\"])\n",
    "print(result)"
   ]
  }
 ],
 "metadata": {
  "kernelspec": {
   "display_name": "Python 3",
   "language": "python",
   "name": "python3"
  },
  "language_info": {
   "codemirror_mode": {
    "name": "ipython",
    "version": 3
   },
   "file_extension": ".py",
   "mimetype": "text/x-python",
   "name": "python",
   "nbconvert_exporter": "python",
   "pygments_lexer": "ipython3",
   "version": "3.6.1"
  }
 },
 "nbformat": 4,
 "nbformat_minor": 2
}
