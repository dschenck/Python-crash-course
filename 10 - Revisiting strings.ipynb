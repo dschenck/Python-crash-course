{
 "cells": [
  {
   "cell_type": "markdown",
   "metadata": {
    "deletable": true,
    "editable": true
   },
   "source": [
    "# Revisiting strings\n",
    "In this section, we revisit strings (which we explored in the first section on primitive types)."
   ]
  },
  {
   "cell_type": "markdown",
   "metadata": {
    "deletable": true,
    "editable": true
   },
   "source": [
    "## 1. A note about immutability\n",
    "We noted at the end of the first section that primitive types are **immutable**. This is by and large intuitive: 1 will always be 1, whether in one script or another. By analogy, an atom (of carbon, of oxygen) will always be that: an atom. Adding 1 to 3 doesn't change either values, it *returns* a **new** value: 4."
   ]
  },
  {
   "cell_type": "code",
   "execution_count": 1,
   "metadata": {
    "collapsed": false,
    "deletable": true,
    "editable": true
   },
   "outputs": [
    {
     "name": "stdout",
     "output_type": "stream",
     "text": [
      "4\n"
     ]
    }
   ],
   "source": [
    "print(1+3)"
   ]
  },
  {
   "cell_type": "markdown",
   "metadata": {
    "deletable": true,
    "editable": true
   },
   "source": [
    "Similary - and perhaps a little less intuitively - strings are also immutable. Each letter in a string is a well defined character: \"a\" will always be \"a\". Any operation on a string (for example, a concatenation), will return a **new** string"
   ]
  },
  {
   "cell_type": "code",
   "execution_count": 2,
   "metadata": {
    "collapsed": false,
    "deletable": true,
    "editable": true
   },
   "outputs": [
    {
     "data": {
      "text/plain": [
       "'Hello world!'"
      ]
     },
     "execution_count": 2,
     "metadata": {},
     "output_type": "execute_result"
    }
   ],
   "source": [
    "\"Hello\" + \" \" + \"world!\""
   ]
  },
  {
   "cell_type": "markdown",
   "metadata": {
    "deletable": true,
    "editable": true
   },
   "source": [
    "Similarly, booleans are also immutable. `True` is true, and `False` is false."
   ]
  },
  {
   "cell_type": "code",
   "execution_count": 3,
   "metadata": {
    "collapsed": false,
    "deletable": true,
    "editable": true
   },
   "outputs": [
    {
     "data": {
      "text/plain": [
       "False"
      ]
     },
     "execution_count": 3,
     "metadata": {},
     "output_type": "execute_result"
    }
   ],
   "source": [
    "not True"
   ]
  },
  {
   "cell_type": "markdown",
   "metadata": {
    "deletable": true,
    "editable": true
   },
   "source": [
    "While the above is by-and-large intuitive, it is perhaps less so when we use variables. Still, the above results hold: the primitive types are immutable. Consider the below examples: "
   ]
  },
  {
   "cell_type": "code",
   "execution_count": 4,
   "metadata": {
    "collapsed": false,
    "deletable": true,
    "editable": true
   },
   "outputs": [
    {
     "name": "stdout",
     "output_type": "stream",
     "text": [
      "David\n"
     ]
    }
   ],
   "source": [
    "name = \"David\"\n",
    "\n",
    "#let's add some more text\n",
    "name + ' is an awesome teacher'\n",
    "\n",
    "#we see that name is not changed\n",
    "print(name)"
   ]
  },
  {
   "cell_type": "code",
   "execution_count": 5,
   "metadata": {
    "collapsed": false,
    "deletable": true,
    "editable": true
   },
   "outputs": [
    {
     "name": "stdout",
     "output_type": "stream",
     "text": [
      "True\n"
     ]
    }
   ],
   "source": [
    "happy = True\n",
    "\n",
    "#the not operation returns the opposite boolean\n",
    "not happy\n",
    "\n",
    "#but happy is still True: the variable 'happy' being a primitive type, it is immutable\n",
    "print(happy)"
   ]
  },
  {
   "cell_type": "code",
   "execution_count": 6,
   "metadata": {
    "collapsed": false,
    "deletable": true,
    "editable": true
   },
   "outputs": [
    {
     "name": "stdout",
     "output_type": "stream",
     "text": [
      "110\n"
     ]
    }
   ],
   "source": [
    "#What about the below syntax \n",
    "friends = 100 \n",
    "\n",
    "#aren't we changing the variable?\n",
    "friends += 10\n",
    "print(friends)\n",
    "\n",
    "#in reality, the increment is a syntax shortcut for the below\n",
    "#we are reassigning to the variable the result of friends + 10\n",
    "friends = friends + 10"
   ]
  },
  {
   "cell_type": "markdown",
   "metadata": {
    "deletable": true,
    "editable": true
   },
   "source": [
    "In contract, the `list` object is **mutable**: we can add, remove, reorder, sort and reverse the elements of the list."
   ]
  },
  {
   "cell_type": "code",
   "execution_count": 7,
   "metadata": {
    "collapsed": false,
    "deletable": true,
    "editable": true
   },
   "outputs": [
    {
     "name": "stdout",
     "output_type": "stream",
     "text": [
      "[9, 12, 33, 54, 89]\n"
     ]
    }
   ],
   "source": [
    "#consider this list of numbers\n",
    "numbers = [54, 33, 12, 9, 89]\n",
    "\n",
    "#here we are changing the numbers list itself\n",
    "numbers.sort()\n",
    "\n",
    "print(numbers)"
   ]
  },
  {
   "cell_type": "code",
   "execution_count": 8,
   "metadata": {
    "collapsed": false,
    "deletable": true,
    "editable": true
   },
   "outputs": [
    {
     "name": "stdout",
     "output_type": "stream",
     "text": [
      "None\n"
     ]
    }
   ],
   "source": [
    "#What happens if we try to capture the result of the method call? \n",
    "result = numbers.append(10)\n",
    "\n",
    "#to make explicit that the method is in-place (i.e. changes the object on which we call the method)\n",
    "#the function returns nothing: None\n",
    "print(result)"
   ]
  },
  {
   "cell_type": "markdown",
   "metadata": {
    "deletable": true,
    "editable": true
   },
   "source": [
    "## 2. Strings are list-like\n",
    "Even if strings are **immutable**, and lists are **mutable**, strings and lists share a lot in common: for example, both are sequences, have a length and can be iterated over, as we will see below"
   ]
  },
  {
   "cell_type": "markdown",
   "metadata": {
    "deletable": true,
    "editable": true
   },
   "source": [
    "### 2.1. Strings have methods, like lists"
   ]
  },
  {
   "cell_type": "code",
   "execution_count": 9,
   "metadata": {
    "collapsed": false,
    "deletable": true,
    "editable": true
   },
   "outputs": [
    {
     "name": "stdout",
     "output_type": "stream",
     "text": [
      "IMF\n",
      "www\n"
     ]
    }
   ],
   "source": [
    "print(\"imf\".upper())\n",
    "print(\"WWW\".lower())"
   ]
  },
  {
   "cell_type": "code",
   "execution_count": 10,
   "metadata": {
    "collapsed": false,
    "deletable": true,
    "editable": true
   },
   "outputs": [
    {
     "name": "stdout",
     "output_type": "stream",
     "text": [
      "I often forget to capitalize letters\n"
     ]
    }
   ],
   "source": [
    "sentence = \"i often forget to capitalize letters\"\n",
    "print(sentence.capitalize())"
   ]
  },
  {
   "cell_type": "markdown",
   "metadata": {
    "deletable": true,
    "editable": true
   },
   "source": [
    "### 2.2. Strings are indexable, like lists"
   ]
  },
  {
   "cell_type": "code",
   "execution_count": 11,
   "metadata": {
    "collapsed": false,
    "deletable": true,
    "editable": true
   },
   "outputs": [
    {
     "name": "stdout",
     "output_type": "stream",
     "text": [
      "T\n",
      "h\n",
      "g\n",
      "T\n"
     ]
    }
   ],
   "source": [
    "text = \"The quick brown fox jumps over the lazy dog\"\n",
    "\n",
    "print(text[0])\n",
    "print(text[1])\n",
    "print(text[-1])\n",
    "print(text[-len(text)])"
   ]
  },
  {
   "cell_type": "markdown",
   "metadata": {
    "deletable": true,
    "editable": true
   },
   "source": [
    "### 2.3. Strings are sliceable, like lists"
   ]
  },
  {
   "cell_type": "code",
   "execution_count": 12,
   "metadata": {
    "collapsed": false,
    "deletable": true,
    "editable": true
   },
   "outputs": [],
   "source": [
    "text = \"The quick brown fox jumps over the lazy dog\""
   ]
  },
  {
   "cell_type": "code",
   "execution_count": 13,
   "metadata": {
    "collapsed": false,
    "deletable": true,
    "editable": true
   },
   "outputs": [
    {
     "name": "stdout",
     "output_type": "stream",
     "text": [
      "The quick \n"
     ]
    }
   ],
   "source": [
    "print(text[0:10])"
   ]
  },
  {
   "cell_type": "code",
   "execution_count": 14,
   "metadata": {
    "collapsed": false,
    "deletable": true,
    "editable": true
   },
   "outputs": [
    {
     "name": "stdout",
     "output_type": "stream",
     "text": [
      "The quick brown fox jumps over\n"
     ]
    }
   ],
   "source": [
    "print(text[0:-13])"
   ]
  },
  {
   "cell_type": "code",
   "execution_count": 15,
   "metadata": {
    "collapsed": false,
    "deletable": true,
    "editable": true
   },
   "outputs": [
    {
     "name": "stdout",
     "output_type": "stream",
     "text": [
      "fox\n"
     ]
    }
   ],
   "source": [
    "print(text[16:19])"
   ]
  },
  {
   "cell_type": "code",
   "execution_count": 16,
   "metadata": {
    "collapsed": false,
    "deletable": true,
    "editable": true
   },
   "outputs": [
    {
     "name": "stdout",
     "output_type": "stream",
     "text": [
      "lazy\n"
     ]
    }
   ],
   "source": [
    "print(text[-8:-4])"
   ]
  },
  {
   "cell_type": "code",
   "execution_count": 17,
   "metadata": {
    "collapsed": false,
    "deletable": true,
    "editable": true
   },
   "outputs": [
    {
     "name": "stdout",
     "output_type": "stream",
     "text": [
      "The quick brown fox \n"
     ]
    }
   ],
   "source": [
    "print(text[:20])"
   ]
  },
  {
   "cell_type": "code",
   "execution_count": 18,
   "metadata": {
    "collapsed": false,
    "deletable": true,
    "editable": true
   },
   "outputs": [
    {
     "name": "stdout",
     "output_type": "stream",
     "text": [
      "The quick brown fox jumps over th\n"
     ]
    }
   ],
   "source": [
    "print(text[:-10])"
   ]
  },
  {
   "cell_type": "code",
   "execution_count": 19,
   "metadata": {
    "collapsed": false,
    "deletable": true,
    "editable": true
   },
   "outputs": [
    {
     "name": "stdout",
     "output_type": "stream",
     "text": [
      "er the lazy dog\n"
     ]
    }
   ],
   "source": [
    "print(text[-15:])"
   ]
  },
  {
   "cell_type": "code",
   "execution_count": 20,
   "metadata": {
    "collapsed": false,
    "deletable": true,
    "editable": true
   },
   "outputs": [
    {
     "name": "stdout",
     "output_type": "stream",
     "text": [
      "ps ove\n"
     ]
    }
   ],
   "source": [
    "print(text[-20:-14])"
   ]
  },
  {
   "cell_type": "code",
   "execution_count": 21,
   "metadata": {
    "collapsed": false,
    "deletable": true,
    "editable": true
   },
   "outputs": [
    {
     "name": "stdout",
     "output_type": "stream",
     "text": [
      "Teqik\n"
     ]
    }
   ],
   "source": [
    "print(text[0:10:2])"
   ]
  },
  {
   "cell_type": "code",
   "execution_count": 22,
   "metadata": {
    "collapsed": false,
    "deletable": true,
    "editable": true
   },
   "outputs": [
    {
     "name": "stdout",
     "output_type": "stream",
     "text": [
      "god yzal eht revo spmuj xof nworb kciuq ehT\n"
     ]
    }
   ],
   "source": [
    "print(text[::-1])"
   ]
  },
  {
   "cell_type": "markdown",
   "metadata": {
    "deletable": true,
    "editable": true
   },
   "source": [
    "### 2.4. Strings are iterable, like lists"
   ]
  },
  {
   "cell_type": "code",
   "execution_count": 23,
   "metadata": {
    "collapsed": false,
    "deletable": true,
    "editable": true
   },
   "outputs": [
    {
     "name": "stdout",
     "output_type": "stream",
     "text": [
      "Th qck brwn fx jmps vr th lzy dg\n"
     ]
    }
   ],
   "source": [
    "output = \"\"\n",
    "\n",
    "for letter in text:\n",
    "    if letter.upper() not in [\"A\",\"E\",\"I\",\"O\",\"U\"]:\n",
    "        output += letter\n",
    "\n",
    "print(output)"
   ]
  },
  {
   "cell_type": "markdown",
   "metadata": {
    "deletable": true,
    "editable": true
   },
   "source": [
    "### 2.5. From lists to strings... and vice-versa"
   ]
  },
  {
   "cell_type": "code",
   "execution_count": 24,
   "metadata": {
    "collapsed": false,
    "deletable": true,
    "editable": true
   },
   "outputs": [
    {
     "name": "stdout",
     "output_type": "stream",
     "text": [
      "['S', 'h', 'a', 'k', 'e', 's', 'p', 'e', 'a', 'r', 'e']\n"
     ]
    }
   ],
   "source": [
    "exploded = list('Shakespeare')\n",
    "print(exploded)"
   ]
  },
  {
   "cell_type": "code",
   "execution_count": 25,
   "metadata": {
    "collapsed": false,
    "deletable": true,
    "editable": true
   },
   "outputs": [
    {
     "name": "stdout",
     "output_type": "stream",
     "text": [
      "['2018-01-10', 'ICE', 'Brent', '72.87', 'Feb', '2019']\n"
     ]
    }
   ],
   "source": [
    "csv = \"2018-01-10,ICE,Brent,72.87,Feb,2019\".split(\",\")\n",
    "print(csv)"
   ]
  },
  {
   "cell_type": "code",
   "execution_count": 26,
   "metadata": {
    "collapsed": false,
    "deletable": true,
    "editable": true
   },
   "outputs": [
    {
     "name": "stdout",
     "output_type": "stream",
     "text": [
      "A+B+C\n"
     ]
    }
   ],
   "source": [
    "#The below is not intuitive\n",
    "#we can join a list of strings with a delimiter\n",
    "result = \"+\".join([\"A\",\"B\",\"C\"])\n",
    "print(result)"
   ]
  },
  {
   "cell_type": "markdown",
   "metadata": {},
   "source": [
    "## Practice\n",
    "\n",
    "### Problem 1\n",
    "A cheque number is a string composed of digits and letters. Each character has a specific value: digits 0 through 9 have their face value (e.g. '4' has value 4). Vowels (a,e,i,o,u) have twice the value of their position (1-based) in the alphabet. Other letters have value equal to 27 minus the position of the letter in the alphabet (1-based). The **checksum** of a cheque number is equal to the sum of the value of each of the characters of the cheque number, *excluding the last three characters*. \n",
    "\n",
    "For instance: \n",
    "```python\n",
    "    number = \"3AFEG2\" #the last three characters, EG2, will not count to the checkcum\n",
    "    checksum = 3 + 2 * 1 + (27 - 6) #F is the 6th letter in the alphabet\n",
    "```\n",
    "\n",
    "Write a function `checksum` that compute the checksum of any given cheque number. Test it on the following number: \n",
    "```python\n",
    "    '3RG0R5ADGCQ50161JS4M91U5ML6H74N0IAEKTCV19Y2NSZXRHU85K536'\n",
    "```"
   ]
  },
  {
   "cell_type": "code",
   "execution_count": null,
   "metadata": {
    "collapsed": true
   },
   "outputs": [],
   "source": []
  },
  {
   "cell_type": "markdown",
   "metadata": {},
   "source": [
    "### Problem 2\n",
    "Write a function `encode` which takes a string and an offset (e.g. 2) and compute the ceasar's cypher of the string. The cypher consists in replacing each character by its offset in the alphabet. Spaces and punctuations are kept in their order. If a letter's offset is beyond the alphabet, then assume the alphabet repeats itself (e.g. 2 offset of Z becomes B)\n",
    "\n",
    "For instance: \n",
    "```python\n",
    "    #assume an offset of 2 characters\n",
    "    text = \"Hello world!\"\n",
    "    cypher = \"Jgnnq yqtnf!\" #H is replaced by J, e by G, etc. \n",
    "```"
   ]
  },
  {
   "cell_type": "code",
   "execution_count": null,
   "metadata": {
    "collapsed": true
   },
   "outputs": [],
   "source": []
  },
  {
   "cell_type": "markdown",
   "metadata": {},
   "source": [
    "### Problem 3\n",
    "A palindromic number is one which can be read both ways. For instance, 101 is a palindromic number. Write a function `ispalindromic` which accepts a number a returns whether the number is a palindrom. "
   ]
  },
  {
   "cell_type": "code",
   "execution_count": null,
   "metadata": {
    "collapsed": true
   },
   "outputs": [],
   "source": []
  },
  {
   "cell_type": "markdown",
   "metadata": {},
   "source": [
    "### Problem 4\n",
    "The largest palindromic number made from the product of two-digit numbers is 91 x 99 = 9009. What is the largest palindromic number made from the product of three-digit numbers? What are these two numbers? "
   ]
  },
  {
   "cell_type": "code",
   "execution_count": null,
   "metadata": {
    "collapsed": true
   },
   "outputs": [],
   "source": []
  },
  {
   "cell_type": "markdown",
   "metadata": {},
   "source": [
    "### Problem 5\n",
    "Assume the number below: \n",
    "```python \n",
    "number = 78910739231689512412\n",
    "```\n",
    "\n",
    "The largest product of four adjacent digits in the above number is 6 x 8 x 9 x 5 = 2160. Write a function that finds the largest product of the seven adjacent digits in any given number."
   ]
  },
  {
   "cell_type": "code",
   "execution_count": null,
   "metadata": {
    "collapsed": true
   },
   "outputs": [],
   "source": []
  },
  {
   "cell_type": "markdown",
   "metadata": {},
   "source": [
    "### Problem 6\n",
    "As a chemist, you developped an awesome new plastic, made up of a single, long polymer (chaine of molecules). Each molecule of the chaine has a type (represented by a letter A through Z) and a polarity (uppercase for positive, lowercase for negative). Under intense heat however (e.g. fire), your plastic melts and transforms: two adjacent molecules of the same type but of opposite polarity react, burn and dissapear, leaving you with a reduced form of the initial molecule. \n",
    "\n",
    "For instance: \n",
    "```\n",
    "    initial = \"dabAcCaCBAcCcaDA\"\n",
    "    reduced = \"dabCBAcaDA\" \n",
    "```\n",
    "\n",
    "Write a function `reduce` which computes how a polymer reacts under heat. Try it on the polymer chain stored in 'data/polymer.txt'."
   ]
  },
  {
   "cell_type": "code",
   "execution_count": null,
   "metadata": {
    "collapsed": true
   },
   "outputs": [],
   "source": []
  }
 ],
 "metadata": {
  "kernelspec": {
   "display_name": "Python 3",
   "language": "python",
   "name": "python3"
  },
  "language_info": {
   "codemirror_mode": {
    "name": "ipython",
    "version": 3
   },
   "file_extension": ".py",
   "mimetype": "text/x-python",
   "name": "python",
   "nbconvert_exporter": "python",
   "pygments_lexer": "ipython3",
   "version": "3.6.1"
  }
 },
 "nbformat": 4,
 "nbformat_minor": 2
}
