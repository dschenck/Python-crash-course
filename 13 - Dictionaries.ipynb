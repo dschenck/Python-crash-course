{
 "cells": [
  {
   "cell_type": "markdown",
   "metadata": {
    "deletable": true,
    "editable": true
   },
   "source": [
    "# Dictionaries\n",
    "Dictionaries are efficient containers (objects) that map keys to values"
   ]
  },
  {
   "cell_type": "code",
   "execution_count": 1,
   "metadata": {
    "collapsed": false,
    "deletable": true,
    "editable": true
   },
   "outputs": [
    {
     "name": "stdout",
     "output_type": "stream",
     "text": [
      "{'firstname': 'Barack', 'lastname': 'Obama', 'age': 55, 'married': True}\n"
     ]
    }
   ],
   "source": [
    "identity = {\"firstname\":\"Barack\", \"lastname\":\"Obama\", \"age\":55, \"married\":True}\n",
    "print(identity)"
   ]
  },
  {
   "cell_type": "code",
   "execution_count": 2,
   "metadata": {
    "collapsed": false,
    "deletable": true,
    "editable": true
   },
   "outputs": [
    {
     "data": {
      "text/plain": [
       "dict"
      ]
     },
     "execution_count": 2,
     "metadata": {},
     "output_type": "execute_result"
    }
   ],
   "source": [
    "type(identity)"
   ]
  },
  {
   "cell_type": "code",
   "execution_count": 3,
   "metadata": {
    "collapsed": false,
    "deletable": true,
    "editable": true
   },
   "outputs": [
    {
     "data": {
      "text/plain": [
       "4"
      ]
     },
     "execution_count": 3,
     "metadata": {},
     "output_type": "execute_result"
    }
   ],
   "source": [
    "len(identity)"
   ]
  },
  {
   "cell_type": "markdown",
   "metadata": {
    "deletable": true,
    "editable": true
   },
   "source": [
    "## 1. Accessing"
   ]
  },
  {
   "cell_type": "code",
   "execution_count": 4,
   "metadata": {
    "collapsed": false,
    "deletable": true,
    "editable": true
   },
   "outputs": [
    {
     "name": "stdout",
     "output_type": "stream",
     "text": [
      "Barack\n",
      "Obama\n"
     ]
    }
   ],
   "source": [
    "#You can access to a value by its key\n",
    "print(identity[\"firstname\"])\n",
    "print(identity[\"lastname\"])"
   ]
  },
  {
   "cell_type": "code",
   "execution_count": 5,
   "metadata": {
    "collapsed": false,
    "deletable": true,
    "editable": true
   },
   "outputs": [
    {
     "name": "stdout",
     "output_type": "stream",
     "text": [
      "{'firstname': 'Barack', 'lastname': 'Obama', 'age': 55, 'married': True, 'mandates': 2}\n"
     ]
    }
   ],
   "source": [
    "#You can assign new values\n",
    "identity[\"mandates\"] = 2\n",
    "\n",
    "print(identity)"
   ]
  },
  {
   "cell_type": "code",
   "execution_count": 6,
   "metadata": {
    "collapsed": false,
    "deletable": true,
    "editable": true
   },
   "outputs": [
    {
     "name": "stdout",
     "output_type": "stream",
     "text": [
      "{'firstname': 'Barack', 'lastname': 'Obama', 'age': 57, 'married': True, 'mandates': 2}\n"
     ]
    }
   ],
   "source": [
    "#You can amend or edit an entry similary\n",
    "identity[\"age\"] = 57\n",
    "\n",
    "print(identity)"
   ]
  },
  {
   "cell_type": "code",
   "execution_count": 7,
   "metadata": {
    "collapsed": false,
    "deletable": true,
    "editable": true
   },
   "outputs": [
    {
     "name": "stdout",
     "output_type": "stream",
     "text": [
      "False\n",
      "True\n"
     ]
    }
   ],
   "source": [
    "#You can check if a dictionaries contains a key\n",
    "print(\"has a dog\" in identity)\n",
    "print(\"married\" in identity)"
   ]
  },
  {
   "cell_type": "code",
   "execution_count": 8,
   "metadata": {
    "collapsed": false,
    "deletable": true,
    "editable": true
   },
   "outputs": [
    {
     "ename": "KeyError",
     "evalue": "'address'",
     "output_type": "error",
     "traceback": [
      "\u001b[0;31m---------------------------------------------------------------------------\u001b[0m",
      "\u001b[0;31mKeyError\u001b[0m                                  Traceback (most recent call last)",
      "\u001b[0;32m<ipython-input-8-9a903f42361f>\u001b[0m in \u001b[0;36m<module>\u001b[0;34m()\u001b[0m\n\u001b[1;32m      1\u001b[0m \u001b[0;31m#Trying to access an inexistent key raises an error\u001b[0m\u001b[0;34m\u001b[0m\u001b[0;34m\u001b[0m\u001b[0m\n\u001b[0;32m----> 2\u001b[0;31m \u001b[0mprint\u001b[0m\u001b[0;34m(\u001b[0m\u001b[0midentity\u001b[0m\u001b[0;34m[\u001b[0m\u001b[0;34m\"address\"\u001b[0m\u001b[0;34m]\u001b[0m\u001b[0;34m)\u001b[0m\u001b[0;34m\u001b[0m\u001b[0m\n\u001b[0m",
      "\u001b[0;31mKeyError\u001b[0m: 'address'"
     ]
    }
   ],
   "source": [
    "#Trying to access an inexistent key raises an error\n",
    "print(identity[\"address\"])"
   ]
  },
  {
   "cell_type": "code",
   "execution_count": 9,
   "metadata": {
    "collapsed": false,
    "deletable": true,
    "editable": true
   },
   "outputs": [
    {
     "name": "stdout",
     "output_type": "stream",
     "text": [
      "{'firstname': 'Barack', 'lastname': 'Obama', 'age': 57, 'mandates': 2}\n"
     ]
    }
   ],
   "source": [
    "#You can delete an entry using the del keyword\n",
    "del identity[\"married\"]\n",
    "\n",
    "print(identity)"
   ]
  },
  {
   "cell_type": "markdown",
   "metadata": {
    "deletable": true,
    "editable": true
   },
   "source": [
    "## 2. Methods\n",
    "Dictionaries, like everything else in Python are objects and have methods"
   ]
  },
  {
   "cell_type": "code",
   "execution_count": 10,
   "metadata": {
    "collapsed": false,
    "deletable": true,
    "editable": true
   },
   "outputs": [
    {
     "name": "stdout",
     "output_type": "stream",
     "text": [
      "Barack\n",
      "unknown\n"
     ]
    }
   ],
   "source": [
    "#Unsure if the key exists? Use the .get method and get a default value if it doesn't exist\n",
    "print(identity.get(\"firstname\", \"whoops\"))\n",
    "print(identity.get(\"height\", \"unknown\"))"
   ]
  },
  {
   "cell_type": "code",
   "execution_count": 11,
   "metadata": {
    "collapsed": false,
    "deletable": true,
    "editable": true
   },
   "outputs": [
    {
     "name": "stdout",
     "output_type": "stream",
     "text": [
      "{'EUR': 'Euro', 'CNY': 'Chinese Yuan', 'GBP': 'British Pound'}\n",
      "{'GBP': 'British Pound', 'CNY': 'Chinese Yuan'}\n"
     ]
    }
   ],
   "source": [
    "#update (in-place) a dictionary with another\n",
    "currencies = {\"EUR\":\"Euro\",\"CNY\":\"Chinese New Year?\"}\n",
    "others = {\"GBP\":\"British Pound\", \"CNY\":\"Chinese Yuan\"}\n",
    "\n",
    "currencies.update(others)\n",
    "\n",
    "#Notice how it overwrote the CNY\n",
    "print(currencies)\n",
    "print(others)"
   ]
  },
  {
   "cell_type": "code",
   "execution_count": 12,
   "metadata": {
    "collapsed": false,
    "deletable": true,
    "editable": true
   },
   "outputs": [
    {
     "name": "stdout",
     "output_type": "stream",
     "text": [
      "{'firstname': 'Barack', 'lastname': 'Obama', 'age': 57, 'mandates': 2}\n"
     ]
    }
   ],
   "source": [
    "#Copy\n",
    "duplicate = identity.copy()\n",
    "\n",
    "print(identity)"
   ]
  },
  {
   "cell_type": "markdown",
   "metadata": {
    "deletable": true,
    "editable": true
   },
   "source": [
    "## 3. Iterating over dictionary"
   ]
  },
  {
   "cell_type": "code",
   "execution_count": 13,
   "metadata": {
    "collapsed": false,
    "deletable": true,
    "editable": true
   },
   "outputs": [
    {
     "name": "stdout",
     "output_type": "stream",
     "text": [
      "The person's firstname is Barack\n",
      "The person's lastname is Obama\n",
      "The person's age is 57\n",
      "The person's mandates is 2\n"
     ]
    }
   ],
   "source": [
    "for field in identity: \n",
    "    print(\"The person's {} is {}\".format(field, identity[field]))"
   ]
  },
  {
   "cell_type": "code",
   "execution_count": 14,
   "metadata": {
    "collapsed": false,
    "deletable": true,
    "editable": true
   },
   "outputs": [
    {
     "name": "stdout",
     "output_type": "stream",
     "text": [
      "Euro\n",
      "Chinese Yuan\n",
      "British Pound\n"
     ]
    }
   ],
   "source": [
    "#Get a list of values\n",
    "for currency in currencies.values():\n",
    "    print(currency)"
   ]
  },
  {
   "cell_type": "code",
   "execution_count": 15,
   "metadata": {
    "collapsed": false,
    "deletable": true,
    "editable": true
   },
   "outputs": [
    {
     "name": "stdout",
     "output_type": "stream",
     "text": [
      "EUR is the ticker for the Euro\n",
      "CNY is the ticker for the Chinese Yuan\n",
      "GBP is the ticker for the British Pound\n"
     ]
    }
   ],
   "source": [
    "#Get a list of key, value tuples\n",
    "for ticker, currency in currencies.items():\n",
    "    print(\"{} is the ticker for the {}\".format(ticker, currency))\n",
    "    "
   ]
  },
  {
   "cell_type": "code",
   "execution_count": 16,
   "metadata": {
    "collapsed": false,
    "deletable": true,
    "editable": true
   },
   "outputs": [
    {
     "name": "stdout",
     "output_type": "stream",
     "text": [
      "firstname\n",
      "lastname\n",
      "age\n",
      "mandates\n"
     ]
    }
   ],
   "source": [
    "#Get a list of keys\n",
    "for field in identity.keys():\n",
    "    print(field)"
   ]
  },
  {
   "cell_type": "markdown",
   "metadata": {
    "deletable": true,
    "editable": true
   },
   "source": [
    "## Practice\n",
    "\n",
    "### Problem 1\n",
    "Write a function that accepts a string, and returns a dictionary where the keys are the letters of the string, and the values are the number of times each of the letter appeared in the string. Ignore spaces and punctuation marks.\n",
    "\n",
    "For instance: \n",
    "```python\n",
    "    text = \"Hello world\"\n",
    "    output = {\"h\":1, \"e\":1, \"l\":3, \"o\":2, \"w\":1, \"r\":1, \"d\":1}\n",
    "```"
   ]
  },
  {
   "cell_type": "code",
   "execution_count": null,
   "metadata": {
    "collapsed": true,
    "deletable": true,
    "editable": true
   },
   "outputs": [],
   "source": []
  },
  {
   "cell_type": "markdown",
   "metadata": {
    "deletable": true,
    "editable": true
   },
   "source": [
    "### Problem 2\n",
    "Write a function that computes the most frequent word in a given string."
   ]
  },
  {
   "cell_type": "code",
   "execution_count": null,
   "metadata": {
    "collapsed": true,
    "deletable": true,
    "editable": true
   },
   "outputs": [],
   "source": []
  },
  {
   "cell_type": "markdown",
   "metadata": {},
   "source": [
    "### Problem 3\n",
    "Write a function that returns the letter associated with an AZERTY keyboard when you pass it a letter form a QWERTY keyboard: \n",
    "\n",
    "For instance: \n",
    "\n",
    "```python\n",
    "    character = \"Q\"\n",
    "    output = \"A\"\n",
    "```"
   ]
  },
  {
   "cell_type": "code",
   "execution_count": null,
   "metadata": {
    "collapsed": true
   },
   "outputs": [],
   "source": []
  }
 ],
 "metadata": {
  "kernelspec": {
   "display_name": "Python 3",
   "language": "python",
   "name": "python3"
  },
  "language_info": {
   "codemirror_mode": {
    "name": "ipython",
    "version": 3
   },
   "file_extension": ".py",
   "mimetype": "text/x-python",
   "name": "python",
   "nbconvert_exporter": "python",
   "pygments_lexer": "ipython3",
   "version": "3.6.1"
  }
 },
 "nbformat": 4,
 "nbformat_minor": 2
}
