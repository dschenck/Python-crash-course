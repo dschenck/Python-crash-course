{
 "cells": [
  {
   "cell_type": "markdown",
   "metadata": {
    "deletable": true,
    "editable": true
   },
   "source": [
    "# Reading from and writing to files\n",
    "Writing and reading to files - called input/output (io in short) - is an essential feature of many programing languages. In Python, io operations require three broad steps: \n",
    "1. Opening the file\n",
    "2. Reading or writing to the file (or both)\n",
    "3. Closing the file\n",
    "\n",
    "Opening the file is done via the `open` function, which is a built-in function. The function takes two arguments: the path of the file we would like to open (either relative to the Python script or absolute, e.g. C:/users/...), and a mode. There are several modes: \n",
    "1. `r` (reading) is the mode used to read a file\n",
    "2. `w` (writing) is the mode used to writing to a file. If the file already exists, **it is overwritten**\n",
    "3. `a` (appending) is used to append to a file. If the file doesn't exist, it is created. "
   ]
  },
  {
   "cell_type": "markdown",
   "metadata": {
    "collapsed": true,
    "deletable": true,
    "editable": true
   },
   "source": [
    "## 1. Reading from a file"
   ]
  },
  {
   "cell_type": "code",
   "execution_count": 1,
   "metadata": {
    "collapsed": false,
    "deletable": true,
    "editable": true
   },
   "outputs": [
    {
     "data": {
      "text/plain": [
       "_io.TextIOWrapper"
      ]
     },
     "execution_count": 1,
     "metadata": {},
     "output_type": "execute_result"
    }
   ],
   "source": [
    "#Open the file with the open function\n",
    "#This function returns a new object which represents a virtual file\n",
    "file = open('misc/sample.txt', 'r')\n",
    "\n",
    "type(file)"
   ]
  },
  {
   "cell_type": "code",
   "execution_count": 2,
   "metadata": {
    "collapsed": false,
    "deletable": true,
    "editable": true
   },
   "outputs": [
    {
     "name": "stdout",
     "output_type": "stream",
     "text": [
      "Did you know the average person falls asleep in 7 minutes?\n",
      "Did you know 8% of people have an extra rib?\n"
     ]
    }
   ],
   "source": [
    "#Lets read the contents of the file\n",
    "contents = file.read()\n",
    "print(contents)"
   ]
  },
  {
   "cell_type": "code",
   "execution_count": 3,
   "metadata": {
    "collapsed": true,
    "deletable": true,
    "editable": true
   },
   "outputs": [],
   "source": [
    "#Let's now close the file\n",
    "#Unless you close it, the file will remain open and you won't be able to do anything with it in other software\n",
    "file.close()"
   ]
  },
  {
   "cell_type": "code",
   "execution_count": 4,
   "metadata": {
    "collapsed": false,
    "deletable": true,
    "editable": true
   },
   "outputs": [
    {
     "name": "stdout",
     "output_type": "stream",
     "text": [
      "Did you know the average person falls asleep in 7 minutes?\n",
      "\n",
      "Did you know 8% of people have an extra rib?\n"
     ]
    }
   ],
   "source": [
    "#An alternative way is to read line by line, iterating over the file\n",
    "file = open('misc/sample.txt', 'r')\n",
    "\n",
    "for line in file: \n",
    "    print(line)\n",
    "\n",
    "#never forget to close the file! \n",
    "file.close()"
   ]
  },
  {
   "cell_type": "code",
   "execution_count": 5,
   "metadata": {
    "collapsed": false,
    "deletable": true,
    "editable": true
   },
   "outputs": [
    {
     "name": "stdout",
     "output_type": "stream",
     "text": [
      "Did you know the average person falls asleep in 7 minutes?\n",
      "\n"
     ]
    }
   ],
   "source": [
    "#For huge files, you can also read line by line... but this involves file cursors\n",
    "#For now, just be aware this exists, and google it further if you ever need to handle multi-gigabyte files\n",
    "file = open('misc/sample.txt', 'r')\n",
    "\n",
    "line = file.readline()\n",
    "print(line)\n",
    "\n",
    "file.close()"
   ]
  },
  {
   "cell_type": "markdown",
   "metadata": {
    "deletable": true,
    "editable": true
   },
   "source": [
    "## 2. Writing to files"
   ]
  },
  {
   "cell_type": "code",
   "execution_count": 6,
   "metadata": {
    "collapsed": true,
    "deletable": true,
    "editable": true
   },
   "outputs": [],
   "source": [
    "#Create (or override an existing) file in the 'w' mode\n",
    "file = open('misc/output.txt', 'w')\n",
    "\n",
    "#Write into the file using the write method\n",
    "file.write(\"I'm going to make him an offer he can't refuse.\")\n",
    "\n",
    "#Finally, close the file\n",
    "file.close()"
   ]
  },
  {
   "cell_type": "code",
   "execution_count": 7,
   "metadata": {
    "collapsed": true,
    "deletable": true,
    "editable": true
   },
   "outputs": [],
   "source": [
    "#Be aware that the 'w' mode overrides any existing file \n",
    "file = open('misc/output.txt', 'w')\n",
    "\n",
    "#Write into the file using the write method\n",
    "file.write(\"This file is not going to include the first sentence I wrote above\")\n",
    "\n",
    "#Finally, close the file\n",
    "file.close()"
   ]
  },
  {
   "cell_type": "code",
   "execution_count": 8,
   "metadata": {
    "collapsed": false,
    "deletable": true,
    "editable": true
   },
   "outputs": [
    {
     "name": "stdout",
     "output_type": "stream",
     "text": [
      "This file is not going to include the first sentence I wrote above\n"
     ]
    }
   ],
   "source": [
    "#Want to check that? \n",
    "#Let's read the file\n",
    "file = open('misc/output.txt', 'r')\n",
    "print(file.read())\n",
    "file.close()"
   ]
  },
  {
   "cell_type": "markdown",
   "metadata": {
    "deletable": true,
    "editable": true
   },
   "source": [
    "## 3. Appending to a file\n",
    "If you paid close attention, we said that the `w` mode **overwrites** any existing content when you call the open function. If you want to append to an existing file (or create it if it doesn't exist), use the `a` mode. "
   ]
  },
  {
   "cell_type": "code",
   "execution_count": 9,
   "metadata": {
    "collapsed": false,
    "deletable": true,
    "editable": true
   },
   "outputs": [
    {
     "name": "stdout",
     "output_type": "stream",
     "text": [
      "This is the first line of the text\n",
      "This is the second line of the text\n",
      "This is the third line of the text\n"
     ]
    }
   ],
   "source": [
    "file = open('misc/output-2.txt', 'w')\n",
    "file.write('This is the first line of the text')\n",
    "file.write('\\n') #write a return carriage\n",
    "file.write('This is the second line of the text')\n",
    "file.write('\\n') #write a return carriage\n",
    "file.close()\n",
    "\n",
    "#Now let's add (append) some more content to that file\n",
    "file = open('misc/output-2.txt', 'a')\n",
    "file.write('This is the third line of the text')\n",
    "file.close()\n",
    "\n",
    "#Let's inspect the contents of the file\n",
    "file = open('misc/output-2.txt', 'r')\n",
    "print(file.read())\n",
    "file.close()"
   ]
  },
  {
   "cell_type": "markdown",
   "metadata": {
    "deletable": true,
    "editable": true
   },
   "source": [
    "## 4. The context manager\n",
    "The above is intended to show you how to read and write to a file. In practice, we will always use the following syntax, which does not require us to close the file (it will be closed automatically)."
   ]
  },
  {
   "cell_type": "code",
   "execution_count": 10,
   "metadata": {
    "collapsed": false,
    "deletable": true,
    "editable": true
   },
   "outputs": [
    {
     "name": "stdout",
     "output_type": "stream",
     "text": [
      "Did you know the average person falls asleep in 7 minutes?\n",
      "Did you know 8% of people have an extra rib?\n"
     ]
    }
   ],
   "source": [
    "with open('misc/sample.txt', 'r') as file:\n",
    "    print(file.read())"
   ]
  },
  {
   "cell_type": "markdown",
   "metadata": {
    "deletable": true,
    "editable": true
   },
   "source": [
    "**Why do we use the context manager**?\n",
    "If you have an error in your script between the moment you opened a file and closed the file, you risk having your file left open in the system. Have you ever tried deleting a file (Excel, Word) which was open at the same time? To remediate this problem, use a context manager: this is an alternative syntax that will make sure the file is closed, regardless of whether you have an error or not. "
   ]
  },
  {
   "cell_type": "code",
   "execution_count": 11,
   "metadata": {
    "collapsed": false,
    "deletable": true,
    "editable": true
   },
   "outputs": [
    {
     "ename": "ZeroDivisionError",
     "evalue": "division by zero",
     "output_type": "error",
     "traceback": [
      "\u001b[0;31m---------------------------------------------------------------------------\u001b[0m",
      "\u001b[0;31mZeroDivisionError\u001b[0m                         Traceback (most recent call last)",
      "\u001b[0;32m<ipython-input-11-49aef6f6b01a>\u001b[0m in \u001b[0;36m<module>\u001b[0;34m()\u001b[0m\n\u001b[1;32m      3\u001b[0m \u001b[0mfile\u001b[0m\u001b[0;34m.\u001b[0m\u001b[0mwrite\u001b[0m\u001b[0;34m(\u001b[0m\u001b[0;34m\"This will certainly fail\"\u001b[0m\u001b[0;34m)\u001b[0m\u001b[0;34m\u001b[0m\u001b[0m\n\u001b[1;32m      4\u001b[0m \u001b[0mfile\u001b[0m\u001b[0;34m.\u001b[0m\u001b[0mwrite\u001b[0m\u001b[0;34m(\u001b[0m\u001b[0;34m\"\\n\"\u001b[0m\u001b[0;34m)\u001b[0m\u001b[0;34m\u001b[0m\u001b[0m\n\u001b[0;32m----> 5\u001b[0;31m \u001b[0mfile\u001b[0m\u001b[0;34m.\u001b[0m\u001b[0mwrite\u001b[0m\u001b[0;34m(\u001b[0m\u001b[0;34m\"1 divided by 0 is {}\"\u001b[0m\u001b[0;34m.\u001b[0m\u001b[0mformat\u001b[0m\u001b[0;34m(\u001b[0m\u001b[0;36m1\u001b[0m\u001b[0;34m/\u001b[0m\u001b[0;36m0\u001b[0m\u001b[0;34m)\u001b[0m\u001b[0;34m)\u001b[0m\u001b[0;34m\u001b[0m\u001b[0m\n\u001b[0m\u001b[1;32m      6\u001b[0m \u001b[0;34m\u001b[0m\u001b[0m\n\u001b[1;32m      7\u001b[0m \u001b[0;31m#This is useless, as the code will crash on the above line\u001b[0m\u001b[0;34m\u001b[0m\u001b[0;34m\u001b[0m\u001b[0m\n",
      "\u001b[0;31mZeroDivisionError\u001b[0m: division by zero"
     ]
    }
   ],
   "source": [
    "#Try this carefully\n",
    "file = open('misc/fail.txt', 'w')\n",
    "file.write(\"This will certainly fail\")\n",
    "file.write(\"\\n\")\n",
    "file.write(\"1 divided by 0 is {}\".format(1/0))\n",
    "\n",
    "#This is useless, as the code will crash on the above line\n",
    "file.close()\n",
    "\n",
    "#If you now try to delete the file (via your file browser), it will likely tell you that you can't\n",
    "#There is a lock on the file: it is locked in the Python process, even if your script crashed! "
   ]
  },
  {
   "cell_type": "code",
   "execution_count": 12,
   "metadata": {
    "collapsed": false,
    "deletable": true,
    "editable": true
   },
   "outputs": [
    {
     "ename": "ZeroDivisionError",
     "evalue": "division by zero",
     "output_type": "error",
     "traceback": [
      "\u001b[0;31m---------------------------------------------------------------------------\u001b[0m",
      "\u001b[0;31mZeroDivisionError\u001b[0m                         Traceback (most recent call last)",
      "\u001b[0;32m<ipython-input-12-8fd04381bdf3>\u001b[0m in \u001b[0;36m<module>\u001b[0;34m()\u001b[0m\n\u001b[1;32m      2\u001b[0m     \u001b[0mfile\u001b[0m\u001b[0;34m.\u001b[0m\u001b[0mwrite\u001b[0m\u001b[0;34m(\u001b[0m\u001b[0;34m\"This will certainly fail\"\u001b[0m\u001b[0;34m)\u001b[0m\u001b[0;34m\u001b[0m\u001b[0m\n\u001b[1;32m      3\u001b[0m     \u001b[0mfile\u001b[0m\u001b[0;34m.\u001b[0m\u001b[0mwrite\u001b[0m\u001b[0;34m(\u001b[0m\u001b[0;34m\"\\n\"\u001b[0m\u001b[0;34m)\u001b[0m\u001b[0;34m\u001b[0m\u001b[0m\n\u001b[0;32m----> 4\u001b[0;31m     \u001b[0mfile\u001b[0m\u001b[0;34m.\u001b[0m\u001b[0mwrite\u001b[0m\u001b[0;34m(\u001b[0m\u001b[0;34m\"1 divided by 0 is {}\"\u001b[0m\u001b[0;34m.\u001b[0m\u001b[0mformat\u001b[0m\u001b[0;34m(\u001b[0m\u001b[0;36m1\u001b[0m\u001b[0;34m/\u001b[0m\u001b[0;36m0\u001b[0m\u001b[0;34m)\u001b[0m\u001b[0;34m)\u001b[0m\u001b[0;34m\u001b[0m\u001b[0m\n\u001b[0m\u001b[1;32m      5\u001b[0m \u001b[0;34m\u001b[0m\u001b[0m\n\u001b[1;32m      6\u001b[0m \u001b[0;31m#As above, the script failed.\u001b[0m\u001b[0;34m\u001b[0m\u001b[0;34m\u001b[0m\u001b[0m\n",
      "\u001b[0;31mZeroDivisionError\u001b[0m: division by zero"
     ]
    }
   ],
   "source": [
    "with open('misc/output.txt', 'w') as file: \n",
    "    file.write(\"This will certainly fail\")\n",
    "    file.write(\"\\n\")\n",
    "    file.write(\"1 divided by 0 is {}\".format(1/0))\n",
    "    \n",
    "#As above, the script failed. \n",
    "#But the file was closed anyways"
   ]
  },
  {
   "cell_type": "code",
   "execution_count": 13,
   "metadata": {
    "collapsed": false,
    "deletable": true,
    "editable": true
   },
   "outputs": [
    {
     "ename": "ZeroDivisionError",
     "evalue": "division by zero",
     "output_type": "error",
     "traceback": [
      "\u001b[0;31m---------------------------------------------------------------------------\u001b[0m",
      "\u001b[0;31mZeroDivisionError\u001b[0m                         Traceback (most recent call last)",
      "\u001b[0;32m<ipython-input-13-debbc947459b>\u001b[0m in \u001b[0;36m<module>\u001b[0;34m()\u001b[0m\n\u001b[1;32m      4\u001b[0m     \u001b[0mfile\u001b[0m\u001b[0;34m.\u001b[0m\u001b[0mwrite\u001b[0m\u001b[0;34m(\u001b[0m\u001b[0;34m\"This will certainly fail\"\u001b[0m\u001b[0;34m)\u001b[0m\u001b[0;34m\u001b[0m\u001b[0m\n\u001b[1;32m      5\u001b[0m     \u001b[0mfile\u001b[0m\u001b[0;34m.\u001b[0m\u001b[0mwrite\u001b[0m\u001b[0;34m(\u001b[0m\u001b[0;34m\"\\n\"\u001b[0m\u001b[0;34m)\u001b[0m\u001b[0;34m\u001b[0m\u001b[0m\n\u001b[0;32m----> 6\u001b[0;31m     \u001b[0mfile\u001b[0m\u001b[0;34m.\u001b[0m\u001b[0mwrite\u001b[0m\u001b[0;34m(\u001b[0m\u001b[0;34m\"1 divided by 0 is {}\"\u001b[0m\u001b[0;34m.\u001b[0m\u001b[0mformat\u001b[0m\u001b[0;34m(\u001b[0m\u001b[0;36m1\u001b[0m\u001b[0;34m/\u001b[0m\u001b[0;36m0\u001b[0m\u001b[0;34m)\u001b[0m\u001b[0;34m)\u001b[0m\u001b[0;34m\u001b[0m\u001b[0m\n\u001b[0m\u001b[1;32m      7\u001b[0m \u001b[0;32mexcept\u001b[0m\u001b[0;34m:\u001b[0m\u001b[0;34m\u001b[0m\u001b[0m\n\u001b[1;32m      8\u001b[0m     \u001b[0;32mraise\u001b[0m\u001b[0;34m\u001b[0m\u001b[0m\n",
      "\u001b[0;31mZeroDivisionError\u001b[0m: division by zero"
     ]
    }
   ],
   "source": [
    "#The above is equivalent to the below: \n",
    "file = open('misc/output.txt', 'w')\n",
    "try: \n",
    "    file.write(\"This will certainly fail\")\n",
    "    file.write(\"\\n\")\n",
    "    file.write(\"1 divided by 0 is {}\".format(1/0))\n",
    "except: \n",
    "    raise\n",
    "finally: \n",
    "    file.close()"
   ]
  },
  {
   "cell_type": "markdown",
   "metadata": {
    "deletable": true,
    "editable": true
   },
   "source": [
    "## Practice\n",
    "### Problem 1\n",
    "You operate a metal warehouse, where producers and consumers can collect and deposit metal inventories. Every time a client comes to the warehouse, your system records the amount (in tons) of metal that entered (with a `+` sign) or left the warehouse (with a `-` sign), and prints it to a file (see `data/warehouse.txt`). Using this logfile: \n",
    "1. Print the first three lines, and the last three lines\n",
    "2. How many different metals does your metal warehouse store?\n",
    "3. How many copper tons entered the warehouse? How many aluminium tons left the warehouse? \n",
    "4. Which metals had net withdrawls? \n"
   ]
  },
  {
   "cell_type": "code",
   "execution_count": null,
   "metadata": {
    "collapsed": true,
    "deletable": true,
    "editable": true
   },
   "outputs": [],
   "source": []
  },
  {
   "cell_type": "markdown",
   "metadata": {
    "deletable": true,
    "editable": true
   },
   "source": [
    "### Problem 2\n",
    "**Auction the land**. You are the owner of a huge swath of land (1000km by 1000km) in North Dakota - rich in shale oil. You have decided to auction your territory. You received a list of bids (see `data/bids.txt`), which your intern compiled in a single text file. Each bid is for a rectangular cut of your territory, defined by a width and a height (in km), starting at a particular set of coordinates (left, down) relative to the upper-left most point of your territory. \n",
    "\n",
    "Each bid contains the following information: \n",
    "- Bid unique identifier (e.g. # 124)\n",
    "- Kilometres left from the reference point\n",
    "- Kilometres down from the reference point\n",
    "- Kilometres wide\n",
    "- Kilometres tall\n",
    "\n",
    "For example, bid `#123 @ 2,5: 4x3` is dolan's bid (#123), starting 2km left, 5km down, and is 4km wide and 3km tall. Assuming `X` is your reference point, this bid would be for the area marked with `O` in the below diagram:\n",
    "\n",
    "```\n",
    "  0123456789\n",
    " 0X.........\n",
    " 1..........\n",
    " 2..........\n",
    " 3..........\n",
    " 4..........\n",
    " 5..OOOO....\n",
    " 6..OOOO....\n",
    " 7..OOOO....\n",
    " 8..........\n",
    " 9..........\n",
    "```\n",
    "\n",
    "Using the file, answer the following: \n",
    "- How many bids did you receive? \n",
    "- What is the total surface bid? What is then the average bid size (expressed in square kilometres)?\n",
    "- How many bids are taller than wider? What is the largest bid? \n",
    "- You receive a call from bidder `#451`. He is wondering if there are any other bidders for the area (of part thereof) he wants to buy? \n",
    "- Compute the number of square km for which there are overlapping bids."
   ]
  },
  {
   "cell_type": "code",
   "execution_count": null,
   "metadata": {
    "collapsed": true,
    "deletable": true,
    "editable": true
   },
   "outputs": [],
   "source": []
  },
  {
   "cell_type": "markdown",
   "metadata": {
    "deletable": true,
    "editable": true
   },
   "source": [
    "### Problem 3\n",
    "You are a young financial analyst at a private bank, and need to automate security analysis. Using the historical price (total return) series of the S&P 500 stock index (see `data/SP500TR.txt`), perform the following analysis.\n",
    "1. Create a dictionary where you map dates to values. Each key (date) in the dictionary should be a tuple of the form (yyyy, mm, dd). Values should be stored as floating numbers.\n",
    "2. Compute end-of-quarter values. What is the largest consecutive number of quarterly increases? How about quarterly decreases? \n",
    "3. Compute the daily percentage returns. \n",
    "4. What is the largest single-day index percentage increase? What is the largest single-day index percentage decrease?\n",
    "5. \"Sell in May and go away\". You want to test the adage. How often does the month of May contribute positively to the index? Does the answer change if the index posted positive returns up to the first trading day of May?\n",
    "6. Where would the index stand on 3 June 2019 if an investor missed the single-best trading day each year?\n",
    "7. Compute a new series with the 20-day moving average. Compute a new series with the 200-day moving average. \n",
    "8. Backtest a strategy where you hold the index only when the 20-day moving average is above the 200-day moving average. What is your total return over the tradeable period?\n"
   ]
  },
  {
   "cell_type": "code",
   "execution_count": null,
   "metadata": {
    "collapsed": true,
    "deletable": true,
    "editable": true
   },
   "outputs": [],
   "source": []
  },
  {
   "cell_type": "markdown",
   "metadata": {},
   "source": [
    "### Problem 4\n",
    "You are a detective at the Federal Bureau (FBI). You have been tipped by an informant about a money-laundering scheme possibly involving hundres of Bitcoin accounts. Your informant provided you with a list of large bitcoin transactions that took place this week.\n",
    "\n",
    "Using the list of transactions in `data/transactions.txt`: \n",
    "1. How many unique account numbers are in the file? \n",
    "2. What is the average size of transaction? \n",
    "3. Which 3 accounts had the most outgoing number of individual transactions? Which three accounts had the largest aggregate outgoing transfers? Does one account stand out in particular? \n",
    "4. Compile a list of accounts to which this suspicious account sent bitcoins to.  \n",
    "5. You decide to investigate further and try to follow the money. Can you identify the ultimate beneficiary of the transactions that the suspicious account initiated?"
   ]
  },
  {
   "cell_type": "code",
   "execution_count": null,
   "metadata": {
    "collapsed": true
   },
   "outputs": [],
   "source": []
  }
 ],
 "metadata": {
  "kernelspec": {
   "display_name": "Python 3",
   "language": "python",
   "name": "python3"
  },
  "language_info": {
   "codemirror_mode": {
    "name": "ipython",
    "version": 3
   },
   "file_extension": ".py",
   "mimetype": "text/x-python",
   "name": "python",
   "nbconvert_exporter": "python",
   "pygments_lexer": "ipython3",
   "version": "3.6.1"
  }
 },
 "nbformat": 4,
 "nbformat_minor": 2
}
