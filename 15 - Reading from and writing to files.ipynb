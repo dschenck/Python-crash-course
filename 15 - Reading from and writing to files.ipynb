{
 "cells": [
  {
   "cell_type": "markdown",
   "metadata": {
    "deletable": true,
    "editable": true
   },
   "source": [
    "# Reading from and writing to files\n",
    "Writing and reading to files - called input/output (io in short) - is an essential feature of many programing languages. In Python, io operations require three broad steps: \n",
    "1. Opening the file\n",
    "2. Reading or writing to the file (or both)\n",
    "3. Closing the file\n",
    "\n",
    "Opening the file is done via the `open` function, which is a built-in function. The function takes two arguments: the path of the file we would like to open (either relative to the Python script or absolute, e.g. C:/users/...), and a mode. There are several modes: \n",
    "1. `r` (reading) is the mode used to read a file\n",
    "2. `w` (writing) is the mode used to writing to a file. If the file already exists, **it is overwritten**\n",
    "3. `a` (appending) is used to append to a file. If the file doesn't exist, it is created. "
   ]
  },
  {
   "cell_type": "markdown",
   "metadata": {
    "collapsed": true,
    "deletable": true,
    "editable": true
   },
   "source": [
    "## 1. Reading from a file"
   ]
  },
  {
   "cell_type": "code",
   "execution_count": 1,
   "metadata": {
    "collapsed": false
   },
   "outputs": [
    {
     "data": {
      "text/plain": [
       "_io.TextIOWrapper"
      ]
     },
     "execution_count": 1,
     "metadata": {},
     "output_type": "execute_result"
    }
   ],
   "source": [
    "#Open the file with the open function\n",
    "#This function returns a new object which represents a virtual file\n",
    "file = open('misc/sample.txt', 'r')\n",
    "\n",
    "type(file)"
   ]
  },
  {
   "cell_type": "code",
   "execution_count": 2,
   "metadata": {
    "collapsed": false
   },
   "outputs": [
    {
     "name": "stdout",
     "output_type": "stream",
     "text": [
      "Did you know the average person falls asleep in 7 minutes?\n",
      "Did you know 8% of people have an extra rib?\n"
     ]
    }
   ],
   "source": [
    "#Lets read the contents of the file\n",
    "contents = file.read()\n",
    "print(contents)"
   ]
  },
  {
   "cell_type": "code",
   "execution_count": 3,
   "metadata": {
    "collapsed": true
   },
   "outputs": [],
   "source": [
    "#Let's now close the file\n",
    "#Unless you close it, the file will remain open and you won't be able to do anything with it in other software\n",
    "file.close()"
   ]
  },
  {
   "cell_type": "code",
   "execution_count": 4,
   "metadata": {
    "collapsed": false
   },
   "outputs": [
    {
     "name": "stdout",
     "output_type": "stream",
     "text": [
      "Did you know the average person falls asleep in 7 minutes?\n",
      "\n",
      "Did you know 8% of people have an extra rib?\n"
     ]
    }
   ],
   "source": [
    "#An alternative way is to read line by line, iterating over the file\n",
    "file = open('misc/sample.txt', 'r')\n",
    "\n",
    "for line in file: \n",
    "    print(line)\n",
    "\n",
    "#never forget to close the file! \n",
    "file.close()"
   ]
  },
  {
   "cell_type": "code",
   "execution_count": 5,
   "metadata": {
    "collapsed": false
   },
   "outputs": [
    {
     "name": "stdout",
     "output_type": "stream",
     "text": [
      "Did you know the average person falls asleep in 7 minutes?\n",
      "\n"
     ]
    }
   ],
   "source": [
    "#For huge files, you can also read line by line... but this involves file cursors\n",
    "#For now, just be aware this exists, and google it further if you ever need to handle multi-gigabyte files\n",
    "file = open('misc/sample.txt', 'r')\n",
    "\n",
    "line = file.readline()\n",
    "print(line)\n",
    "\n",
    "file.close()"
   ]
  },
  {
   "cell_type": "markdown",
   "metadata": {},
   "source": [
    "## 2. Writing to files"
   ]
  },
  {
   "cell_type": "code",
   "execution_count": 6,
   "metadata": {
    "collapsed": true
   },
   "outputs": [],
   "source": [
    "#Create (or override an existing) file in the 'w' mode\n",
    "file = open('misc/output.txt', 'w')\n",
    "\n",
    "#Write into the file using the write method\n",
    "file.write(\"I'm going to make him an offer he can't refuse.\")\n",
    "\n",
    "#Finally, close the file\n",
    "file.close()"
   ]
  },
  {
   "cell_type": "code",
   "execution_count": 7,
   "metadata": {
    "collapsed": true
   },
   "outputs": [],
   "source": [
    "#Be aware that the 'w' mode overrides any existing file \n",
    "file = open('misc/output.txt', 'w')\n",
    "\n",
    "#Write into the file using the write method\n",
    "file.write(\"This file is not going to include the first sentence I wrote above\")\n",
    "\n",
    "#Finally, close the file\n",
    "file.close()"
   ]
  },
  {
   "cell_type": "code",
   "execution_count": 8,
   "metadata": {
    "collapsed": false
   },
   "outputs": [
    {
     "name": "stdout",
     "output_type": "stream",
     "text": [
      "This file is not going to include the first sentence I wrote above\n"
     ]
    }
   ],
   "source": [
    "#Want to check that? \n",
    "#Let's read the file\n",
    "file = open('misc/output.txt', 'r')\n",
    "print(file.read())\n",
    "file.close()"
   ]
  },
  {
   "cell_type": "markdown",
   "metadata": {},
   "source": [
    "## 3. Appending to a file\n",
    "If you paid close attention, we said that the `w` mode **overwrites** any existing content when you call the open function. If you want to append to an existing file (or create it if it doesn't exist), use the `a` mode. "
   ]
  },
  {
   "cell_type": "code",
   "execution_count": 9,
   "metadata": {
    "collapsed": false
   },
   "outputs": [
    {
     "name": "stdout",
     "output_type": "stream",
     "text": [
      "This is the first line of the text\n",
      "This is the second line of the text\n",
      "This is the third line of the text\n"
     ]
    }
   ],
   "source": [
    "file = open('misc/output-2.txt', 'w')\n",
    "file.write('This is the first line of the text')\n",
    "file.write('\\n') #write a return carriage\n",
    "file.write('This is the second line of the text')\n",
    "file.write('\\n') #write a return carriage\n",
    "file.close()\n",
    "\n",
    "#Now let's add (append) some more content to that file\n",
    "file = open('misc/output-2.txt', 'a')\n",
    "file.write('This is the third line of the text')\n",
    "file.close()\n",
    "\n",
    "#Let's inspect the contents of the file\n",
    "file = open('misc/output-2.txt', 'r')\n",
    "print(file.read())\n",
    "file.close()"
   ]
  },
  {
   "cell_type": "markdown",
   "metadata": {},
   "source": [
    "## 4. The context manager\n",
    "The above is intended to show you how to read and write to a file. In practice, we will always use the following syntax, which does not require us to close the file (it will be closed automatically)."
   ]
  },
  {
   "cell_type": "code",
   "execution_count": 10,
   "metadata": {
    "collapsed": false
   },
   "outputs": [
    {
     "name": "stdout",
     "output_type": "stream",
     "text": [
      "Did you know the average person falls asleep in 7 minutes?\n",
      "Did you know 8% of people have an extra rib?\n"
     ]
    }
   ],
   "source": [
    "with open('misc/sample.txt', 'r') as file:\n",
    "    print(file.read())"
   ]
  },
  {
   "cell_type": "markdown",
   "metadata": {},
   "source": [
    "**Why do we use the context manager**?\n",
    "If you have an error in your script between the moment you opened a file and closed the file, you risk having your file left open in the system. Have you ever tried deleting a file (Excel, Word) which was open at the same time? To remediate this problem, use a context manager: this is an alternative syntax that will make sure the file is closed, regardless of whether you have an error or not. "
   ]
  },
  {
   "cell_type": "code",
   "execution_count": 11,
   "metadata": {
    "collapsed": false
   },
   "outputs": [
    {
     "ename": "ZeroDivisionError",
     "evalue": "division by zero",
     "output_type": "error",
     "traceback": [
      "\u001b[0;31m---------------------------------------------------------------------------\u001b[0m",
      "\u001b[0;31mZeroDivisionError\u001b[0m                         Traceback (most recent call last)",
      "\u001b[0;32m<ipython-input-11-49aef6f6b01a>\u001b[0m in \u001b[0;36m<module>\u001b[0;34m()\u001b[0m\n\u001b[1;32m      3\u001b[0m \u001b[0mfile\u001b[0m\u001b[0;34m.\u001b[0m\u001b[0mwrite\u001b[0m\u001b[0;34m(\u001b[0m\u001b[0;34m\"This will certainly fail\"\u001b[0m\u001b[0;34m)\u001b[0m\u001b[0;34m\u001b[0m\u001b[0m\n\u001b[1;32m      4\u001b[0m \u001b[0mfile\u001b[0m\u001b[0;34m.\u001b[0m\u001b[0mwrite\u001b[0m\u001b[0;34m(\u001b[0m\u001b[0;34m\"\\n\"\u001b[0m\u001b[0;34m)\u001b[0m\u001b[0;34m\u001b[0m\u001b[0m\n\u001b[0;32m----> 5\u001b[0;31m \u001b[0mfile\u001b[0m\u001b[0;34m.\u001b[0m\u001b[0mwrite\u001b[0m\u001b[0;34m(\u001b[0m\u001b[0;34m\"1 divided by 0 is {}\"\u001b[0m\u001b[0;34m.\u001b[0m\u001b[0mformat\u001b[0m\u001b[0;34m(\u001b[0m\u001b[0;36m1\u001b[0m\u001b[0;34m/\u001b[0m\u001b[0;36m0\u001b[0m\u001b[0;34m)\u001b[0m\u001b[0;34m)\u001b[0m\u001b[0;34m\u001b[0m\u001b[0m\n\u001b[0m\u001b[1;32m      6\u001b[0m \u001b[0;34m\u001b[0m\u001b[0m\n\u001b[1;32m      7\u001b[0m \u001b[0;31m#This is useless, as the code will crash on the above line\u001b[0m\u001b[0;34m\u001b[0m\u001b[0;34m\u001b[0m\u001b[0m\n",
      "\u001b[0;31mZeroDivisionError\u001b[0m: division by zero"
     ]
    }
   ],
   "source": [
    "#Try this carefully\n",
    "file = open('misc/fail.txt', 'w')\n",
    "file.write(\"This will certainly fail\")\n",
    "file.write(\"\\n\")\n",
    "file.write(\"1 divided by 0 is {}\".format(1/0))\n",
    "\n",
    "#This is useless, as the code will crash on the above line\n",
    "file.close()\n",
    "\n",
    "#If you now try to delete the file (via your file browser), it will likely tell you that you can't\n",
    "#There is a lock on the file: it is locked in the Python process, even if your script crashed! "
   ]
  },
  {
   "cell_type": "code",
   "execution_count": 12,
   "metadata": {
    "collapsed": false
   },
   "outputs": [
    {
     "ename": "ZeroDivisionError",
     "evalue": "division by zero",
     "output_type": "error",
     "traceback": [
      "\u001b[0;31m---------------------------------------------------------------------------\u001b[0m",
      "\u001b[0;31mZeroDivisionError\u001b[0m                         Traceback (most recent call last)",
      "\u001b[0;32m<ipython-input-12-8fd04381bdf3>\u001b[0m in \u001b[0;36m<module>\u001b[0;34m()\u001b[0m\n\u001b[1;32m      2\u001b[0m     \u001b[0mfile\u001b[0m\u001b[0;34m.\u001b[0m\u001b[0mwrite\u001b[0m\u001b[0;34m(\u001b[0m\u001b[0;34m\"This will certainly fail\"\u001b[0m\u001b[0;34m)\u001b[0m\u001b[0;34m\u001b[0m\u001b[0m\n\u001b[1;32m      3\u001b[0m     \u001b[0mfile\u001b[0m\u001b[0;34m.\u001b[0m\u001b[0mwrite\u001b[0m\u001b[0;34m(\u001b[0m\u001b[0;34m\"\\n\"\u001b[0m\u001b[0;34m)\u001b[0m\u001b[0;34m\u001b[0m\u001b[0m\n\u001b[0;32m----> 4\u001b[0;31m     \u001b[0mfile\u001b[0m\u001b[0;34m.\u001b[0m\u001b[0mwrite\u001b[0m\u001b[0;34m(\u001b[0m\u001b[0;34m\"1 divided by 0 is {}\"\u001b[0m\u001b[0;34m.\u001b[0m\u001b[0mformat\u001b[0m\u001b[0;34m(\u001b[0m\u001b[0;36m1\u001b[0m\u001b[0;34m/\u001b[0m\u001b[0;36m0\u001b[0m\u001b[0;34m)\u001b[0m\u001b[0;34m)\u001b[0m\u001b[0;34m\u001b[0m\u001b[0m\n\u001b[0m\u001b[1;32m      5\u001b[0m \u001b[0;34m\u001b[0m\u001b[0m\n\u001b[1;32m      6\u001b[0m \u001b[0;31m#As above, the script failed.\u001b[0m\u001b[0;34m\u001b[0m\u001b[0;34m\u001b[0m\u001b[0m\n",
      "\u001b[0;31mZeroDivisionError\u001b[0m: division by zero"
     ]
    }
   ],
   "source": [
    "with open('misc/output.txt', 'w') as file: \n",
    "    file.write(\"This will certainly fail\")\n",
    "    file.write(\"\\n\")\n",
    "    file.write(\"1 divided by 0 is {}\".format(1/0))\n",
    "    \n",
    "#As above, the script failed. \n",
    "#But the file was closed anyways"
   ]
  },
  {
   "cell_type": "code",
   "execution_count": 13,
   "metadata": {
    "collapsed": false
   },
   "outputs": [
    {
     "ename": "ZeroDivisionError",
     "evalue": "division by zero",
     "output_type": "error",
     "traceback": [
      "\u001b[0;31m---------------------------------------------------------------------------\u001b[0m",
      "\u001b[0;31mZeroDivisionError\u001b[0m                         Traceback (most recent call last)",
      "\u001b[0;32m<ipython-input-13-debbc947459b>\u001b[0m in \u001b[0;36m<module>\u001b[0;34m()\u001b[0m\n\u001b[1;32m      4\u001b[0m     \u001b[0mfile\u001b[0m\u001b[0;34m.\u001b[0m\u001b[0mwrite\u001b[0m\u001b[0;34m(\u001b[0m\u001b[0;34m\"This will certainly fail\"\u001b[0m\u001b[0;34m)\u001b[0m\u001b[0;34m\u001b[0m\u001b[0m\n\u001b[1;32m      5\u001b[0m     \u001b[0mfile\u001b[0m\u001b[0;34m.\u001b[0m\u001b[0mwrite\u001b[0m\u001b[0;34m(\u001b[0m\u001b[0;34m\"\\n\"\u001b[0m\u001b[0;34m)\u001b[0m\u001b[0;34m\u001b[0m\u001b[0m\n\u001b[0;32m----> 6\u001b[0;31m     \u001b[0mfile\u001b[0m\u001b[0;34m.\u001b[0m\u001b[0mwrite\u001b[0m\u001b[0;34m(\u001b[0m\u001b[0;34m\"1 divided by 0 is {}\"\u001b[0m\u001b[0;34m.\u001b[0m\u001b[0mformat\u001b[0m\u001b[0;34m(\u001b[0m\u001b[0;36m1\u001b[0m\u001b[0;34m/\u001b[0m\u001b[0;36m0\u001b[0m\u001b[0;34m)\u001b[0m\u001b[0;34m)\u001b[0m\u001b[0;34m\u001b[0m\u001b[0m\n\u001b[0m\u001b[1;32m      7\u001b[0m \u001b[0;32mexcept\u001b[0m\u001b[0;34m:\u001b[0m\u001b[0;34m\u001b[0m\u001b[0m\n\u001b[1;32m      8\u001b[0m     \u001b[0;32mraise\u001b[0m\u001b[0;34m\u001b[0m\u001b[0m\n",
      "\u001b[0;31mZeroDivisionError\u001b[0m: division by zero"
     ]
    }
   ],
   "source": [
    "#The above is equivalent to the below: \n",
    "file = open('misc/output.txt', 'w')\n",
    "try: \n",
    "    file.write(\"This will certainly fail\")\n",
    "    file.write(\"\\n\")\n",
    "    file.write(\"1 divided by 0 is {}\".format(1/0))\n",
    "except: \n",
    "    raise\n",
    "finally: \n",
    "    file.close()"
   ]
  }
 ],
 "metadata": {
  "kernelspec": {
   "display_name": "Python 3",
   "language": "python",
   "name": "python3"
  },
  "language_info": {
   "codemirror_mode": {
    "name": "ipython",
    "version": 3
   },
   "file_extension": ".py",
   "mimetype": "text/x-python",
   "name": "python",
   "nbconvert_exporter": "python",
   "pygments_lexer": "ipython3",
   "version": "3.6.1"
  }
 },
 "nbformat": 4,
 "nbformat_minor": 2
}
