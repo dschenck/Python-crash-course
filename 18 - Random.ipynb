{
 "cells": [
  {
   "cell_type": "markdown",
   "metadata": {
    "deletable": true,
    "editable": true
   },
   "source": [
    "# Random\n",
    "As easy as it can sound, creating random data and noise is surprisingly difficult in computer science. After all, functions are generally deterministic. Luckily for us, python has some excellent tools for us to generate random data, as found in the `random` module. **First things first, let's import the module**"
   ]
  },
  {
   "cell_type": "code",
   "execution_count": 1,
   "metadata": {
    "collapsed": true,
    "deletable": true,
    "editable": true
   },
   "outputs": [],
   "source": [
    "import random"
   ]
  },
  {
   "cell_type": "code",
   "execution_count": 2,
   "metadata": {
    "collapsed": false
   },
   "outputs": [
    {
     "name": "stdout",
     "output_type": "stream",
     "text": [
      "0.16134971001691667\n",
      "0.8915177296402124\n"
     ]
    }
   ],
   "source": [
    "#create a random float number between 0 and 1\n",
    "print(random.random())\n",
    "print(random.random())"
   ]
  },
  {
   "cell_type": "code",
   "execution_count": 3,
   "metadata": {
    "collapsed": false
   },
   "outputs": [
    {
     "name": "stdout",
     "output_type": "stream",
     "text": [
      "13.11705494115096\n",
      "56.579198180306555\n"
     ]
    }
   ],
   "source": [
    "#create a random float number between any two numbers \n",
    "print(random.uniform(10, 14))\n",
    "print(random.uniform(1, 99))"
   ]
  },
  {
   "cell_type": "code",
   "execution_count": 14,
   "metadata": {
    "collapsed": false
   },
   "outputs": [
    {
     "name": "stdout",
     "output_type": "stream",
     "text": [
      "36\n",
      "8\n"
     ]
    }
   ],
   "source": [
    "#create a random integer between two numbers\n",
    "print(random.randint(10, 100))\n",
    "print(random.randint(1, 10))"
   ]
  },
  {
   "cell_type": "code",
   "execution_count": 17,
   "metadata": {
    "collapsed": false
   },
   "outputs": [
    {
     "name": "stdout",
     "output_type": "stream",
     "text": [
      "0.7938743997106352\n",
      "21.523660829617796\n"
     ]
    }
   ],
   "source": [
    "#draw a random value from a normal distribution\n",
    "#pass the mean and standard deviation\n",
    "print(random.normalvariate(0, 1))\n",
    "print(random.normalvariate(20, 5))"
   ]
  },
  {
   "cell_type": "code",
   "execution_count": 18,
   "metadata": {
    "collapsed": false
   },
   "outputs": [
    {
     "name": "stdout",
     "output_type": "stream",
     "text": [
      "1\n",
      "4\n"
     ]
    }
   ],
   "source": [
    "#pick a value from a range of possible values\n",
    "dice = [1,2,3,4,5,6]\n",
    "print(random.choice(dice))\n",
    "print(random.choice(dice))"
   ]
  },
  {
   "cell_type": "code",
   "execution_count": 21,
   "metadata": {
    "collapsed": false
   },
   "outputs": [
    {
     "data": {
      "text/plain": [
       "['Harry', 'Ron', 'Hermione', 'voldemort', 'Drago']"
      ]
     },
     "execution_count": 21,
     "metadata": {},
     "output_type": "execute_result"
    }
   ],
   "source": [
    "#shuffle an iterable of values into a new list\n",
    "#this operation is in place - like the .sort() method\n",
    "characters = [\"Hermione\",\"Harry\",\"Drago\",\"Ron\",\"voldemort\"]\n",
    "random.shuffle(characters)\n",
    "print(characters)"
   ]
  }
 ],
 "metadata": {
  "kernelspec": {
   "display_name": "Python 3",
   "language": "python",
   "name": "python3"
  },
  "language_info": {
   "codemirror_mode": {
    "name": "ipython",
    "version": 3
   },
   "file_extension": ".py",
   "mimetype": "text/x-python",
   "name": "python",
   "nbconvert_exporter": "python",
   "pygments_lexer": "ipython3",
   "version": "3.6.1"
  }
 },
 "nbformat": 4,
 "nbformat_minor": 2
}
