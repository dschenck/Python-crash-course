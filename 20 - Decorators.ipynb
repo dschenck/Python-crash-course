{
 "cells": [
  {
   "cell_type": "markdown",
   "metadata": {
    "deletable": true,
    "editable": true
   },
   "source": [
    "# Decorators\n",
    "We saw in the previous chapter that functions are objects, and as such, can be manipulated just like any other variable in our programs. We can, for example, pass a function to a function. But let's rewind, and start with a basic function. "
   ]
  },
  {
   "cell_type": "markdown",
   "metadata": {},
   "source": [
    "## 1. Function features"
   ]
  },
  {
   "cell_type": "code",
   "execution_count": 1,
   "metadata": {
    "collapsed": false,
    "deletable": true,
    "editable": true
   },
   "outputs": [
    {
     "name": "stdout",
     "output_type": "stream",
     "text": [
      "True\n",
      "False\n"
     ]
    }
   ],
   "source": [
    "#returns True if a number is even\n",
    "def iseven(number):\n",
    "    return number % 2 == 0\n",
    "\n",
    "#returns True if a number is odd\n",
    "def isodd(number):\n",
    "    return number % 2 != 0\n",
    "\n",
    "print(iseven(10))\n",
    "print(isodd(10))"
   ]
  },
  {
   "cell_type": "markdown",
   "metadata": {
    "deletable": true,
    "editable": true
   },
   "source": [
    "Like many other objects, functions have properties. For instance, the `__name__` property returns the name of the function."
   ]
  },
  {
   "cell_type": "code",
   "execution_count": 2,
   "metadata": {
    "collapsed": false,
    "deletable": true,
    "editable": true
   },
   "outputs": [
    {
     "name": "stdout",
     "output_type": "stream",
     "text": [
      "iseven\n",
      "isodd\n"
     ]
    }
   ],
   "source": [
    "print(iseven.__name__)\n",
    "print(isodd.__name__)"
   ]
  },
  {
   "cell_type": "markdown",
   "metadata": {
    "deletable": true,
    "editable": true
   },
   "source": [
    "So let's write a function - called `log` - that: \n",
    "- accepts as only argument another function (for example, `iseven` or `isodd`)\n",
    "- opens a file called `history.txt`\n",
    "- writes the current time and name of function to the file\n",
    "- closes the file\n",
    "- finally returns the passed function"
   ]
  },
  {
   "cell_type": "code",
   "execution_count": 3,
   "metadata": {
    "collapsed": false,
    "deletable": true,
    "editable": true
   },
   "outputs": [
    {
     "name": "stdout",
     "output_type": "stream",
     "text": [
      "22:36:31:098278, Logging iseven\n",
      "22:36:31:099429, Logging isodd\n",
      "\n"
     ]
    }
   ],
   "source": [
    "import datetime\n",
    "\n",
    "def log(function, mode=\"a\"):\n",
    "    with open('history.txt', mode) as file: \n",
    "        #create a string with the current time\n",
    "        now = datetime.datetime.now().strftime(\"%H:%M:%S:%f\")\n",
    "        \n",
    "        #write the current time and function\n",
    "        file.write(now + \", Logging \" + function.__name__ + '\\n')\n",
    "    \n",
    "    #return the original function\n",
    "    return function\n",
    "\n",
    "#Let's call our log function\n",
    "log(iseven, \"w\")\n",
    "log(isodd, \"a\")\n",
    "\n",
    "#Let's read what the function.txt file now contains: \n",
    "with open('history.txt', 'r') as file: \n",
    "    print(file.read())"
   ]
  },
  {
   "cell_type": "markdown",
   "metadata": {},
   "source": [
    "## 2. Let's do some magic: our first decorator\n",
    "Lets do some magic here: let's create a function called `wrapper`, which: \n",
    "1. takes another function as single argument\n",
    "2. defines an inner function, which takes the same arguments as the argument function \n",
    "3. the inner function can execute any arbitrary code, including calling the argument function\n",
    "4. the wrapper function then returns the inner function\n",
    "\n",
    "In other words: \n",
    "\n",
    "```python\n",
    "def wrapper(function):\n",
    "    def inner(*args, **kwargs): \n",
    "        #do something here, for instance log a function call to a file\n",
    "        log(function)\n",
    "        return function(*args, **kwargs)\n",
    "    return inner\n",
    "```"
   ]
  },
  {
   "cell_type": "code",
   "execution_count": 4,
   "metadata": {
    "collapsed": false,
    "deletable": true,
    "editable": true
   },
   "outputs": [],
   "source": [
    "#let's see this in practice\n",
    "def wrapper(function):\n",
    "    def inner(number):\n",
    "        #we log the function call to the file\n",
    "        log(function)\n",
    "        return function(number)\n",
    "    return inner"
   ]
  },
  {
   "cell_type": "code",
   "execution_count": 5,
   "metadata": {
    "collapsed": false,
    "deletable": true,
    "editable": true
   },
   "outputs": [
    {
     "name": "stdout",
     "output_type": "stream",
     "text": [
      "True\n",
      "22:36:31:098278, Logging iseven\n",
      "22:36:31:099429, Logging isodd\n",
      "22:36:31:166264, Logging iseven\n",
      "\n"
     ]
    }
   ],
   "source": [
    "#f is the wrapped iseven function\n",
    "f = wrapper(iseven)\n",
    "\n",
    "#let's call\n",
    "print(f(10))\n",
    "\n",
    "#Let's read what the hisory.txt file now contains: \n",
    "#You'll see that there is now a third line\n",
    "with open('history.txt', 'r') as file: \n",
    "    print(file.read())"
   ]
  },
  {
   "cell_type": "code",
   "execution_count": 6,
   "metadata": {
    "collapsed": false,
    "deletable": true,
    "editable": true
   },
   "outputs": [
    {
     "name": "stdout",
     "output_type": "stream",
     "text": [
      "False\n",
      "True\n",
      "22:36:31:098278, Logging iseven\n",
      "22:36:31:099429, Logging isodd\n",
      "22:36:31:166264, Logging iseven\n",
      "22:36:31:192996, Logging isodd\n",
      "22:36:31:193852, Logging isodd\n",
      "\n"
     ]
    }
   ],
   "source": [
    "#what happens if we assign the result of wrapper(isodd) back to isodd\n",
    "isodd = wrapper(isodd)\n",
    "\n",
    "print(isodd(20))\n",
    "print(isodd(21))\n",
    "\n",
    "with open('history.txt', 'r') as file: \n",
    "    print(file.read())"
   ]
  },
  {
   "cell_type": "markdown",
   "metadata": {},
   "source": [
    "## 3. Syntactic sugar"
   ]
  },
  {
   "cell_type": "code",
   "execution_count": 7,
   "metadata": {
    "collapsed": false
   },
   "outputs": [
    {
     "name": "stdout",
     "output_type": "stream",
     "text": [
      "False\n"
     ]
    }
   ],
   "source": [
    "#use the below syntax to create a decorator\n",
    "\n",
    "def log(function, mode=\"a\"):\n",
    "    with open('history.txt', mode) as file: \n",
    "        #create a string with the current time\n",
    "        now = datetime.datetime.now().strftime(\"%H:%M:%S:%f\")\n",
    "        \n",
    "        #write the current time and function\n",
    "        file.write(now + \", Logging \" + function.__name__ + '\\n')\n",
    "    \n",
    "    #return the original function\n",
    "    return function\n",
    "\n",
    "@log\n",
    "def isprime(n):\n",
    "    for i in range(2, n):\n",
    "        if n % i == 0: \n",
    "            return False\n",
    "    return True\n",
    "\n",
    "print(isprime(20))"
   ]
  },
  {
   "cell_type": "code",
   "execution_count": 8,
   "metadata": {
    "collapsed": false
   },
   "outputs": [
    {
     "name": "stdout",
     "output_type": "stream",
     "text": [
      "22:36:31:098278, Logging iseven\n",
      "22:36:31:099429, Logging isodd\n",
      "22:36:31:166264, Logging iseven\n",
      "22:36:31:192996, Logging isodd\n",
      "22:36:31:193852, Logging isodd\n",
      "22:36:31:243198, Logging isprime\n",
      "\n"
     ]
    }
   ],
   "source": [
    "with open('history.txt', 'r') as file: \n",
    "    print(file.read())"
   ]
  },
  {
   "cell_type": "code",
   "execution_count": 9,
   "metadata": {
    "collapsed": true
   },
   "outputs": [],
   "source": [
    "#the above is equivalent to \n",
    "def wrapper(function): \n",
    "    def log(*args, **kwargs):\n",
    "        with open('history.txt', 'a') as file: \n",
    "            #create a string with the current time\n",
    "            now = datetime.datetime.now().strftime(\"%H:%M:%S:%f\")\n",
    "\n",
    "            #write the current time and function\n",
    "            file.write(now + \", Logging \" + function.__name__ + '\\n')\n",
    "        return function(*args, **kwargs)\n",
    "    return log\n",
    "\n",
    "def isprime(n):\n",
    "    for i in range(2, n):\n",
    "        if n % i == 0: \n",
    "            return False\n",
    "    return True\n",
    "\n",
    "isprime = wrapper(isprime)"
   ]
  },
  {
   "cell_type": "code",
   "execution_count": 10,
   "metadata": {
    "collapsed": false
   },
   "outputs": [
    {
     "name": "stdout",
     "output_type": "stream",
     "text": [
      "True\n",
      "22:36:31:098278, Logging iseven\n",
      "22:36:31:099429, Logging isodd\n",
      "22:36:31:166264, Logging iseven\n",
      "22:36:31:192996, Logging isodd\n",
      "22:36:31:193852, Logging isodd\n",
      "22:36:31:243198, Logging isprime\n",
      "22:36:31:320128, Logging isprime\n",
      "\n"
     ]
    }
   ],
   "source": [
    "print(isprime(23))\n",
    "\n",
    "with open('history.txt', 'r') as file: \n",
    "    print(file.read())"
   ]
  },
  {
   "cell_type": "code",
   "execution_count": 11,
   "metadata": {
    "collapsed": false
   },
   "outputs": [
    {
     "name": "stdout",
     "output_type": "stream",
     "text": [
      "True\n",
      "True\n"
     ]
    }
   ],
   "source": [
    "#another example\n",
    "def ispalindromic(number):\n",
    "    return str(number) == str(number)[::-1]\n",
    "\n",
    "def throttle(function):\n",
    "    def inner(*args, **kwargs):\n",
    "        #record the current time\n",
    "        now = datetime.datetime.now()\n",
    "\n",
    "        #wait for 5 seconds\n",
    "        while datetime.datetime.now() < (now + datetime.timedelta(seconds=5)):\n",
    "            continue\n",
    "            \n",
    "        return function(*args, **kwargs)\n",
    "    return inner\n",
    "\n",
    "#first test it directly\n",
    "print(ispalindromic(1991))\n",
    "\n",
    "#now decorate\n",
    "ispalindromic = throttle(ispalindromic)\n",
    "print(ispalindromic(1991))"
   ]
  },
  {
   "cell_type": "code",
   "execution_count": 12,
   "metadata": {
    "collapsed": false
   },
   "outputs": [
    {
     "name": "stdout",
     "output_type": "stream",
     "text": [
      "False\n"
     ]
    }
   ],
   "source": [
    "@throttle\n",
    "def ispalindromic(number):\n",
    "    return str(number) == str(number)[::-1]\n",
    "\n",
    "print(ispalindromic(123454312))"
   ]
  }
 ],
 "metadata": {
  "kernelspec": {
   "display_name": "Python 3",
   "language": "python",
   "name": "python3"
  },
  "language_info": {
   "codemirror_mode": {
    "name": "ipython",
    "version": 3
   },
   "file_extension": ".py",
   "mimetype": "text/x-python",
   "name": "python",
   "nbconvert_exporter": "python",
   "pygments_lexer": "ipython3",
   "version": "3.6.1"
  }
 },
 "nbformat": 4,
 "nbformat_minor": 2
}
