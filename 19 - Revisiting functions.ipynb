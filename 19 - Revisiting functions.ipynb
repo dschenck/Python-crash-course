{
 "cells": [
  {
   "cell_type": "markdown",
   "metadata": {
    "collapsed": true,
    "deletable": true,
    "editable": true
   },
   "source": [
    "# Revisiting functions\n",
    "We have explored functions in section 6. In this chapter, we explore some further technical details about functions. "
   ]
  },
  {
   "cell_type": "markdown",
   "metadata": {},
   "source": [
    "## 1. Optional and named arguments\n",
    "Recall from section 6 how we defined a classic function:\n",
    "- we declare our function using the `def` keyword\n",
    "- we give our function a name \n",
    "- we give our function arguments that it can accept\n",
    "- we define the logic of the function\n",
    "- and we finally `return` a value from the function "
   ]
  },
  {
   "cell_type": "code",
   "execution_count": 1,
   "metadata": {
    "collapsed": false
   },
   "outputs": [
    {
     "name": "stdout",
     "output_type": "stream",
     "text": [
      "21.0\n"
     ]
    }
   ],
   "source": [
    "def VAT(price, rate):\n",
    "    return round(price * rate, 2)\n",
    "\n",
    "#and now we call our function \n",
    "print(VAT(100, 0.21))"
   ]
  },
  {
   "cell_type": "markdown",
   "metadata": {},
   "source": [
    "In the above example, both `price` and `rate` are required arguments. While we can change the order of the parameters by using `named arguments`, we need to provide values for both arguments when calling the function. "
   ]
  },
  {
   "cell_type": "code",
   "execution_count": 2,
   "metadata": {
    "collapsed": false
   },
   "outputs": [
    {
     "name": "stdout",
     "output_type": "stream",
     "text": [
      "5.4\n"
     ]
    }
   ],
   "source": [
    "#we can change the order of the arguments by naming them\n",
    "print(VAT(rate=0.15, price=36))"
   ]
  },
  {
   "cell_type": "markdown",
   "metadata": {},
   "source": [
    "We can also change our function definition such that some (or all) arguments are `optional`, by providing a default value. In such situations, our function can be called with or without values for the default arguments"
   ]
  },
  {
   "cell_type": "code",
   "execution_count": 3,
   "metadata": {
    "collapsed": false
   },
   "outputs": [
    {
     "name": "stdout",
     "output_type": "stream",
     "text": [
      "7\n",
      "1\n",
      "15\n"
     ]
    }
   ],
   "source": [
    "def VAT(price, rate=0.21):\n",
    "    return round(price*rate)\n",
    "\n",
    "\n",
    "print(VAT(50, 0.14))\n",
    "print(VAT(19.99, 0.05))\n",
    "print(VAT(price=69.99))"
   ]
  },
  {
   "cell_type": "markdown",
   "metadata": {},
   "source": [
    "## 2. Function `*args`\n",
    "Some functions - think of the `max` function for example, or the `print` - can take a varying number of arguments. You can use these function with 1, 2, 10, 100 arguments, and they will work just fine: "
   ]
  },
  {
   "cell_type": "code",
   "execution_count": 4,
   "metadata": {
    "collapsed": false
   },
   "outputs": [
    {
     "name": "stdout",
     "output_type": "stream",
     "text": [
      "2\n",
      "9\n",
      "913\n",
      "Here are several strings\n"
     ]
    }
   ],
   "source": [
    "print(max(1,2))\n",
    "print(max(1,2,9))\n",
    "print(max(43, 88, 1, 36, 913))\n",
    "print(\"Here\", \"are\", \"several\", \"strings\")"
   ]
  },
  {
   "cell_type": "markdown",
   "metadata": {},
   "source": [
    "You can also create user-defined functions that have this behavior using the following syntax:\n",
    "```python \n",
    "def evensum(*numbers):\n",
    "    #write some logic here... and return a value\n",
    "```\n",
    "In the above, the `numbers` argument - which is prefixed with a `*` in the function definition - will be a tuple of values that the user provides as arguments to the function. Take a look: "
   ]
  },
  {
   "cell_type": "code",
   "execution_count": 5,
   "metadata": {
    "collapsed": false
   },
   "outputs": [
    {
     "name": "stdout",
     "output_type": "stream",
     "text": [
      "6\n",
      "0\n"
     ]
    }
   ],
   "source": [
    "#Function computes the sum of all even numbers\n",
    "def evensum(*numbers):\n",
    "    total = 0\n",
    "    for number in numbers: \n",
    "        if number % 2 == 0: \n",
    "            total += number\n",
    "    return total\n",
    "\n",
    "print(evensum(1,2,3,4,5))\n",
    "print(evensum()) #notice how the function receives an empty tuple"
   ]
  },
  {
   "cell_type": "markdown",
   "metadata": {},
   "source": [
    "To make things explicit, let's also print the `type` of the starred argument in the function:"
   ]
  },
  {
   "cell_type": "code",
   "execution_count": 6,
   "metadata": {
    "collapsed": false
   },
   "outputs": [
    {
     "name": "stdout",
     "output_type": "stream",
     "text": [
      "<class 'tuple'>\n",
      "6\n"
     ]
    }
   ],
   "source": [
    "def evensum(*numbers):\n",
    "    #let's make sure this is a list\n",
    "    print(type(numbers))\n",
    "    \n",
    "    total = 0\n",
    "    for number in numbers: \n",
    "        if number % 2 == 0: \n",
    "            total += number\n",
    "    return total\n",
    "\n",
    "print(evensum(1,2,3,4,5))"
   ]
  },
  {
   "cell_type": "markdown",
   "metadata": {},
   "source": [
    "One can obviously mix classic arguments with starred arguments, provided the starred args are listed last: "
   ]
  },
  {
   "cell_type": "code",
   "execution_count": 7,
   "metadata": {
    "collapsed": false
   },
   "outputs": [
    {
     "name": "stdout",
     "output_type": "stream",
     "text": [
      "10\n",
      "81\n"
     ]
    }
   ],
   "source": [
    "def modulosum(modulo, *numbers):\n",
    "    total = 0\n",
    "    for number in numbers: \n",
    "        if number % modulo == 0: \n",
    "            total += number\n",
    "    return total\n",
    "\n",
    "print(modulosum(2, 3, 4, 5, 6)) #4 + 6 = 10\n",
    "print(modulosum(9, 86, 65, 81))"
   ]
  },
  {
   "cell_type": "markdown",
   "metadata": {},
   "source": [
    "And conversely, one can *destructure* a list of values into a starred arguments:"
   ]
  },
  {
   "cell_type": "code",
   "execution_count": 8,
   "metadata": {
    "collapsed": false
   },
   "outputs": [
    {
     "name": "stdout",
     "output_type": "stream",
     "text": [
      "60\n"
     ]
    }
   ],
   "source": [
    "besties = [83, 23, 44, 99, 16]\n",
    "print(modulosum(4, *besties)) #44 + 16"
   ]
  },
  {
   "cell_type": "markdown",
   "metadata": {},
   "source": [
    "## 3. Function `**kwargs`\n",
    "What about function where we can pass a variable list of named arguments? Using the `**kwargs` syntax, you can pass a dictionary of arguments to a function: \n",
    "```python\n",
    "def function(**kwargs):\n",
    "    #kwargs is a dictionary of named arguments\n",
    "```"
   ]
  },
  {
   "cell_type": "code",
   "execution_count": 9,
   "metadata": {
    "collapsed": false
   },
   "outputs": [
    {
     "name": "stdout",
     "output_type": "stream",
     "text": [
      "{'name': 'David', 'age': 28}\n"
     ]
    }
   ],
   "source": [
    "#Lets make this simple first: \n",
    "#The below function accepts named arguments and returns the dictionary\n",
    "def tester(**kwargs):\n",
    "    return kwargs\n",
    "\n",
    "print(tester(name=\"David\", age=28))"
   ]
  },
  {
   "cell_type": "code",
   "execution_count": 10,
   "metadata": {
    "collapsed": false
   },
   "outputs": [
    {
     "name": "stdout",
     "output_type": "stream",
     "text": [
      "ok for David\n",
      "not ok for Jody\n"
     ]
    }
   ],
   "source": [
    "import datetime\n",
    "\n",
    "def control(name, **criteria):\n",
    "    if \"age\" in criteria: \n",
    "        if criteria[\"age\"] >= 18:\n",
    "            return \"ok for {}\".format(name)\n",
    "        else:\n",
    "            return \"not for {}\".format(name)\n",
    "    elif \"birthdate\" in criteria:\n",
    "        if (datetime.date.today() - criteria[\"birthdate\"]).days / 365 >= 18: \n",
    "            return \"ok for {}\".format(name)\n",
    "        else: \n",
    "            return \"not ok for {}\".format(name)\n",
    "\n",
    "print(control(\"David\", age=19))\n",
    "print(control(\"Jody\", birthdate=datetime.date(2005, 10, 29)))"
   ]
  },
  {
   "cell_type": "markdown",
   "metadata": {},
   "source": [
    "You can destructure a dictionary into named arguments for a function:"
   ]
  },
  {
   "cell_type": "code",
   "execution_count": 11,
   "metadata": {
    "collapsed": false
   },
   "outputs": [
    {
     "name": "stdout",
     "output_type": "stream",
     "text": [
      "Vladimir is from Russia and likes Vodka\n"
     ]
    }
   ],
   "source": [
    "identity = {\"name\":\"Vladimir\", \"country\":\"Russia\", \"likes\":\"Vodka\"}\n",
    "\n",
    "def tell_story(name, country, likes):\n",
    "    return \"{} is from {} and likes {}\".format(name, country, likes)\n",
    "\n",
    "print(tell_story(**identity))"
   ]
  },
  {
   "cell_type": "markdown",
   "metadata": {},
   "source": [
    "## 4. Functions are objects\n",
    "Remember, some time back, we said everything in Python is an object - a type? Guess what, functions are objects too! As a result, you can use functions just like any other object (integer, float) in Python. Let's have a look! "
   ]
  },
  {
   "cell_type": "code",
   "execution_count": 12,
   "metadata": {
    "collapsed": true
   },
   "outputs": [],
   "source": [
    "def iseven(number):\n",
    "    return number % 2 == 0"
   ]
  },
  {
   "cell_type": "code",
   "execution_count": 13,
   "metadata": {
    "collapsed": false
   },
   "outputs": [
    {
     "data": {
      "text/plain": [
       "function"
      ]
     },
     "execution_count": 13,
     "metadata": {},
     "output_type": "execute_result"
    }
   ],
   "source": [
    "#what type if the function?\n",
    "type(iseven)"
   ]
  },
  {
   "cell_type": "code",
   "execution_count": 14,
   "metadata": {
    "collapsed": true
   },
   "outputs": [],
   "source": [
    "#you can assign the function to a variable\n",
    "isreallyeven = iseven"
   ]
  },
  {
   "cell_type": "code",
   "execution_count": 15,
   "metadata": {
    "collapsed": false
   },
   "outputs": [
    {
     "name": "stdout",
     "output_type": "stream",
     "text": [
      "True\n"
     ]
    }
   ],
   "source": [
    "#and now use that variable in lieu of the function\n",
    "print(isreallyeven(14))"
   ]
  },
  {
   "cell_type": "code",
   "execution_count": 16,
   "metadata": {
    "collapsed": false
   },
   "outputs": [
    {
     "name": "stdout",
     "output_type": "stream",
     "text": [
      "14\n",
      "5\n",
      "36\n"
     ]
    }
   ],
   "source": [
    "#Another example\n",
    "#Let's create four simple calculator functions\n",
    "def add(x, y):\n",
    "    return x + y\n",
    "\n",
    "def subtract(x, y):\n",
    "    return x  - y \n",
    "\n",
    "def multiply(x, y): \n",
    "    return x * y\n",
    "\n",
    "def divide(x, y):\n",
    "    return x / y\n",
    "\n",
    "#and now, let's create a calculate function\n",
    "#we take the function passed in as the operation argument, and call it. \n",
    "#we give that function both arguments x and y\n",
    "def calculate(x, y, operation):\n",
    "    return operation(x, y)\n",
    "\n",
    "#Let's test it out\n",
    "print(calculate(10, 4, add))\n",
    "print(calculate(10, 5, subtract))\n",
    "print(calculate(4, 9, multiply))"
   ]
  },
  {
   "cell_type": "code",
   "execution_count": 17,
   "metadata": {
    "collapsed": false
   },
   "outputs": [
    {
     "name": "stdout",
     "output_type": "stream",
     "text": [
      "3\n"
     ]
    }
   ],
   "source": [
    "#Another example? Let's use some lambda functions!\n",
    "#The below function accepts a function as the key argument\n",
    "#The key is called on every value of the values argument\n",
    "#If the result of that function call is True, then we increment our counter\n",
    "def countifs(values, key):\n",
    "    count = 0 \n",
    "    for value in values: \n",
    "        if key(value):\n",
    "            count += 1\n",
    "    return count\n",
    "            \n",
    "print(countifs([\"David\", \"Hanna\", \"Celine\", \"Vladimir\"], key=lambda name: len(name) <= 6))"
   ]
  }
 ],
 "metadata": {
  "kernelspec": {
   "display_name": "Python 3",
   "language": "python",
   "name": "python3"
  },
  "language_info": {
   "codemirror_mode": {
    "name": "ipython",
    "version": 3
   },
   "file_extension": ".py",
   "mimetype": "text/x-python",
   "name": "python",
   "nbconvert_exporter": "python",
   "pygments_lexer": "ipython3",
   "version": "3.6.1"
  }
 },
 "nbformat": 4,
 "nbformat_minor": 2
}
