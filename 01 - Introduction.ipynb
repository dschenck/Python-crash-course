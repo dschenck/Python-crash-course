{
 "cells": [
  {
   "cell_type": "markdown",
   "metadata": {
    "deletable": true,
    "editable": true
   },
   "source": [
    "# Introduction\n",
    "> Class notes from a beginner-friendly Python crash-course. \n",
    "> - created by David Schenck (2019)\n",
    "\n",
    "## 1. Table of contents\n",
    "### Part 1: fundamentals of the language\n",
    "1. Introduction\n",
    "2. Installation and `hello world`\n",
    "3. Primitive types\n",
    "4. Variables\n",
    "5. Conditional structures\n",
    "6. Functions\n",
    "7. Modules and packages: a quick and dirty primer\n",
    "8. Lists\n",
    "9. Ranges\n",
    "10. Revisiting strings\n",
    "11. List comprehensions\n",
    "12. Tuples\n",
    "13. Dictionaries\n",
    "14. Sets\n",
    "15. Reading from and writing to a file\n",
    "16. Exceptions\n",
    "17. The `datetime` package\n",
    "18. The `random` package\n",
    "19. Revisiting functions: `*args` and `**kwargs`\n",
    "20. Decorators\n",
    "21. Creating our own data types\n",
    "22. Advanced object-oriented concepts: inheritence and magic methods\n",
    "23. The incredible power of regular expressions: the `re` package\n",
    "24. The `os` package\n",
    "25. Creating and installing our own packages\n",
    "26. String formatting: beyond the `str.format()` method\n",
    "\n",
    "### Part 2: intermediate Python\n",
    "[to be completed]\n",
    "\n",
    "### Part 3: advanced\n",
    "[to be completed]\n",
    "\n",
    "## 2. About the Python ecosystem\n",
    "Python can mean many things - the whole of which I define as the `Python ecosystem`. The Python ecosystem is made up of: \n",
    "1. **scripts**: files, created by end users, with written instructions, which are subsequently executed, \n",
    "2. **a grammar**: a set of syntax rules by which the scripts must abide, \n",
    "3. **an interpreter**: a program that reads, interprets and executes the scripts, \n",
    "4. **a (standard) library**: a set of pre-written scripts which we can re-use as end users, \n",
    "5. **packages**: a near-infinite set of other pre-written scripts, written by other users\n",
    "6. **editors**: software used to write scripts in; these include basic (e.g. Notepad++), interactive (Jupyter notebooks and Spyder) or integrated development environments (IDEs, such as PyCharm or VSCode)\n",
    "7. **an organisation**: the Python Software Foundation (PSF), in charge of maintaining and maturing the ecosystem"
   ]
  }
 ],
 "metadata": {
  "kernelspec": {
   "display_name": "Python 3",
   "language": "python",
   "name": "python3"
  },
  "language_info": {
   "codemirror_mode": {
    "name": "ipython",
    "version": 3
   },
   "file_extension": ".py",
   "mimetype": "text/x-python",
   "name": "python",
   "nbconvert_exporter": "python",
   "pygments_lexer": "ipython3",
   "version": "3.6.1"
  }
 },
 "nbformat": 4,
 "nbformat_minor": 2
}
