{
 "cells": [
  {
   "cell_type": "markdown",
   "metadata": {
    "deletable": true,
    "editable": true
   },
   "source": [
    "# Introduction\n",
    "> Class notes from a beginner-friendly Python crash-course. \n",
    "\n",
    "> -- created by David Schenck (2019)"
   ]
  },
  {
   "cell_type": "markdown",
   "metadata": {
    "collapsed": true,
    "deletable": true,
    "editable": true
   },
   "source": [
    "## Table of contents\n",
    "### Part 1: fundamentals of the language\n",
    "1. Introduction\n",
    "2. Installation and `hello world`\n",
    "3. Primitive types\n",
    "4. Variables\n",
    "5. Conditional structures\n",
    "6. Functions\n",
    "7. Modules and packages: a quick and dirty primer\n",
    "8. Lists\n",
    "9. Ranges\n",
    "10. Revisiting strings\n",
    "11. List comprehensions\n",
    "12. Tuples\n",
    "13. Dictionaries\n",
    "14. Sets\n",
    "15. Reading from and writing to a file\n",
    "16. Exceptions\n",
    "17. The `datetime` package\n",
    "18. The `random` package\n",
    "19. Revisiting functions: `*args` and `**kwargs`\n",
    "20. Decorators\n",
    "21. Creating our own data types\n",
    "22. Advanced object-oriented concepts: inheritence and magic methods\n",
    "23. The incredible power of regular expressions: the `re` package\n",
    "24. The `os` package\n",
    "25. Creating and installing our own packages\n",
    "26. String formatting: beyond the `str.format()` method"
   ]
  }
 ],
 "metadata": {
  "kernelspec": {
   "display_name": "Python 3",
   "language": "python",
   "name": "python3"
  },
  "language_info": {
   "codemirror_mode": {
    "name": "ipython",
    "version": 3
   },
   "file_extension": ".py",
   "mimetype": "text/x-python",
   "name": "python",
   "nbconvert_exporter": "python",
   "pygments_lexer": "ipython3",
   "version": "3.6.1"
  }
 },
 "nbformat": 4,
 "nbformat_minor": 2
}
